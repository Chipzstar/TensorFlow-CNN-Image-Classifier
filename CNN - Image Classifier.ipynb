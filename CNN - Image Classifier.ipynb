{
 "cells": [
  {
   "cell_type": "code",
   "execution_count": null,
   "metadata": {
    "pycharm": {
     "is_executing": false
    }
   },
   "outputs": [],
   "source": [
    "import tensorflow as tf\n",
    "import datetime\n",
    "import cv2\n",
    "import numpy as np\n",
    "import pandas as pd\n",
    "import matplotlib.pyplot as plt\n",
    "import os\n",
    "from collections import Counter\n",
    "from random import shuffle\n",
    "from tqdm import tqdm\n",
    "from sklearn.preprocessing import MultiLabelBinarizer\n",
    "from sklearn.preprocessing import OneHotEncoder\n",
    "from tensorflow.python.framework import graph_util\n",
    "import seaborn as sns\n",
    "%matplotlib inline"
   ]
  },
  {
   "cell_type": "code",
   "execution_count": 2,
   "metadata": {
    "pycharm": {
     "is_executing": false
    }
   },
   "outputs": [
    {
     "name": "stdout",
     "output_type": "stream",
     "text": [
      "OpenCV version: 4.1.0\n",
      "Tensorflow version: 1.14.0\n"
     ]
    }
   ],
   "source": [
    "print(f'OpenCV version: {cv2.__version__}')\n",
    "print(f'Tensorflow version: {tf.__version__}')"
   ]
  },
  {
   "cell_type": "markdown",
   "metadata": {},
   "source": [
    "# PREPROCESSING"
   ]
  },
  {
   "cell_type": "markdown",
   "metadata": {},
   "source": [
    "### Useful Parameters"
   ]
  },
  {
   "cell_type": "code",
   "execution_count": 3,
   "metadata": {
    "pycharm": {
     "is_executing": false
    }
   },
   "outputs": [
    {
     "data": {
      "text/plain": [
       "'19-Oct-2019'"
      ]
     },
     "execution_count": 3,
     "metadata": {},
     "output_type": "execute_result"
    }
   ],
   "source": [
    "DATE = datetime.datetime.now().strftime('%d-%b-%Y')\n",
    "TRAIN_DIR = 'dat'\n",
    "TEST_DIR = 'data/test'\n",
    "IMG_SIZE = 50\n",
    "LR = 1e-3\n",
    "MODEL_PATH = f'models/{DATE}'\n",
    "MODEL_NAME = 'ImageClassifier-{}.model'.format('6-conv-layer')\n",
    "NUM_CLASSES = len(next(os.walk(TRAIN_DIR))[1])\n",
    "DATE"
   ]
  },
  {
   "cell_type": "markdown",
   "metadata": {},
   "source": [
    "### Walkthrough of Subfolders in Train Directory:"
   ]
  },
  {
   "cell_type": "code",
   "execution_count": 4,
   "metadata": {
    "pycharm": {
     "is_executing": false
    }
   },
   "outputs": [
    {
     "name": "stdout",
     "output_type": "stream",
     "text": [
      "Roots = data/train\n"
     ]
    }
   ],
   "source": [
    "# Only the root\n",
    "ROOTS = next(os.walk(TRAIN_DIR))[0]\n",
    "print(f\"Roots = {ROOTS}\")"
   ]
  },
  {
   "cell_type": "code",
   "execution_count": 5,
   "metadata": {
    "pycharm": {
     "is_executing": false
    }
   },
   "outputs": [
    {
     "name": "stdout",
     "output_type": "stream",
     "text": [
      "Dirs = ['Allie Haze', 'Ariel X', 'Ariella Ferrera', 'Mellanie Monroe', 'Samantha Ryan', 'Tanya Tate']\n"
     ]
    }
   ],
   "source": [
    "# Only the directories\n",
    "DIRS = next(os.walk(TRAIN_DIR))[1]\n",
    "print(f\"Dirs = {DIRS}\")"
   ]
  },
  {
   "cell_type": "code",
   "execution_count": 6,
   "metadata": {
    "pycharm": {
     "is_executing": false
    }
   },
   "outputs": [
    {
     "name": "stdout",
     "output_type": "stream",
     "text": [
      "Allie Haze (1)\n",
      "Allie Haze (10)\n",
      "Allie Haze (11)\n",
      "Allie Haze (12)\n",
      "Allie Haze (13)\n",
      "Allie Haze (14)\n",
      "Allie Haze (15)\n",
      "Allie Haze (16)\n",
      "Allie Haze (17)\n",
      "Allie Haze (18)\n",
      "Allie Haze (19)\n",
      "Allie Haze (2)\n",
      "Allie Haze (20)\n",
      "Allie Haze (21)\n",
      "Allie Haze (22)\n",
      "Allie Haze (23)\n",
      "Allie Haze (24)\n",
      "Allie Haze (25)\n",
      "Allie Haze (26)\n",
      "Allie Haze (27)\n",
      "Allie Haze (28)\n",
      "Allie Haze (29)\n",
      "Allie Haze (3)\n",
      "Allie Haze (30)\n",
      "Allie Haze (31)\n",
      "Allie Haze (32)\n",
      "Allie Haze (33)\n",
      "Allie Haze (34)\n",
      "Allie Haze (35)\n",
      "Allie Haze (36)\n",
      "Allie Haze (37)\n",
      "Allie Haze (38)\n",
      "Allie Haze (39)\n",
      "Allie Haze (4)\n",
      "Allie Haze (40)\n",
      "Allie Haze (41)\n",
      "Allie Haze (42)\n",
      "Allie Haze (43)\n",
      "Allie Haze (44)\n",
      "Allie Haze (45)\n",
      "Allie Haze (46)\n",
      "Allie Haze (47)\n",
      "Allie Haze (48)\n",
      "Allie Haze (49)\n",
      "Allie Haze (5)\n",
      "Allie Haze (50)\n",
      "Allie Haze (51)\n",
      "Allie Haze (52)\n",
      "Allie Haze (53)\n",
      "Allie Haze (54)\n",
      "Allie Haze (55)\n",
      "Allie Haze (56)\n",
      "Allie Haze (57)\n",
      "Allie Haze (58)\n",
      "Allie Haze (59)\n",
      "Allie Haze (6)\n",
      "Allie Haze (60)\n",
      "Allie Haze (61)\n",
      "Allie Haze (62)\n",
      "Allie Haze (63)\n",
      "Allie Haze (64)\n",
      "Allie Haze (65)\n",
      "Allie Haze (66)\n",
      "Allie Haze (67)\n",
      "Allie Haze (68)\n",
      "Allie Haze (69)\n",
      "Allie Haze (7)\n",
      "Allie Haze (70)\n",
      "Allie Haze (71)\n",
      "Allie Haze (72)\n",
      "Allie Haze (73)\n",
      "Allie Haze (74)\n",
      "Allie Haze (75)\n",
      "Allie Haze (76)\n",
      "Allie Haze (77)\n",
      "Allie Haze (78)\n",
      "Allie Haze (79)\n",
      "Allie Haze (8)\n",
      "Allie Haze (80)\n",
      "Allie Haze (81)\n",
      "Allie Haze (82)\n",
      "Allie Haze (83)\n",
      "Allie Haze (9)\n",
      "Ariel X (1)\n",
      "Ariel X (10)\n",
      "Ariel X (11)\n",
      "Ariel X (12)\n",
      "Ariel X (13)\n",
      "Ariel X (14)\n",
      "Ariel X (15)\n",
      "Ariel X (16)\n",
      "Ariel X (17)\n",
      "Ariel X (18)\n",
      "Ariel X (19)\n",
      "Ariel X (2)\n",
      "Ariel X (20)\n",
      "Ariel X (21)\n",
      "Ariel X (22)\n",
      "Ariel X (23)\n",
      "Ariel X (24)\n",
      "Ariel X (25)\n",
      "Ariel X (26)\n",
      "Ariel X (27)\n",
      "Ariel X (28)\n",
      "Ariel X (29)\n",
      "Ariel X (3)\n",
      "Ariel X (30)\n",
      "Ariel X (31)\n",
      "Ariel X (32)\n",
      "Ariel X (33)\n",
      "Ariel X (34)\n",
      "Ariel X (35)\n",
      "Ariel X (36)\n",
      "Ariel X (37)\n",
      "Ariel X (38)\n",
      "Ariel X (39)\n",
      "Ariel X (4)\n",
      "Ariel X (40)\n",
      "Ariel X (41)\n",
      "Ariel X (42)\n",
      "Ariel X (43)\n",
      "Ariel X (44)\n",
      "Ariel X (45)\n",
      "Ariel X (46)\n",
      "Ariel X (47)\n",
      "Ariel X (48)\n",
      "Ariel X (49)\n",
      "Ariel X (5)\n",
      "Ariel X (50)\n",
      "Ariel X (51)\n",
      "Ariel X (52)\n",
      "Ariel X (53)\n",
      "Ariel X (54)\n",
      "Ariel X (55)\n",
      "Ariel X (56)\n",
      "Ariel X (57)\n",
      "Ariel X (58)\n",
      "Ariel X (59)\n",
      "Ariel X (6)\n",
      "Ariel X (60)\n",
      "Ariel X (61)\n",
      "Ariel X (62)\n",
      "Ariel X (63)\n",
      "Ariel X (64)\n",
      "Ariel X (65)\n",
      "Ariel X (66)\n",
      "Ariel X (67)\n",
      "Ariel X (68)\n",
      "Ariel X (69)\n",
      "Ariel X (7)\n",
      "Ariel X (70)\n",
      "Ariel X (71)\n",
      "Ariel X (72)\n",
      "Ariel X (73)\n",
      "Ariel X (74)\n",
      "Ariel X (75)\n",
      "Ariel X (76)\n",
      "Ariel X (77)\n",
      "Ariel X (78)\n",
      "Ariel X (79)\n",
      "Ariel X (8)\n",
      "Ariel X (9)\n",
      "Ariella Ferrera (1)\n",
      "Ariella Ferrera (10)\n",
      "Ariella Ferrera (100)\n",
      "Ariella Ferrera (101)\n",
      "Ariella Ferrera (102)\n",
      "Ariella Ferrera (103)\n",
      "Ariella Ferrera (104)\n",
      "Ariella Ferrera (105)\n",
      "Ariella Ferrera (106)\n",
      "Ariella Ferrera (107)\n",
      "Ariella Ferrera (108)\n",
      "Ariella Ferrera (109)\n",
      "Ariella Ferrera (11)\n",
      "Ariella Ferrera (110)\n",
      "Ariella Ferrera (111)\n",
      "Ariella Ferrera (112)\n",
      "Ariella Ferrera (113)\n",
      "Ariella Ferrera (114)\n",
      "Ariella Ferrera (115)\n",
      "Ariella Ferrera (116)\n",
      "Ariella Ferrera (117)\n",
      "Ariella Ferrera (118)\n",
      "Ariella Ferrera (119)\n",
      "Ariella Ferrera (12)\n",
      "Ariella Ferrera (13)\n",
      "Ariella Ferrera (14)\n",
      "Ariella Ferrera (15)\n",
      "Ariella Ferrera (16)\n",
      "Ariella Ferrera (17)\n",
      "Ariella Ferrera (18)\n",
      "Ariella Ferrera (19)\n",
      "Ariella Ferrera (2)\n",
      "Ariella Ferrera (20)\n",
      "Ariella Ferrera (21)\n",
      "Ariella Ferrera (22)\n",
      "Ariella Ferrera (23)\n",
      "Ariella Ferrera (24)\n",
      "Ariella Ferrera (25)\n",
      "Ariella Ferrera (26)\n",
      "Ariella Ferrera (27)\n",
      "Ariella Ferrera (28)\n",
      "Ariella Ferrera (29)\n",
      "Ariella Ferrera (3)\n",
      "Ariella Ferrera (30)\n",
      "Ariella Ferrera (31)\n",
      "Ariella Ferrera (32)\n",
      "Ariella Ferrera (33)\n",
      "Ariella Ferrera (34)\n",
      "Ariella Ferrera (35)\n",
      "Ariella Ferrera (36)\n",
      "Ariella Ferrera (37)\n",
      "Ariella Ferrera (38)\n",
      "Ariella Ferrera (39)\n",
      "Ariella Ferrera (4)\n",
      "Ariella Ferrera (40)\n",
      "Ariella Ferrera (41)\n",
      "Ariella Ferrera (42)\n",
      "Ariella Ferrera (43)\n",
      "Ariella Ferrera (44)\n",
      "Ariella Ferrera (45)\n",
      "Ariella Ferrera (46)\n",
      "Ariella Ferrera (47)\n",
      "Ariella Ferrera (48)\n",
      "Ariella Ferrera (49)\n",
      "Ariella Ferrera (5)\n",
      "Ariella Ferrera (50)\n",
      "Ariella Ferrera (51)\n",
      "Ariella Ferrera (52)\n",
      "Ariella Ferrera (53)\n",
      "Ariella Ferrera (54)\n",
      "Ariella Ferrera (55)\n",
      "Ariella Ferrera (56)\n",
      "Ariella Ferrera (57)\n",
      "Ariella Ferrera (58)\n",
      "Ariella Ferrera (59)\n",
      "Ariella Ferrera (6)\n",
      "Ariella Ferrera (60)\n",
      "Ariella Ferrera (61)\n",
      "Ariella Ferrera (62)\n",
      "Ariella Ferrera (63)\n",
      "Ariella Ferrera (64)\n",
      "Ariella Ferrera (65)\n",
      "Ariella Ferrera (66)\n",
      "Ariella Ferrera (67)\n",
      "Ariella Ferrera (68)\n",
      "Ariella Ferrera (69)\n",
      "Ariella Ferrera (7)\n",
      "Ariella Ferrera (70)\n",
      "Ariella Ferrera (71)\n",
      "Ariella Ferrera (72)\n",
      "Ariella Ferrera (73)\n",
      "Ariella Ferrera (74)\n",
      "Ariella Ferrera (75)\n",
      "Ariella Ferrera (76)\n",
      "Ariella Ferrera (77)\n",
      "Ariella Ferrera (78)\n",
      "Ariella Ferrera (79)\n",
      "Ariella Ferrera (8)\n",
      "Ariella Ferrera (80)\n",
      "Ariella Ferrera (81)\n",
      "Ariella Ferrera (82)\n",
      "Ariella Ferrera (83)\n",
      "Ariella Ferrera (84)\n",
      "Ariella Ferrera (85)\n",
      "Ariella Ferrera (86)\n",
      "Ariella Ferrera (87)\n",
      "Ariella Ferrera (88)\n",
      "Ariella Ferrera (89)\n",
      "Ariella Ferrera (9)\n",
      "Ariella Ferrera (90)\n",
      "Ariella Ferrera (91)\n",
      "Ariella Ferrera (92)\n",
      "Ariella Ferrera (93)\n",
      "Ariella Ferrera (94)\n",
      "Ariella Ferrera (95)\n",
      "Ariella Ferrera (96)\n",
      "Ariella Ferrera (97)\n",
      "Ariella Ferrera (98)\n",
      "Ariella Ferrera (99)\n",
      "Mellanie Monroe (1)\n",
      "Mellanie Monroe (10)\n",
      "Mellanie Monroe (11)\n",
      "Mellanie Monroe (12)\n",
      "Mellanie Monroe (13)\n",
      "Mellanie Monroe (14)\n",
      "Mellanie Monroe (15)\n",
      "Mellanie Monroe (16)\n",
      "Mellanie Monroe (17)\n",
      "Mellanie Monroe (18)\n",
      "Mellanie Monroe (19)\n",
      "Mellanie Monroe (2)\n",
      "Mellanie Monroe (20)\n",
      "Mellanie Monroe (21)\n",
      "Mellanie Monroe (22)\n",
      "Mellanie Monroe (23)\n",
      "Mellanie Monroe (24)\n",
      "Mellanie Monroe (25)\n",
      "Mellanie Monroe (26)\n",
      "Mellanie Monroe (27)\n",
      "Mellanie Monroe (28)\n",
      "Mellanie Monroe (29)\n",
      "Mellanie Monroe (3)\n",
      "Mellanie Monroe (30)\n",
      "Mellanie Monroe (31)\n",
      "Mellanie Monroe (32)\n",
      "Mellanie Monroe (33)\n",
      "Mellanie Monroe (34)\n",
      "Mellanie Monroe (35)\n",
      "Mellanie Monroe (36)\n",
      "Mellanie Monroe (37)\n",
      "Mellanie Monroe (38)\n",
      "Mellanie Monroe (39)\n",
      "Mellanie Monroe (4)\n",
      "Mellanie Monroe (40)\n",
      "Mellanie Monroe (41)\n",
      "Mellanie Monroe (42)\n",
      "Mellanie Monroe (43)\n",
      "Mellanie Monroe (44)\n",
      "Mellanie Monroe (45)\n",
      "Mellanie Monroe (46)\n",
      "Mellanie Monroe (47)\n",
      "Mellanie Monroe (48)\n",
      "Mellanie Monroe (49)\n",
      "Mellanie Monroe (5)\n",
      "Mellanie Monroe (50)\n",
      "Mellanie Monroe (51)\n",
      "Mellanie Monroe (52)\n",
      "Mellanie Monroe (53)\n",
      "Mellanie Monroe (54)\n",
      "Mellanie Monroe (55)\n",
      "Mellanie Monroe (56)\n",
      "Mellanie Monroe (57)\n",
      "Mellanie Monroe (58)\n",
      "Mellanie Monroe (59)\n",
      "Mellanie Monroe (6)\n",
      "Mellanie Monroe (60)\n",
      "Mellanie Monroe (61)\n",
      "Mellanie Monroe (62)\n",
      "Mellanie Monroe (63)\n",
      "Mellanie Monroe (64)\n",
      "Mellanie Monroe (65)\n",
      "Mellanie Monroe (66)\n",
      "Mellanie Monroe (67)\n",
      "Mellanie Monroe (68)\n",
      "Mellanie Monroe (69)\n",
      "Mellanie Monroe (7)\n",
      "Mellanie Monroe (70)\n",
      "Mellanie Monroe (71)\n",
      "Mellanie Monroe (72)\n",
      "Mellanie Monroe (73)\n",
      "Mellanie Monroe (74)\n",
      "Mellanie Monroe (75)\n",
      "Mellanie Monroe (76)\n",
      "Mellanie Monroe (77)\n",
      "Mellanie Monroe (78)\n",
      "Mellanie Monroe (79)\n",
      "Mellanie Monroe (8)\n",
      "Mellanie Monroe (80)\n",
      "Mellanie Monroe (81)\n",
      "Mellanie Monroe (82)\n",
      "Mellanie Monroe (83)\n",
      "Mellanie Monroe (84)\n",
      "Mellanie Monroe (85)\n",
      "Mellanie Monroe (86)\n",
      "Mellanie Monroe (87)\n",
      "Mellanie Monroe (88)\n",
      "Mellanie Monroe (89)\n",
      "Mellanie Monroe (9)\n",
      "Samantha Ryan (1)\n",
      "Samantha Ryan (10)\n",
      "Samantha Ryan (11)\n",
      "Samantha Ryan (12)\n",
      "Samantha Ryan (13)\n",
      "Samantha Ryan (14)\n",
      "Samantha Ryan (15)\n",
      "Samantha Ryan (16)\n",
      "Samantha Ryan (17)\n",
      "Samantha Ryan (18)\n",
      "Samantha Ryan (19)\n",
      "Samantha Ryan (2)\n",
      "Samantha Ryan (20)\n",
      "Samantha Ryan (21)\n",
      "Samantha Ryan (22)\n",
      "Samantha Ryan (23)\n",
      "Samantha Ryan (24)\n",
      "Samantha Ryan (25)\n",
      "Samantha Ryan (26)\n",
      "Samantha Ryan (27)\n",
      "Samantha Ryan (28)\n",
      "Samantha Ryan (29)\n",
      "Samantha Ryan (3)\n",
      "Samantha Ryan (30)\n",
      "Samantha Ryan (31)\n",
      "Samantha Ryan (32)\n",
      "Samantha Ryan (33)\n",
      "Samantha Ryan (34)\n",
      "Samantha Ryan (35)\n",
      "Samantha Ryan (36)\n",
      "Samantha Ryan (37)\n",
      "Samantha Ryan (38)\n",
      "Samantha Ryan (39)\n",
      "Samantha Ryan (4)\n",
      "Samantha Ryan (40)\n",
      "Samantha Ryan (41)\n",
      "Samantha Ryan (42)\n",
      "Samantha Ryan (43)\n",
      "Samantha Ryan (44)\n",
      "Samantha Ryan (45)\n",
      "Samantha Ryan (46)\n",
      "Samantha Ryan (47)\n",
      "Samantha Ryan (48)\n",
      "Samantha Ryan (49)\n",
      "Samantha Ryan (5)\n",
      "Samantha Ryan (50)\n",
      "Samantha Ryan (6)\n",
      "Samantha Ryan (7)\n",
      "Samantha Ryan (8)\n",
      "Samantha Ryan (9)\n",
      "Tanya Tate (1)\n",
      "Tanya Tate (10)\n",
      "Tanya Tate (100)\n",
      "Tanya Tate (101)\n",
      "Tanya Tate (102)\n",
      "Tanya Tate (103)\n",
      "Tanya Tate (11)\n",
      "Tanya Tate (12)\n",
      "Tanya Tate (13)\n",
      "Tanya Tate (14)\n",
      "Tanya Tate (15)\n",
      "Tanya Tate (16)\n",
      "Tanya Tate (17)\n",
      "Tanya Tate (18)\n",
      "Tanya Tate (19)\n",
      "Tanya Tate (2)\n",
      "Tanya Tate (20)\n",
      "Tanya Tate (21)\n",
      "Tanya Tate (22)\n",
      "Tanya Tate (23)\n",
      "Tanya Tate (24)\n",
      "Tanya Tate (25)\n",
      "Tanya Tate (26)\n",
      "Tanya Tate (27)\n",
      "Tanya Tate (28)\n",
      "Tanya Tate (29)\n",
      "Tanya Tate (3)\n",
      "Tanya Tate (30)\n",
      "Tanya Tate (31)\n",
      "Tanya Tate (32)\n",
      "Tanya Tate (33)\n",
      "Tanya Tate (34)\n",
      "Tanya Tate (35)\n",
      "Tanya Tate (36)\n",
      "Tanya Tate (37)\n",
      "Tanya Tate (38)\n",
      "Tanya Tate (39)\n",
      "Tanya Tate (4)\n",
      "Tanya Tate (40)\n",
      "Tanya Tate (41)\n",
      "Tanya Tate (42)\n",
      "Tanya Tate (43)\n",
      "Tanya Tate (44)\n",
      "Tanya Tate (45)\n",
      "Tanya Tate (46)\n",
      "Tanya Tate (47)\n",
      "Tanya Tate (48)\n",
      "Tanya Tate (49)\n",
      "Tanya Tate (5)\n",
      "Tanya Tate (50)\n",
      "Tanya Tate (51)\n",
      "Tanya Tate (52)\n",
      "Tanya Tate (53)\n",
      "Tanya Tate (54)\n",
      "Tanya Tate (55)\n",
      "Tanya Tate (56)\n",
      "Tanya Tate (57)\n",
      "Tanya Tate (58)\n",
      "Tanya Tate (59)\n",
      "Tanya Tate (6)\n",
      "Tanya Tate (60)\n",
      "Tanya Tate (61)\n",
      "Tanya Tate (62)\n",
      "Tanya Tate (63)\n",
      "Tanya Tate (64)\n",
      "Tanya Tate (65)\n",
      "Tanya Tate (66)\n",
      "Tanya Tate (67)\n",
      "Tanya Tate (68)\n",
      "Tanya Tate (69)\n",
      "Tanya Tate (7)\n",
      "Tanya Tate (70)\n",
      "Tanya Tate (71)\n",
      "Tanya Tate (72)\n",
      "Tanya Tate (73)\n",
      "Tanya Tate (74)\n",
      "Tanya Tate (75)\n",
      "Tanya Tate (76)\n",
      "Tanya Tate (77)\n",
      "Tanya Tate (78)\n",
      "Tanya Tate (79)\n",
      "Tanya Tate (8)\n",
      "Tanya Tate (80)\n",
      "Tanya Tate (81)\n",
      "Tanya Tate (82)\n",
      "Tanya Tate (83)\n",
      "Tanya Tate (84)\n",
      "Tanya Tate (85)\n",
      "Tanya Tate (86)\n",
      "Tanya Tate (87)\n",
      "Tanya Tate (88)\n",
      "Tanya Tate (89)\n",
      "Tanya Tate (9)\n",
      "Tanya Tate (90)\n",
      "Tanya Tate (91)\n",
      "Tanya Tate (92)\n",
      "Tanya Tate (93)\n",
      "Tanya Tate (94)\n",
      "Tanya Tate (95)\n",
      "Tanya Tate (96)\n",
      "Tanya Tate (97)\n",
      "Tanya Tate (98)\n",
      "Tanya Tate (99)\n"
     ]
    }
   ],
   "source": [
    "# Only the files\n",
    "for root, dirs, files in os.walk(TRAIN_DIR):\n",
    "    for name in files:\n",
    "        print(name.split('.')[0]) # filters the file name by file extension and the copy_number\n",
    "        "
   ]
  },
  {
   "cell_type": "markdown",
   "metadata": {},
   "source": [
    "### Generation of Image classes"
   ]
  },
  {
   "cell_type": "code",
   "execution_count": 7,
   "metadata": {
    "pycharm": {
     "is_executing": false
    }
   },
   "outputs": [
    {
     "data": {
      "text/plain": [
       "'def get_class_labels():\\n    labels = []\\n    for root, dirs, files in os.walk(TRAIN_DIR):\\n        path = root.split(os.sep)\\n        for subfolder in dirs:\\n            name = subfolder.split()\\n            class_label = \"\".join([letter[0] for letter in name])\\n            labels.append(class_label)\\n    return labels'"
      ]
     },
     "execution_count": 7,
     "metadata": {},
     "output_type": "execute_result"
    }
   ],
   "source": [
    "# Used for abbreviating the class names NOT USED\n",
    "\n",
    "\"\"\"def get_class_labels():\n",
    "    labels = []\n",
    "    for root, dirs, files in os.walk(TRAIN_DIR):\n",
    "        path = root.split(os.sep)\n",
    "        for subfolder in dirs:\n",
    "            name = subfolder.split()\n",
    "            class_label = \"\".join([letter[0] for letter in name])\n",
    "            labels.append(class_label)\n",
    "    return labels\"\"\""
   ]
  },
  {
   "cell_type": "markdown",
   "metadata": {},
   "source": [
    "### One-Hot Encoding"
   ]
  },
  {
   "cell_type": "code",
   "execution_count": 8,
   "metadata": {
    "pycharm": {
     "is_executing": false
    }
   },
   "outputs": [],
   "source": [
    "LABELS = next(os.walk(TRAIN_DIR))[1] # all the class labels (pornstar names) to be used\n",
    "LABELS = np.reshape(LABELS, (-1, 1)) # reshapes array from 1D to 2D array\n",
    "mlb = MultiLabelBinarizer()\n",
    "encoded_labels = np.array(mlb.fit_transform(LABELS))"
   ]
  },
  {
   "cell_type": "code",
   "execution_count": 9,
   "metadata": {
    "pycharm": {
     "is_executing": false
    }
   },
   "outputs": [
    {
     "data": {
      "text/plain": [
       "{'Allie Haze': array([1, 0, 0, 0, 0, 0]),\n",
       " 'Ariel X': array([0, 1, 0, 0, 0, 0]),\n",
       " 'Ariella Ferrera': array([0, 0, 1, 0, 0, 0]),\n",
       " 'Mellanie Monroe': array([0, 0, 0, 1, 0, 0]),\n",
       " 'Samantha Ryan': array([0, 0, 0, 0, 1, 0]),\n",
       " 'Tanya Tate': array([0, 0, 0, 0, 0, 1])}"
      ]
     },
     "execution_count": 9,
     "metadata": {},
     "output_type": "execute_result"
    }
   ],
   "source": [
    "dict(zip(LABELS.flatten(), encoded_labels))"
   ]
  },
  {
   "cell_type": "code",
   "execution_count": 10,
   "metadata": {
    "pycharm": {
     "is_executing": false
    }
   },
   "outputs": [],
   "source": [
    "\"\"\"\n",
    "Labelled training data\n",
    "\"\"\"\n",
    "def create_train_data():\n",
    "    training_data = []\n",
    "    # iterate over each image-class (subfolder) in training directory\n",
    "    for folder in tqdm(os.listdir(TRAIN_DIR)):\n",
    "        full_path = f'{TRAIN_DIR}/{folder}'\n",
    "        # iterate over each image in each subfolder\n",
    "        for img in os.listdir(full_path):\n",
    "            img_name = img.split('.')[0].split('(')[0]  # filters the file name by file extension and the copy_number\n",
    "            img_name = img_name.strip() # removes any leading and trailing whitespaces from the img name\n",
    "            label = mlb.transform([[img_name]]) # encodes the label of the image using MultiLabelBinarizer\n",
    "            label = label.flatten()  # converts encoded label from 2D to 1D array\n",
    "            # print(f'Image: {img} - Encoding:{label}')\n",
    "            path = os.path.join(full_path, img)  # full path of the image\n",
    "            # feature extraction\n",
    "            img = cv2.resize(cv2.imread(path, cv2.IMREAD_GRAYSCALE), (IMG_SIZE, IMG_SIZE))\n",
    "            training_data.append([np.array(img), np.array(label)])\n",
    "    shuffle(training_data)\n",
    "    np.save('train_data.npy', training_data)\n",
    "    return training_data"
   ]
  },
  {
   "cell_type": "code",
   "execution_count": 11,
   "metadata": {
    "pycharm": {
     "is_executing": false
    }
   },
   "outputs": [],
   "source": [
    "\"\"\"\n",
    "Unlabelled test data\n",
    "\"\"\"\n",
    "def process_test_data():\n",
    "    testing_data = []\n",
    "    for img in tqdm(os.listdir(TEST_DIR)):\n",
    "        path = os.path.join(TEST_DIR, img)\n",
    "        img_num = img.split('.')[0]\n",
    "        img = cv2.resize(cv2.imread(path, cv2.IMREAD_GRAYSCALE), (IMG_SIZE, IMG_SIZE))\n",
    "        testing_data.append([np.array(img), img_num])\n",
    "    np.save('test_data.npy', testing_data)\n",
    "    return testing_data"
   ]
  },
  {
   "cell_type": "code",
   "execution_count": 12,
   "metadata": {
    "pycharm": {
     "is_executing": false
    }
   },
   "outputs": [],
   "source": [
    "# train_data = create_train_data()\n",
    "# test_data = process_test_data()\n",
    "# if train/test data already exists\n",
    "train_data = np.load('train_data.npy', allow_pickle=True)\n",
    "test_data = np.load('test_data.npy', allow_pickle=True)"
   ]
  },
  {
   "cell_type": "markdown",
   "metadata": {},
   "source": [
    "# BUILDING THE MODEL"
   ]
  },
  {
   "cell_type": "markdown",
   "metadata": {},
   "source": [
    "### Implementation of Convoluted Neural Network"
   ]
  },
  {
   "cell_type": "code",
   "execution_count": 13,
   "metadata": {
    "pycharm": {
     "is_executing": false
    }
   },
   "outputs": [
    {
     "name": "stdout",
     "output_type": "stream",
     "text": [
      "curses is not supported on this machine (please install/reinstall curses for an optimal experience)\n"
     ]
    },
    {
     "name": "stderr",
     "output_type": "stream",
     "text": [
      "WARNING: Logging before flag parsing goes to stderr.\n",
      "W1019 16:03:03.908814 16220 deprecation_wrapper.py:119] From C:\\Users\\chiso\\Anaconda3\\envs\\tensorflow\\lib\\site-packages\\tflearn\\helpers\\summarizer.py:9: The name tf.summary.merge is deprecated. Please use tf.compat.v1.summary.merge instead.\n",
      "\n",
      "W1019 16:03:03.912804 16220 deprecation_wrapper.py:119] From C:\\Users\\chiso\\Anaconda3\\envs\\tensorflow\\lib\\site-packages\\tflearn\\helpers\\trainer.py:25: The name tf.summary.FileWriter is deprecated. Please use tf.compat.v1.summary.FileWriter instead.\n",
      "\n",
      "W1019 16:03:03.938735 16220 deprecation_wrapper.py:119] From C:\\Users\\chiso\\Anaconda3\\envs\\tensorflow\\lib\\site-packages\\tflearn\\collections.py:13: The name tf.GraphKeys is deprecated. Please use tf.compat.v1.GraphKeys instead.\n",
      "\n",
      "W1019 16:03:03.955692 16220 deprecation_wrapper.py:119] From C:\\Users\\chiso\\Anaconda3\\envs\\tensorflow\\lib\\site-packages\\tflearn\\config.py:123: The name tf.get_collection is deprecated. Please use tf.compat.v1.get_collection instead.\n",
      "\n",
      "W1019 16:03:03.978630 16220 deprecation_wrapper.py:119] From C:\\Users\\chiso\\Anaconda3\\envs\\tensorflow\\lib\\site-packages\\tflearn\\config.py:129: The name tf.add_to_collection is deprecated. Please use tf.compat.v1.add_to_collection instead.\n",
      "\n",
      "W1019 16:03:03.981620 16220 deprecation_wrapper.py:119] From C:\\Users\\chiso\\Anaconda3\\envs\\tensorflow\\lib\\site-packages\\tflearn\\config.py:131: The name tf.assign is deprecated. Please use tf.compat.v1.assign instead.\n",
      "\n"
     ]
    }
   ],
   "source": [
    "import tflearn\n",
    "from tflearn.layers.conv import conv_2d, max_pool_2d\n",
    "from tflearn.layers.core import input_data, dropout, fully_connected\n",
    "from tflearn.layers.estimator import regression\n",
    "\n",
    "def create_cnn_model():\n",
    "    tf.reset_default_graph()\n",
    "\n",
    "    # INPUT_LAYER\n",
    "    convnet = input_data(shape=[None, IMG_SIZE, IMG_SIZE, 1], name='input')\n",
    "\n",
    "    # HIDDEN_LAYER_1\n",
    "    convnet = conv_2d(convnet, 32, 6, activation='relu')\n",
    "    convnet = max_pool_2d(convnet, 6)\n",
    "\n",
    "    # HIDDEN_LAYER_2\n",
    "    convnet = conv_2d(convnet, 64, 6, activation='relu')\n",
    "    convnet = max_pool_2d(convnet, 6)\n",
    "\n",
    "    # HIDDEN_LAYER_3\n",
    "    convnet = conv_2d(convnet, 128, 6, activation='relu')\n",
    "    convnet = max_pool_2d(convnet, 6)\n",
    "\n",
    "    # HIDDEN_LAYER_4\n",
    "    convnet = conv_2d(convnet, 32, 6, activation='relu')\n",
    "    convnet = max_pool_2d(convnet, 6)\n",
    "\n",
    "    # HIDDEN_LAYER_5\n",
    "    convnet = conv_2d(convnet, 64, 6, activation='relu')\n",
    "    convnet = max_pool_2d(convnet, 6)\n",
    "\n",
    "    # HIDDEN_LAYER_6\n",
    "    convnet = conv_2d(convnet, 128, 6, activation='relu')\n",
    "    convnet = max_pool_2d(convnet, 6)\n",
    "\n",
    "    # FULLY_CONNECTED_LAYER\n",
    "    convnet = fully_connected(convnet, 1024, activation='relu')\n",
    "    convnet = dropout(convnet, 0.8)\n",
    "\n",
    "    # OUTPUT LAYER\n",
    "    convnet = fully_connected(convnet, NUM_CLASSES, activation='softmax')\n",
    "    convnet = regression(convnet, optimizer='adam', learning_rate=LR, loss='categorical_crossentropy', name='targets')\n",
    "\n",
    "    model = tflearn.DNN(convnet, tensorboard_dir='log')\n",
    "    return convnet, model "
   ]
  },
  {
   "cell_type": "code",
   "execution_count": 14,
   "metadata": {
    "pycharm": {
     "is_executing": false
    }
   },
   "outputs": [
    {
     "name": "stderr",
     "output_type": "stream",
     "text": [
      "W1019 16:03:04.004656 16220 deprecation_wrapper.py:119] From C:\\Users\\chiso\\Anaconda3\\envs\\tensorflow\\lib\\site-packages\\tflearn\\layers\\core.py:81: The name tf.placeholder is deprecated. Please use tf.compat.v1.placeholder instead.\n",
      "\n",
      "W1019 16:03:04.009546 16220 deprecation.py:506] From C:\\Users\\chiso\\Anaconda3\\envs\\tensorflow\\lib\\site-packages\\tflearn\\initializations.py:119: calling UniformUnitScaling.__init__ (from tensorflow.python.ops.init_ops) with dtype is deprecated and will be removed in a future version.\n",
      "Instructions for updating:\n",
      "Call initializer instance with the dtype argument instead of passing it to the constructor\n",
      "W1019 16:03:04.011540 16220 deprecation.py:323] From C:\\Users\\chiso\\Anaconda3\\envs\\tensorflow\\lib\\site-packages\\tensorflow\\python\\util\\deprecation.py:507: UniformUnitScaling.__init__ (from tensorflow.python.ops.init_ops) is deprecated and will be removed in a future version.\n",
      "Instructions for updating:\n",
      "Use tf.initializers.variance_scaling instead with distribution=uniform to get equivalent behavior.\n",
      "W1019 16:03:04.040463 16220 deprecation_wrapper.py:119] From C:\\Users\\chiso\\Anaconda3\\envs\\tensorflow\\lib\\site-packages\\tflearn\\layers\\conv.py:552: The name tf.nn.max_pool is deprecated. Please use tf.nn.max_pool2d instead.\n",
      "\n",
      "W1019 16:03:04.145184 16220 deprecation.py:506] From C:\\Users\\chiso\\Anaconda3\\envs\\tensorflow\\lib\\site-packages\\tflearn\\initializations.py:174: calling TruncatedNormal.__init__ (from tensorflow.python.ops.init_ops) with dtype is deprecated and will be removed in a future version.\n",
      "Instructions for updating:\n",
      "Call initializer instance with the dtype argument instead of passing it to the constructor\n",
      "W1019 16:03:04.185077 16220 deprecation.py:506] From C:\\Users\\chiso\\Anaconda3\\envs\\tensorflow\\lib\\site-packages\\tflearn\\layers\\core.py:239: calling dropout (from tensorflow.python.ops.nn_ops) with keep_prob is deprecated and will be removed in a future version.\n",
      "Instructions for updating:\n",
      "Please use `rate` instead of `keep_prob`. Rate should be set to `rate = 1 - keep_prob`.\n",
      "W1019 16:03:04.721641 16220 deprecation_wrapper.py:119] From C:\\Users\\chiso\\Anaconda3\\envs\\tensorflow\\lib\\site-packages\\tflearn\\optimizers.py:238: The name tf.train.AdamOptimizer is deprecated. Please use tf.compat.v1.train.AdamOptimizer instead.\n",
      "\n",
      "W1019 16:03:04.837330 16220 deprecation.py:506] From C:\\Users\\chiso\\Anaconda3\\envs\\tensorflow\\lib\\site-packages\\tflearn\\objectives.py:66: calling reduce_sum_v1 (from tensorflow.python.ops.math_ops) with keep_dims is deprecated and will be removed in a future version.\n",
      "Instructions for updating:\n",
      "keep_dims is deprecated, use keepdims instead\n",
      "W1019 16:03:04.918115 16220 deprecation_wrapper.py:119] From C:\\Users\\chiso\\Anaconda3\\envs\\tensorflow\\lib\\site-packages\\tflearn\\summaries.py:46: The name tf.summary.scalar is deprecated. Please use tf.compat.v1.summary.scalar instead.\n",
      "\n",
      "W1019 16:03:04.981944 16220 deprecation.py:323] From C:\\Users\\chiso\\Anaconda3\\envs\\tensorflow\\lib\\site-packages\\tensorflow\\python\\ops\\math_grad.py:1250: add_dispatch_support.<locals>.wrapper (from tensorflow.python.ops.array_ops) is deprecated and will be removed in a future version.\n",
      "Instructions for updating:\n",
      "Use tf.where in 2.0, which has the same broadcast rule as np.where\n",
      "W1019 16:03:06.026150 16220 deprecation_wrapper.py:119] From C:\\Users\\chiso\\Anaconda3\\envs\\tensorflow\\lib\\site-packages\\tflearn\\helpers\\trainer.py:134: The name tf.train.Saver is deprecated. Please use tf.compat.v1.train.Saver instead.\n",
      "\n"
     ]
    }
   ],
   "source": [
    "CONVNET, MODEL = create_cnn_model()\n",
    "if os.path.exists(f'{MODEL_PATH}/{MODEL_NAME}.meta'):\n",
    "    MODEL.load(f'{MODEL_PATH}/{MODEL_NAME}')\n",
    "    print('model loaded!')"
   ]
  },
  {
   "cell_type": "markdown",
   "metadata": {},
   "source": [
    "# TRAINING THE NETWORK"
   ]
  },
  {
   "cell_type": "code",
   "execution_count": 15,
   "metadata": {
    "pycharm": {
     "is_executing": false
    }
   },
   "outputs": [],
   "source": [
    "train = train_data[:-100] # sample train data\n",
    "test = train_data[-100:]"
   ]
  },
  {
   "cell_type": "markdown",
   "metadata": {},
   "source": [
    "### Frequency distribution of classes being used in \"test data\""
   ]
  },
  {
   "cell_type": "code",
   "execution_count": 16,
   "metadata": {
    "pycharm": {
     "is_executing": false
    }
   },
   "outputs": [
    {
     "data": {
      "text/plain": [
       "Counter({('Ariella Ferrera',): 20,\n",
       "         ('Ariel X',): 21,\n",
       "         ('Mellanie Monroe',): 18,\n",
       "         ('Allie Haze',): 15,\n",
       "         ('Samantha Ryan',): 9,\n",
       "         ('Tanya Tate',): 17})"
      ]
     },
     "execution_count": 16,
     "metadata": {},
     "output_type": "execute_result"
    }
   ],
   "source": [
    "enc = []\n",
    "for img in test:\n",
    "    enc.append(img[1])\n",
    "    \n",
    "enc = np.array(enc)\n",
    "test_labels = mlb.inverse_transform(enc)\n",
    "c = Counter(test_labels)\n",
    "c"
   ]
  },
  {
   "cell_type": "code",
   "execution_count": 17,
   "metadata": {
    "pycharm": {
     "is_executing": false
    }
   },
   "outputs": [],
   "source": [
    "X = np.array([i[0] for i in train]).reshape(-1, IMG_SIZE, IMG_SIZE, 1)\n",
    "Y = [i[1] for i in train]\n",
    "\n",
    "test_X = np.array([i[0] for i in test]).reshape(-1, IMG_SIZE, IMG_SIZE, 1)\n",
    "test_Y = [i[1] for i in test]"
   ]
  },
  {
   "cell_type": "code",
   "execution_count": 18,
   "metadata": {
    "pycharm": {
     "is_executing": false
    }
   },
   "outputs": [
    {
     "name": "stdout",
     "output_type": "stream",
     "text": [
      "Training Step: 699  | total loss: 0.66162 | time: 1.888s\n",
      "\r",
      "| Adam | epoch: 100 | loss: 0.66162 - acc: 0.9246 -- iter: 384/423\n",
      "Training Step: 700  | total loss: 0.59645 | time: 3.119s\n",
      "\r",
      "| Adam | epoch: 100 | loss: 0.59645 - acc: 0.9321 | val_loss: 0.84504 - val_acc: 0.8100 -- iter: 423/423\n",
      "--\n"
     ]
    }
   ],
   "source": [
    "MODEL.fit({'input': X}, {'targets': Y}, n_epoch=100, validation_set=({'input': test_X}, {'targets': test_Y}), \n",
    "    snapshot_step=500, show_metric=True, run_id=MODEL_NAME)"
   ]
  },
  {
   "cell_type": "code",
   "execution_count": 19,
   "metadata": {
    "pycharm": {
     "is_executing": false
    }
   },
   "outputs": [],
   "source": [
    "with CONVNET.graph.as_default():\n",
    "    del tf.get_collection_ref(tf.GraphKeys.TRAIN_OPS)[:]  # gets rid of all useless training attributes in the model graph\n",
    "MODEL.save(f'{MODEL_PATH}/{MODEL_NAME}')"
   ]
  },
  {
   "cell_type": "markdown",
   "metadata": {},
   "source": [
    "### Convert model to TensorFlow Lite format"
   ]
  },
  {
   "cell_type": "code",
   "execution_count": 20,
   "metadata": {
    "pycharm": {
     "is_executing": false
    }
   },
   "outputs": [
    {
     "name": "stderr",
     "output_type": "stream",
     "text": [
      "W1019 16:08:45.956427 16220 deprecation_wrapper.py:119] From C:\\Users\\chiso\\Google Drive Developer\\Humandroid\\Workspace\\freeze_model.py:18: The name tf.train.import_meta_graph is deprecated. Please use tf.compat.v1.train.import_meta_graph instead.\n",
      "\n",
      "W1019 16:08:46.561808 16220 deprecation.py:323] From C:\\Users\\chiso\\Anaconda3\\envs\\tensorflow\\lib\\site-packages\\tensorflow\\python\\training\\saver.py:1276: checkpoint_exists (from tensorflow.python.training.checkpoint_management) is deprecated and will be removed in a future version.\n",
      "Instructions for updating:\n",
      "Use standard file APIs to check for files with this prefix.\n",
      "W1019 16:08:46.753294 16220 deprecation.py:323] From C:\\Users\\chiso\\Google Drive Developer\\Humandroid\\Workspace\\freeze_model.py:23: convert_variables_to_constants (from tensorflow.python.framework.graph_util_impl) is deprecated and will be removed in a future version.\n",
      "Instructions for updating:\n",
      "Use `tf.compat.v1.graph_util.convert_variables_to_constants`\n",
      "W1019 16:08:46.757285 16220 deprecation.py:323] From C:\\Users\\chiso\\Anaconda3\\envs\\tensorflow\\lib\\site-packages\\tensorflow\\python\\framework\\graph_util_impl.py:270: extract_sub_graph (from tensorflow.python.framework.graph_util_impl) is deprecated and will be removed in a future version.\n",
      "Instructions for updating:\n",
      "Use `tf.compat.v1.graph_util.extract_sub_graph`\n"
     ]
    },
    {
     "name": "stdout",
     "output_type": "stream",
     "text": [
      "Graph successfully frozen!\n",
      "File: 'frozen_model.pb' created successfully!\n"
     ]
    }
   ],
   "source": [
    "%run freeze_model.py"
   ]
  },
  {
   "cell_type": "code",
   "execution_count": 21,
   "metadata": {
    "pycharm": {
     "is_executing": false
    }
   },
   "outputs": [
    {
     "name": "stdout",
     "output_type": "stream",
     "text": [
      "output name = \n",
      "FullyConnected_1/Softmax \n",
      "\n",
      "Input name = \n",
      "input/X \n",
      "\n"
     ]
    }
   ],
   "source": [
    "filename = 'tensorboard_nodes.txt'\n",
    "gf = tf.GraphDef()   \n",
    "m_file = open('frozen_model.pb','rb')\n",
    "gf.ParseFromString(m_file.read())\n",
    "\n",
    "open(filename, \"w\").close() # clears prev file contents\n",
    "with open(filename, 'a') as file:\n",
    "    for n in gf.node:\n",
    "        file.write(f'{n.name} \\n')\n",
    "\n",
    "file = open(filename,'r')\n",
    "data = file.readlines()\n",
    "print(\"output name = \")\n",
    "print(data[len(data)-1])\n",
    "\n",
    "print(\"Input name = \")\n",
    "file.seek(0)\n",
    "print(file.readline())\n",
    "file.close()"
   ]
  },
  {
   "cell_type": "code",
   "execution_count": 22,
   "metadata": {
    "pycharm": {
     "is_executing": false
    }
   },
   "outputs": [
    {
     "data": {
      "text/plain": [
       "'converter = tf.lite.TFLiteConverter.from_frozen_graph(\\'frozen_model.pb\\', [\\'input/X\\'], [\\'FullyConnected_1/Softmax\\'])\\ntflite_model = converter.convert()\\nopen(\"converted_model.tflite\", \"wb\").write(tflite_model)'"
      ]
     },
     "execution_count": 22,
     "metadata": {},
     "output_type": "execute_result"
    }
   ],
   "source": [
    "\"\"\"converter = tf.lite.TFLiteConverter.from_frozen_graph('frozen_model.pb', ['input/X'], ['FullyConnected_1/Softmax'])\n",
    "tflite_model = converter.convert()\n",
    "open(\"converted_model.tflite\", \"wb\").write(tflite_model)\"\"\""
   ]
  },
  {
   "cell_type": "markdown",
   "metadata": {},
   "source": [
    "# RESULTS"
   ]
  },
  {
   "cell_type": "code",
   "execution_count": 23,
   "metadata": {
    "pycharm": {
     "is_executing": false
    }
   },
   "outputs": [
    {
     "data": {
      "text/plain": [
       "{0: 'Allie Haze',\n",
       " 1: 'Ariel X',\n",
       " 2: 'Ariella Ferrera',\n",
       " 3: 'Mellanie Monroe',\n",
       " 4: 'Samantha Ryan',\n",
       " 5: 'Tanya Tate'}"
      ]
     },
     "execution_count": 23,
     "metadata": {},
     "output_type": "execute_result"
    }
   ],
   "source": [
    "CLASS_INDEX = dict(zip([np.argmax(x) for x in encoded_labels], LABELS.flatten()))\n",
    "# CLASS_INDEX = dict(sorted(CLASS_INDEX.items()))\n",
    "LABELS = LABELS.flatten()\n",
    "IMAGE_IDs = []\n",
    "CLASS_INDEX"
   ]
  },
  {
   "cell_type": "markdown",
   "metadata": {},
   "source": [
    "### Graph Plot of Predicted Classes"
   ]
  },
  {
   "cell_type": "code",
   "execution_count": 24,
   "metadata": {
    "pycharm": {
     "is_executing": false
    }
   },
   "outputs": [
    {
     "data": {
      "image/png": "[encoded data removed]",
      "text/plain": [
       "<Figure size 432x288 with 16 Axes>"
      ]
     },
     "metadata": {
      "needs_background": "light"
     },
     "output_type": "display_data"
    },
    {
     "data": {
      "text/plain": [
       "<Figure size 432x288 with 0 Axes>"
      ]
     },
     "metadata": {},
     "output_type": "display_data"
    }
   ],
   "source": [
    "fig = plt.figure()\n",
    "results = {cls: [] for cls in LABELS}\n",
    "\n",
    "# iterate over each image in test_sample\n",
    "# get the model's class prediction of the image\n",
    "for num, data in enumerate(test_data):\n",
    "    img_data = data[0]\n",
    "    img_num = data[1]\n",
    "    y = fig.add_subplot(4, 4, num + 1)\n",
    "    orig = img_data\n",
    "    data = img_data.reshape(IMG_SIZE, IMG_SIZE, 1)\n",
    "    model_out = MODEL.predict([data])[0]\n",
    "    index = np.argmax(model_out)\n",
    "\n",
    "    # generate output dictionary\n",
    "    results = {LABELS[i]: results.get(LABELS[i]) + [model_out[i]] for i in range(NUM_CLASSES)}\n",
    "    IMAGE_IDs.append(img_num)\n",
    "    \n",
    "    # cross-reference the predicted class-index to its class-label (for each test image)\n",
    "    class_label = CLASS_INDEX.get(index, 'Invalid class!')\n",
    "    # print(f\"Image ID: {img_num} | \\tModel Output: {model_out}  \\t | Prediction: {index}\")\n",
    "\n",
    "    y.imshow(orig, cmap='gray')\n",
    "    plt.title(f'{img_num}: {class_label}')\n",
    "    y.axes.get_xaxis().set_visible(False)\n",
    "    y.axes.get_yaxis().set_visible(False)\n",
    "plt.show()\n",
    "plt.savefig('Class Results')"
   ]
  },
  {
   "cell_type": "markdown",
   "metadata": {},
   "source": [
    "### Tabulated Prediction Probabilities"
   ]
  },
  {
   "cell_type": "code",
   "execution_count": 25,
   "metadata": {
    "pycharm": {
     "is_executing": false
    }
   },
   "outputs": [
    {
     "data": {
      "text/html": [
       "<style  type=\"text/css\" >\n",
       "    #T_5a6382a4_f282_11e9_816a_f18e6caf6ecarow0_col0 {\n",
       "            background-color:  #eac0ea;\n",
       "            color:  #000000;\n",
       "        }    #T_5a6382a4_f282_11e9_816a_f18e6caf6ecarow0_col1 {\n",
       "            background-color:  #ffe5ff;\n",
       "            color:  #000000;\n",
       "        }    #T_5a6382a4_f282_11e9_816a_f18e6caf6ecarow0_col2 {\n",
       "            background-color:  #fee3fe;\n",
       "            color:  #000000;\n",
       "        }    #T_5a6382a4_f282_11e9_816a_f18e6caf6ecarow0_col3 {\n",
       "            background-color:  #efc9ef;\n",
       "            color:  #000000;\n",
       "        }    #T_5a6382a4_f282_11e9_816a_f18e6caf6ecarow0_col4 {\n",
       "            background-color:  #ffe5ff;\n",
       "            color:  #000000;\n",
       "        }    #T_5a6382a4_f282_11e9_816a_f18e6caf6ecarow0_col5 {\n",
       "            background-color:  #e7bae7;\n",
       "            color:  #000000;\n",
       "        }    #T_5a6382a4_f282_11e9_816a_f18e6caf6ecarow0_col6 {\n",
       "            background-color:  #800080;\n",
       "            color:  #f1f1f1;\n",
       "        }    #T_5a6382a4_f282_11e9_816a_f18e6caf6ecarow0_col7 {\n",
       "            background-color:  #fde2fd;\n",
       "            color:  #000000;\n",
       "        }    #T_5a6382a4_f282_11e9_816a_f18e6caf6ecarow0_col8 {\n",
       "            background-color:  #800080;\n",
       "            color:  #f1f1f1;\n",
       "        }    #T_5a6382a4_f282_11e9_816a_f18e6caf6ecarow0_col9 {\n",
       "            background-color:  #ffe5ff;\n",
       "            color:  #000000;\n",
       "        }    #T_5a6382a4_f282_11e9_816a_f18e6caf6ecarow0_col10 {\n",
       "            background-color:  #800080;\n",
       "            color:  #f1f1f1;\n",
       "        }    #T_5a6382a4_f282_11e9_816a_f18e6caf6ecarow0_col11 {\n",
       "            background-color:  #e3b2e3;\n",
       "            color:  #000000;\n",
       "        }    #T_5a6382a4_f282_11e9_816a_f18e6caf6ecarow0_col12 {\n",
       "            background-color:  #f4d2f4;\n",
       "            color:  #000000;\n",
       "        }    #T_5a6382a4_f282_11e9_816a_f18e6caf6ecarow0_col13 {\n",
       "            background-color:  #800080;\n",
       "            color:  #f1f1f1;\n",
       "        }    #T_5a6382a4_f282_11e9_816a_f18e6caf6ecarow0_col14 {\n",
       "            background-color:  #ffe5ff;\n",
       "            color:  #000000;\n",
       "        }    #T_5a6382a4_f282_11e9_816a_f18e6caf6ecarow0_col15 {\n",
       "            background-color:  #800080;\n",
       "            color:  #f1f1f1;\n",
       "        }    #T_5a6382a4_f282_11e9_816a_f18e6caf6ecarow1_col0 {\n",
       "            background-color:  #ffe5ff;\n",
       "            color:  #000000;\n",
       "        }    #T_5a6382a4_f282_11e9_816a_f18e6caf6ecarow1_col1 {\n",
       "            background-color:  #ffe5ff;\n",
       "            color:  #000000;\n",
       "        }    #T_5a6382a4_f282_11e9_816a_f18e6caf6ecarow1_col2 {\n",
       "            background-color:  #fee3fe;\n",
       "            color:  #000000;\n",
       "        }    #T_5a6382a4_f282_11e9_816a_f18e6caf6ecarow1_col3 {\n",
       "            background-color:  #ffe5ff;\n",
       "            color:  #000000;\n",
       "        }    #T_5a6382a4_f282_11e9_816a_f18e6caf6ecarow1_col4 {\n",
       "            background-color:  #ffe5ff;\n",
       "            color:  #000000;\n",
       "        }    #T_5a6382a4_f282_11e9_816a_f18e6caf6ecarow1_col5 {\n",
       "            background-color:  #ffe5ff;\n",
       "            color:  #000000;\n",
       "        }    #T_5a6382a4_f282_11e9_816a_f18e6caf6ecarow1_col6 {\n",
       "            background-color:  #ffe5ff;\n",
       "            color:  #000000;\n",
       "        }    #T_5a6382a4_f282_11e9_816a_f18e6caf6ecarow1_col7 {\n",
       "            background-color:  #fee4fe;\n",
       "            color:  #000000;\n",
       "        }    #T_5a6382a4_f282_11e9_816a_f18e6caf6ecarow1_col8 {\n",
       "            background-color:  #e7bae7;\n",
       "            color:  #000000;\n",
       "        }    #T_5a6382a4_f282_11e9_816a_f18e6caf6ecarow1_col9 {\n",
       "            background-color:  #800080;\n",
       "            color:  #f1f1f1;\n",
       "        }    #T_5a6382a4_f282_11e9_816a_f18e6caf6ecarow1_col10 {\n",
       "            background-color:  #fee3fe;\n",
       "            color:  #000000;\n",
       "        }    #T_5a6382a4_f282_11e9_816a_f18e6caf6ecarow1_col11 {\n",
       "            background-color:  #fbdefb;\n",
       "            color:  #000000;\n",
       "        }    #T_5a6382a4_f282_11e9_816a_f18e6caf6ecarow1_col12 {\n",
       "            background-color:  #ffe5ff;\n",
       "            color:  #000000;\n",
       "        }    #T_5a6382a4_f282_11e9_816a_f18e6caf6ecarow1_col13 {\n",
       "            background-color:  #ffe5ff;\n",
       "            color:  #000000;\n",
       "        }    #T_5a6382a4_f282_11e9_816a_f18e6caf6ecarow1_col14 {\n",
       "            background-color:  #a13ca1;\n",
       "            color:  #f1f1f1;\n",
       "        }    #T_5a6382a4_f282_11e9_816a_f18e6caf6ecarow1_col15 {\n",
       "            background-color:  #ffe5ff;\n",
       "            color:  #000000;\n",
       "        }    #T_5a6382a4_f282_11e9_816a_f18e6caf6ecarow2_col0 {\n",
       "            background-color:  #800080;\n",
       "            color:  #f1f1f1;\n",
       "        }    #T_5a6382a4_f282_11e9_816a_f18e6caf6ecarow2_col1 {\n",
       "            background-color:  #ffe5ff;\n",
       "            color:  #000000;\n",
       "        }    #T_5a6382a4_f282_11e9_816a_f18e6caf6ecarow2_col2 {\n",
       "            background-color:  #fde1fd;\n",
       "            color:  #000000;\n",
       "        }    #T_5a6382a4_f282_11e9_816a_f18e6caf6ecarow2_col3 {\n",
       "            background-color:  #800080;\n",
       "            color:  #f1f1f1;\n",
       "        }    #T_5a6382a4_f282_11e9_816a_f18e6caf6ecarow2_col4 {\n",
       "            background-color:  #fde2fd;\n",
       "            color:  #000000;\n",
       "        }    #T_5a6382a4_f282_11e9_816a_f18e6caf6ecarow2_col5 {\n",
       "            background-color:  #800080;\n",
       "            color:  #f1f1f1;\n",
       "        }    #T_5a6382a4_f282_11e9_816a_f18e6caf6ecarow2_col6 {\n",
       "            background-color:  #ffe5ff;\n",
       "            color:  #000000;\n",
       "        }    #T_5a6382a4_f282_11e9_816a_f18e6caf6ecarow2_col7 {\n",
       "            background-color:  #fde1fd;\n",
       "            color:  #000000;\n",
       "        }    #T_5a6382a4_f282_11e9_816a_f18e6caf6ecarow2_col8 {\n",
       "            background-color:  #fbdefb;\n",
       "            color:  #000000;\n",
       "        }    #T_5a6382a4_f282_11e9_816a_f18e6caf6ecarow2_col9 {\n",
       "            background-color:  #ffe5ff;\n",
       "            color:  #000000;\n",
       "        }    #T_5a6382a4_f282_11e9_816a_f18e6caf6ecarow2_col10 {\n",
       "            background-color:  #fadcfa;\n",
       "            color:  #000000;\n",
       "        }    #T_5a6382a4_f282_11e9_816a_f18e6caf6ecarow2_col11 {\n",
       "            background-color:  #f4d2f4;\n",
       "            color:  #000000;\n",
       "        }    #T_5a6382a4_f282_11e9_816a_f18e6caf6ecarow2_col12 {\n",
       "            background-color:  #800080;\n",
       "            color:  #f1f1f1;\n",
       "        }    #T_5a6382a4_f282_11e9_816a_f18e6caf6ecarow2_col13 {\n",
       "            background-color:  #ffe5ff;\n",
       "            color:  #000000;\n",
       "        }    #T_5a6382a4_f282_11e9_816a_f18e6caf6ecarow2_col14 {\n",
       "            background-color:  #fde2fd;\n",
       "            color:  #000000;\n",
       "        }    #T_5a6382a4_f282_11e9_816a_f18e6caf6ecarow2_col15 {\n",
       "            background-color:  #fadcfa;\n",
       "            color:  #000000;\n",
       "        }    #T_5a6382a4_f282_11e9_816a_f18e6caf6ecarow3_col0 {\n",
       "            background-color:  #ffe5ff;\n",
       "            color:  #000000;\n",
       "        }    #T_5a6382a4_f282_11e9_816a_f18e6caf6ecarow3_col1 {\n",
       "            background-color:  #800080;\n",
       "            color:  #f1f1f1;\n",
       "        }    #T_5a6382a4_f282_11e9_816a_f18e6caf6ecarow3_col2 {\n",
       "            background-color:  #800080;\n",
       "            color:  #f1f1f1;\n",
       "        }    #T_5a6382a4_f282_11e9_816a_f18e6caf6ecarow3_col3 {\n",
       "            background-color:  #fde2fd;\n",
       "            color:  #000000;\n",
       "        }    #T_5a6382a4_f282_11e9_816a_f18e6caf6ecarow3_col4 {\n",
       "            background-color:  #ffe5ff;\n",
       "            color:  #000000;\n",
       "        }    #T_5a6382a4_f282_11e9_816a_f18e6caf6ecarow3_col5 {\n",
       "            background-color:  #ffe5ff;\n",
       "            color:  #000000;\n",
       "        }    #T_5a6382a4_f282_11e9_816a_f18e6caf6ecarow3_col6 {\n",
       "            background-color:  #fcdffc;\n",
       "            color:  #000000;\n",
       "        }    #T_5a6382a4_f282_11e9_816a_f18e6caf6ecarow3_col7 {\n",
       "            background-color:  #800080;\n",
       "            color:  #f1f1f1;\n",
       "        }    #T_5a6382a4_f282_11e9_816a_f18e6caf6ecarow3_col8 {\n",
       "            background-color:  #982c98;\n",
       "            color:  #f1f1f1;\n",
       "        }    #T_5a6382a4_f282_11e9_816a_f18e6caf6ecarow3_col9 {\n",
       "            background-color:  #f7d7f7;\n",
       "            color:  #000000;\n",
       "        }    #T_5a6382a4_f282_11e9_816a_f18e6caf6ecarow3_col10 {\n",
       "            background-color:  #ffe5ff;\n",
       "            color:  #000000;\n",
       "        }    #T_5a6382a4_f282_11e9_816a_f18e6caf6ecarow3_col11 {\n",
       "            background-color:  #ecc3ec;\n",
       "            color:  #000000;\n",
       "        }    #T_5a6382a4_f282_11e9_816a_f18e6caf6ecarow3_col12 {\n",
       "            background-color:  #ffe5ff;\n",
       "            color:  #000000;\n",
       "        }    #T_5a6382a4_f282_11e9_816a_f18e6caf6ecarow3_col13 {\n",
       "            background-color:  #ffe5ff;\n",
       "            color:  #000000;\n",
       "        }    #T_5a6382a4_f282_11e9_816a_f18e6caf6ecarow3_col14 {\n",
       "            background-color:  #800080;\n",
       "            color:  #f1f1f1;\n",
       "        }    #T_5a6382a4_f282_11e9_816a_f18e6caf6ecarow3_col15 {\n",
       "            background-color:  #ffe5ff;\n",
       "            color:  #000000;\n",
       "        }    #T_5a6382a4_f282_11e9_816a_f18e6caf6ecarow4_col0 {\n",
       "            background-color:  #f9dbf9;\n",
       "            color:  #000000;\n",
       "        }    #T_5a6382a4_f282_11e9_816a_f18e6caf6ecarow4_col1 {\n",
       "            background-color:  #ffe5ff;\n",
       "            color:  #000000;\n",
       "        }    #T_5a6382a4_f282_11e9_816a_f18e6caf6ecarow4_col2 {\n",
       "            background-color:  #ffe5ff;\n",
       "            color:  #000000;\n",
       "        }    #T_5a6382a4_f282_11e9_816a_f18e6caf6ecarow4_col3 {\n",
       "            background-color:  #dda8dd;\n",
       "            color:  #000000;\n",
       "        }    #T_5a6382a4_f282_11e9_816a_f18e6caf6ecarow4_col4 {\n",
       "            background-color:  #800080;\n",
       "            color:  #f1f1f1;\n",
       "        }    #T_5a6382a4_f282_11e9_816a_f18e6caf6ecarow4_col5 {\n",
       "            background-color:  #ffe5ff;\n",
       "            color:  #000000;\n",
       "        }    #T_5a6382a4_f282_11e9_816a_f18e6caf6ecarow4_col6 {\n",
       "            background-color:  #ffe5ff;\n",
       "            color:  #000000;\n",
       "        }    #T_5a6382a4_f282_11e9_816a_f18e6caf6ecarow4_col7 {\n",
       "            background-color:  #ffe5ff;\n",
       "            color:  #000000;\n",
       "        }    #T_5a6382a4_f282_11e9_816a_f18e6caf6ecarow4_col8 {\n",
       "            background-color:  #ffe5ff;\n",
       "            color:  #000000;\n",
       "        }    #T_5a6382a4_f282_11e9_816a_f18e6caf6ecarow4_col9 {\n",
       "            background-color:  #ffe5ff;\n",
       "            color:  #000000;\n",
       "        }    #T_5a6382a4_f282_11e9_816a_f18e6caf6ecarow4_col10 {\n",
       "            background-color:  #ffe5ff;\n",
       "            color:  #000000;\n",
       "        }    #T_5a6382a4_f282_11e9_816a_f18e6caf6ecarow4_col11 {\n",
       "            background-color:  #ffe5ff;\n",
       "            color:  #000000;\n",
       "        }    #T_5a6382a4_f282_11e9_816a_f18e6caf6ecarow4_col12 {\n",
       "            background-color:  #fbdefb;\n",
       "            color:  #000000;\n",
       "        }    #T_5a6382a4_f282_11e9_816a_f18e6caf6ecarow4_col13 {\n",
       "            background-color:  #ffe5ff;\n",
       "            color:  #000000;\n",
       "        }    #T_5a6382a4_f282_11e9_816a_f18e6caf6ecarow4_col14 {\n",
       "            background-color:  #ffe5ff;\n",
       "            color:  #000000;\n",
       "        }    #T_5a6382a4_f282_11e9_816a_f18e6caf6ecarow4_col15 {\n",
       "            background-color:  #ffe5ff;\n",
       "            color:  #000000;\n",
       "        }    #T_5a6382a4_f282_11e9_816a_f18e6caf6ecarow5_col0 {\n",
       "            background-color:  #fcdffc;\n",
       "            color:  #000000;\n",
       "        }    #T_5a6382a4_f282_11e9_816a_f18e6caf6ecarow5_col1 {\n",
       "            background-color:  #ffe5ff;\n",
       "            color:  #000000;\n",
       "        }    #T_5a6382a4_f282_11e9_816a_f18e6caf6ecarow5_col2 {\n",
       "            background-color:  #fbdefb;\n",
       "            color:  #000000;\n",
       "        }    #T_5a6382a4_f282_11e9_816a_f18e6caf6ecarow5_col3 {\n",
       "            background-color:  #f9dbf9;\n",
       "            color:  #000000;\n",
       "        }    #T_5a6382a4_f282_11e9_816a_f18e6caf6ecarow5_col4 {\n",
       "            background-color:  #ffe5ff;\n",
       "            color:  #000000;\n",
       "        }    #T_5a6382a4_f282_11e9_816a_f18e6caf6ecarow5_col5 {\n",
       "            background-color:  #fde2fd;\n",
       "            color:  #000000;\n",
       "        }    #T_5a6382a4_f282_11e9_816a_f18e6caf6ecarow5_col6 {\n",
       "            background-color:  #fee4fe;\n",
       "            color:  #000000;\n",
       "        }    #T_5a6382a4_f282_11e9_816a_f18e6caf6ecarow5_col7 {\n",
       "            background-color:  #f8d8f8;\n",
       "            color:  #000000;\n",
       "        }    #T_5a6382a4_f282_11e9_816a_f18e6caf6ecarow5_col8 {\n",
       "            background-color:  #fbdefb;\n",
       "            color:  #000000;\n",
       "        }    #T_5a6382a4_f282_11e9_816a_f18e6caf6ecarow5_col9 {\n",
       "            background-color:  #ffe5ff;\n",
       "            color:  #000000;\n",
       "        }    #T_5a6382a4_f282_11e9_816a_f18e6caf6ecarow5_col10 {\n",
       "            background-color:  #fee4fe;\n",
       "            color:  #000000;\n",
       "        }    #T_5a6382a4_f282_11e9_816a_f18e6caf6ecarow5_col11 {\n",
       "            background-color:  #800080;\n",
       "            color:  #f1f1f1;\n",
       "        }    #T_5a6382a4_f282_11e9_816a_f18e6caf6ecarow5_col12 {\n",
       "            background-color:  #fde1fd;\n",
       "            color:  #000000;\n",
       "        }    #T_5a6382a4_f282_11e9_816a_f18e6caf6ecarow5_col13 {\n",
       "            background-color:  #ffe5ff;\n",
       "            color:  #000000;\n",
       "        }    #T_5a6382a4_f282_11e9_816a_f18e6caf6ecarow5_col14 {\n",
       "            background-color:  #ffe5ff;\n",
       "            color:  #000000;\n",
       "        }    #T_5a6382a4_f282_11e9_816a_f18e6caf6ecarow5_col15 {\n",
       "            background-color:  #ffe5ff;\n",
       "            color:  #000000;\n",
       "        }</style><table id=\"T_5a6382a4_f282_11e9_816a_f18e6caf6eca\" ><caption>Confidence Values</caption><thead>    <tr>        <th class=\"blank level0\" ></th>        <th class=\"col_heading level0 col0\" >Image 1</th>        <th class=\"col_heading level0 col1\" >Image 10</th>        <th class=\"col_heading level0 col2\" >Image 11</th>        <th class=\"col_heading level0 col3\" >Image 12</th>        <th class=\"col_heading level0 col4\" >Image 13</th>        <th class=\"col_heading level0 col5\" >Image 14</th>        <th class=\"col_heading level0 col6\" >Image 15</th>        <th class=\"col_heading level0 col7\" >Image 16</th>        <th class=\"col_heading level0 col8\" >Image 2</th>        <th class=\"col_heading level0 col9\" >Image 3</th>        <th class=\"col_heading level0 col10\" >Image 4</th>        <th class=\"col_heading level0 col11\" >Image 5</th>        <th class=\"col_heading level0 col12\" >Image 6</th>        <th class=\"col_heading level0 col13\" >Image 7</th>        <th class=\"col_heading level0 col14\" >Image 8</th>        <th class=\"col_heading level0 col15\" >Image 9</th>    </tr></thead><tbody>\n",
       "                <tr>\n",
       "                        <th id=\"T_5a6382a4_f282_11e9_816a_f18e6caf6ecalevel0_row0\" class=\"row_heading level0 row0\" >Allie Haze</th>\n",
       "                        <td id=\"T_5a6382a4_f282_11e9_816a_f18e6caf6ecarow0_col0\" class=\"data row0 col0\" >13.86%</td>\n",
       "                        <td id=\"T_5a6382a4_f282_11e9_816a_f18e6caf6ecarow0_col1\" class=\"data row0 col1\" >0.04%</td>\n",
       "                        <td id=\"T_5a6382a4_f282_11e9_816a_f18e6caf6ecarow0_col2\" class=\"data row0 col2\" >1.41%</td>\n",
       "                        <td id=\"T_5a6382a4_f282_11e9_816a_f18e6caf6ecarow0_col3\" class=\"data row0 col3\" >9.78%</td>\n",
       "                        <td id=\"T_5a6382a4_f282_11e9_816a_f18e6caf6ecarow0_col4\" class=\"data row0 col4\" >0.22%</td>\n",
       "                        <td id=\"T_5a6382a4_f282_11e9_816a_f18e6caf6ecarow0_col5\" class=\"data row0 col5\" >15.70%</td>\n",
       "                        <td id=\"T_5a6382a4_f282_11e9_816a_f18e6caf6ecarow0_col6\" class=\"data row0 col6\" >94.73%</td>\n",
       "                        <td id=\"T_5a6382a4_f282_11e9_816a_f18e6caf6ecarow0_col7\" class=\"data row0 col7\" >1.83%</td>\n",
       "                        <td id=\"T_5a6382a4_f282_11e9_816a_f18e6caf6ecarow0_col8\" class=\"data row0 col8\" >41.56%</td>\n",
       "                        <td id=\"T_5a6382a4_f282_11e9_816a_f18e6caf6ecarow0_col9\" class=\"data row0 col9\" >0.77%</td>\n",
       "                        <td id=\"T_5a6382a4_f282_11e9_816a_f18e6caf6ecarow0_col10\" class=\"data row0 col10\" >84.20%</td>\n",
       "                        <td id=\"T_5a6382a4_f282_11e9_816a_f18e6caf6ecarow0_col11\" class=\"data row0 col11\" >15.55%</td>\n",
       "                        <td id=\"T_5a6382a4_f282_11e9_816a_f18e6caf6ecarow0_col12\" class=\"data row0 col12\" >8.50%</td>\n",
       "                        <td id=\"T_5a6382a4_f282_11e9_816a_f18e6caf6ecarow0_col13\" class=\"data row0 col13\" >97.12%</td>\n",
       "                        <td id=\"T_5a6382a4_f282_11e9_816a_f18e6caf6ecarow0_col14\" class=\"data row0 col14\" >0.34%</td>\n",
       "                        <td id=\"T_5a6382a4_f282_11e9_816a_f18e6caf6ecarow0_col15\" class=\"data row0 col15\" >91.15%</td>\n",
       "            </tr>\n",
       "            <tr>\n",
       "                        <th id=\"T_5a6382a4_f282_11e9_816a_f18e6caf6ecalevel0_row1\" class=\"row_heading level0 row1\" >Ariel X</th>\n",
       "                        <td id=\"T_5a6382a4_f282_11e9_816a_f18e6caf6ecarow1_col0\" class=\"data row1 col0\" >2.69%</td>\n",
       "                        <td id=\"T_5a6382a4_f282_11e9_816a_f18e6caf6ecarow1_col1\" class=\"data row1 col1\" >0.52%</td>\n",
       "                        <td id=\"T_5a6382a4_f282_11e9_816a_f18e6caf6ecarow1_col2\" class=\"data row1 col2\" >1.54%</td>\n",
       "                        <td id=\"T_5a6382a4_f282_11e9_816a_f18e6caf6ecarow1_col3\" class=\"data row1 col3\" >2.46%</td>\n",
       "                        <td id=\"T_5a6382a4_f282_11e9_816a_f18e6caf6ecarow1_col4\" class=\"data row1 col4\" >0.13%</td>\n",
       "                        <td id=\"T_5a6382a4_f282_11e9_816a_f18e6caf6ecarow1_col5\" class=\"data row1 col5\" >1.64%</td>\n",
       "                        <td id=\"T_5a6382a4_f282_11e9_816a_f18e6caf6ecarow1_col6\" class=\"data row1 col6\" >0.37%</td>\n",
       "                        <td id=\"T_5a6382a4_f282_11e9_816a_f18e6caf6ecarow1_col7\" class=\"data row1 col7\" >1.01%</td>\n",
       "                        <td id=\"T_5a6382a4_f282_11e9_816a_f18e6caf6ecarow1_col8\" class=\"data row1 col8\" >10.87%</td>\n",
       "                        <td id=\"T_5a6382a4_f282_11e9_816a_f18e6caf6ecarow1_col9\" class=\"data row1 col9\" >91.49%</td>\n",
       "                        <td id=\"T_5a6382a4_f282_11e9_816a_f18e6caf6ecarow1_col10\" class=\"data row1 col10\" >3.24%</td>\n",
       "                        <td id=\"T_5a6382a4_f282_11e9_816a_f18e6caf6ecarow1_col11\" class=\"data row1 col11\" >6.62%</td>\n",
       "                        <td id=\"T_5a6382a4_f282_11e9_816a_f18e6caf6ecarow1_col12\" class=\"data row1 col12\" >1.38%</td>\n",
       "                        <td id=\"T_5a6382a4_f282_11e9_816a_f18e6caf6ecarow1_col13\" class=\"data row1 col13\" >0.42%</td>\n",
       "                        <td id=\"T_5a6382a4_f282_11e9_816a_f18e6caf6ecarow1_col14\" class=\"data row1 col14\" >41.65%</td>\n",
       "                        <td id=\"T_5a6382a4_f282_11e9_816a_f18e6caf6ecarow1_col15\" class=\"data row1 col15\" >1.26%</td>\n",
       "            </tr>\n",
       "            <tr>\n",
       "                        <th id=\"T_5a6382a4_f282_11e9_816a_f18e6caf6ecalevel0_row2\" class=\"row_heading level0 row2\" >Ariella Ferrera</th>\n",
       "                        <td id=\"T_5a6382a4_f282_11e9_816a_f18e6caf6ecarow2_col0\" class=\"data row2 col0\" >70.23%</td>\n",
       "                        <td id=\"T_5a6382a4_f282_11e9_816a_f18e6caf6ecarow2_col1\" class=\"data row2 col1\" >0.18%</td>\n",
       "                        <td id=\"T_5a6382a4_f282_11e9_816a_f18e6caf6ecarow2_col2\" class=\"data row2 col2\" >2.26%</td>\n",
       "                        <td id=\"T_5a6382a4_f282_11e9_816a_f18e6caf6ecarow2_col3\" class=\"data row2 col3\" >60.93%</td>\n",
       "                        <td id=\"T_5a6382a4_f282_11e9_816a_f18e6caf6ecarow2_col4\" class=\"data row2 col4\" >1.69%</td>\n",
       "                        <td id=\"T_5a6382a4_f282_11e9_816a_f18e6caf6ecarow2_col5\" class=\"data row2 col5\" >77.74%</td>\n",
       "                        <td id=\"T_5a6382a4_f282_11e9_816a_f18e6caf6ecarow2_col6\" class=\"data row2 col6\" >0.61%</td>\n",
       "                        <td id=\"T_5a6382a4_f282_11e9_816a_f18e6caf6ecarow2_col7\" class=\"data row2 col7\" >2.31%</td>\n",
       "                        <td id=\"T_5a6382a4_f282_11e9_816a_f18e6caf6ecarow2_col8\" class=\"data row2 col8\" >4.91%</td>\n",
       "                        <td id=\"T_5a6382a4_f282_11e9_816a_f18e6caf6ecarow2_col9\" class=\"data row2 col9\" >0.93%</td>\n",
       "                        <td id=\"T_5a6382a4_f282_11e9_816a_f18e6caf6ecarow2_col10\" class=\"data row2 col10\" >5.47%</td>\n",
       "                        <td id=\"T_5a6382a4_f282_11e9_816a_f18e6caf6ecarow2_col11\" class=\"data row2 col11\" >9.20%</td>\n",
       "                        <td id=\"T_5a6382a4_f282_11e9_816a_f18e6caf6ecarow2_col12\" class=\"data row2 col12\" >81.55%</td>\n",
       "                        <td id=\"T_5a6382a4_f282_11e9_816a_f18e6caf6ecarow2_col13\" class=\"data row2 col13\" >0.67%</td>\n",
       "                        <td id=\"T_5a6382a4_f282_11e9_816a_f18e6caf6ecarow2_col14\" class=\"data row2 col14\" >1.12%</td>\n",
       "                        <td id=\"T_5a6382a4_f282_11e9_816a_f18e6caf6ecarow2_col15\" class=\"data row2 col15\" >4.88%</td>\n",
       "            </tr>\n",
       "            <tr>\n",
       "                        <th id=\"T_5a6382a4_f282_11e9_816a_f18e6caf6ecalevel0_row3\" class=\"row_heading level0 row3\" >Mellanie Monroe</th>\n",
       "                        <td id=\"T_5a6382a4_f282_11e9_816a_f18e6caf6ecarow3_col0\" class=\"data row3 col0\" >2.78%</td>\n",
       "                        <td id=\"T_5a6382a4_f282_11e9_816a_f18e6caf6ecarow3_col1\" class=\"data row3 col1\" >99.19%</td>\n",
       "                        <td id=\"T_5a6382a4_f282_11e9_816a_f18e6caf6ecarow3_col2\" class=\"data row3 col2\" >91.20%</td>\n",
       "                        <td id=\"T_5a6382a4_f282_11e9_816a_f18e6caf6ecarow3_col3\" class=\"data row3 col3\" >3.42%</td>\n",
       "                        <td id=\"T_5a6382a4_f282_11e9_816a_f18e6caf6ecarow3_col4\" class=\"data row3 col4\" >0.16%</td>\n",
       "                        <td id=\"T_5a6382a4_f282_11e9_816a_f18e6caf6ecarow3_col5\" class=\"data row3 col5\" >1.22%</td>\n",
       "                        <td id=\"T_5a6382a4_f282_11e9_816a_f18e6caf6ecarow3_col6\" class=\"data row3 col6\" >2.88%</td>\n",
       "                        <td id=\"T_5a6382a4_f282_11e9_816a_f18e6caf6ecarow3_col7\" class=\"data row3 col7\" >89.04%</td>\n",
       "                        <td id=\"T_5a6382a4_f282_11e9_816a_f18e6caf6ecarow3_col8\" class=\"data row3 col8\" >34.16%</td>\n",
       "                        <td id=\"T_5a6382a4_f282_11e9_816a_f18e6caf6ecarow3_col9\" class=\"data row3 col9\" >6.13%</td>\n",
       "                        <td id=\"T_5a6382a4_f282_11e9_816a_f18e6caf6ecarow3_col10\" class=\"data row3 col10\" >2.31%</td>\n",
       "                        <td id=\"T_5a6382a4_f282_11e9_816a_f18e6caf6ecarow3_col11\" class=\"data row3 col11\" >12.05%</td>\n",
       "                        <td id=\"T_5a6382a4_f282_11e9_816a_f18e6caf6ecarow3_col12\" class=\"data row3 col12\" >1.68%</td>\n",
       "                        <td id=\"T_5a6382a4_f282_11e9_816a_f18e6caf6ecarow3_col13\" class=\"data row3 col13\" >0.85%</td>\n",
       "                        <td id=\"T_5a6382a4_f282_11e9_816a_f18e6caf6ecarow3_col14\" class=\"data row3 col14\" >56.49%</td>\n",
       "                        <td id=\"T_5a6382a4_f282_11e9_816a_f18e6caf6ecarow3_col15\" class=\"data row3 col15\" >0.75%</td>\n",
       "            </tr>\n",
       "            <tr>\n",
       "                        <th id=\"T_5a6382a4_f282_11e9_816a_f18e6caf6ecalevel0_row4\" class=\"row_heading level0 row4\" >Samantha Ryan</th>\n",
       "                        <td id=\"T_5a6382a4_f282_11e9_816a_f18e6caf6ecarow4_col0\" class=\"data row4 col0\" >5.86%</td>\n",
       "                        <td id=\"T_5a6382a4_f282_11e9_816a_f18e6caf6ecarow4_col1\" class=\"data row4 col1\" >0.00%</td>\n",
       "                        <td id=\"T_5a6382a4_f282_11e9_816a_f18e6caf6ecarow4_col2\" class=\"data row4 col2\" >0.23%</td>\n",
       "                        <td id=\"T_5a6382a4_f282_11e9_816a_f18e6caf6ecarow4_col3\" class=\"data row4 col3\" >18.20%</td>\n",
       "                        <td id=\"T_5a6382a4_f282_11e9_816a_f18e6caf6ecarow4_col4\" class=\"data row4 col4\" >97.26%</td>\n",
       "                        <td id=\"T_5a6382a4_f282_11e9_816a_f18e6caf6ecarow4_col5\" class=\"data row4 col5\" >1.17%</td>\n",
       "                        <td id=\"T_5a6382a4_f282_11e9_816a_f18e6caf6ecarow4_col6\" class=\"data row4 col6\" >0.18%</td>\n",
       "                        <td id=\"T_5a6382a4_f282_11e9_816a_f18e6caf6ecarow4_col7\" class=\"data row4 col7\" >0.24%</td>\n",
       "                        <td id=\"T_5a6382a4_f282_11e9_816a_f18e6caf6ecarow4_col8\" class=\"data row4 col8\" >3.63%</td>\n",
       "                        <td id=\"T_5a6382a4_f282_11e9_816a_f18e6caf6ecarow4_col9\" class=\"data row4 col9\" >0.32%</td>\n",
       "                        <td id=\"T_5a6382a4_f282_11e9_816a_f18e6caf6ecarow4_col10\" class=\"data row4 col10\" >2.04%</td>\n",
       "                        <td id=\"T_5a6382a4_f282_11e9_816a_f18e6caf6ecarow4_col11\" class=\"data row4 col11\" >5.17%</td>\n",
       "                        <td id=\"T_5a6382a4_f282_11e9_816a_f18e6caf6ecarow4_col12\" class=\"data row4 col12\" >3.90%</td>\n",
       "                        <td id=\"T_5a6382a4_f282_11e9_816a_f18e6caf6ecarow4_col13\" class=\"data row4 col13\" >0.19%</td>\n",
       "                        <td id=\"T_5a6382a4_f282_11e9_816a_f18e6caf6ecarow4_col14\" class=\"data row4 col14\" >0.06%</td>\n",
       "                        <td id=\"T_5a6382a4_f282_11e9_816a_f18e6caf6ecarow4_col15\" class=\"data row4 col15\" >0.74%</td>\n",
       "            </tr>\n",
       "            <tr>\n",
       "                        <th id=\"T_5a6382a4_f282_11e9_816a_f18e6caf6ecalevel0_row5\" class=\"row_heading level0 row5\" >Tanya Tate</th>\n",
       "                        <td id=\"T_5a6382a4_f282_11e9_816a_f18e6caf6ecarow5_col0\" class=\"data row5 col0\" >4.58%</td>\n",
       "                        <td id=\"T_5a6382a4_f282_11e9_816a_f18e6caf6ecarow5_col1\" class=\"data row5 col1\" >0.06%</td>\n",
       "                        <td id=\"T_5a6382a4_f282_11e9_816a_f18e6caf6ecarow5_col2\" class=\"data row5 col2\" >3.37%</td>\n",
       "                        <td id=\"T_5a6382a4_f282_11e9_816a_f18e6caf6ecarow5_col3\" class=\"data row5 col3\" >5.23%</td>\n",
       "                        <td id=\"T_5a6382a4_f282_11e9_816a_f18e6caf6ecarow5_col4\" class=\"data row5 col4\" >0.54%</td>\n",
       "                        <td id=\"T_5a6382a4_f282_11e9_816a_f18e6caf6ecarow5_col5\" class=\"data row5 col5\" >2.54%</td>\n",
       "                        <td id=\"T_5a6382a4_f282_11e9_816a_f18e6caf6ecarow5_col6\" class=\"data row5 col6\" >1.23%</td>\n",
       "                        <td id=\"T_5a6382a4_f282_11e9_816a_f18e6caf6ecarow5_col7\" class=\"data row5 col7\" >5.58%</td>\n",
       "                        <td id=\"T_5a6382a4_f282_11e9_816a_f18e6caf6ecarow5_col8\" class=\"data row5 col8\" >4.88%</td>\n",
       "                        <td id=\"T_5a6382a4_f282_11e9_816a_f18e6caf6ecarow5_col9\" class=\"data row5 col9\" >0.36%</td>\n",
       "                        <td id=\"T_5a6382a4_f282_11e9_816a_f18e6caf6ecarow5_col10\" class=\"data row5 col10\" >2.74%</td>\n",
       "                        <td id=\"T_5a6382a4_f282_11e9_816a_f18e6caf6ecarow5_col11\" class=\"data row5 col11\" >51.41%</td>\n",
       "                        <td id=\"T_5a6382a4_f282_11e9_816a_f18e6caf6ecarow5_col12\" class=\"data row5 col12\" >3.00%</td>\n",
       "                        <td id=\"T_5a6382a4_f282_11e9_816a_f18e6caf6ecarow5_col13\" class=\"data row5 col13\" >0.76%</td>\n",
       "                        <td id=\"T_5a6382a4_f282_11e9_816a_f18e6caf6ecarow5_col14\" class=\"data row5 col14\" >0.34%</td>\n",
       "                        <td id=\"T_5a6382a4_f282_11e9_816a_f18e6caf6ecarow5_col15\" class=\"data row5 col15\" >1.21%</td>\n",
       "            </tr>\n",
       "    </tbody></table>"
      ],
      "text/plain": [
       "<pandas.io.formats.style.Styler at 0x285212d5470>"
      ]
     },
     "execution_count": 25,
     "metadata": {},
     "output_type": "execute_result"
    }
   ],
   "source": [
    "# Creates a HeatMap using the seaborn library\n",
    "cm = sns.light_palette(\"purple\", as_cmap=True)\n",
    "df = pd.DataFrame.from_dict(results, orient='index', columns=['Image '+ str(i) for i in IMAGE_IDs])\n",
    "df.style.\\\n",
    "    format(\"{:.2%}\").\\\n",
    "    set_caption('Confidence Values')\\\n",
    "    .background_gradient(cmap=cm)"
   ]
  },
  {
   "cell_type": "code",
   "execution_count": 26,
   "metadata": {
    "pycharm": {
     "is_executing": false
    }
   },
   "outputs": [],
   "source": [
    "\"\"\"\n",
    "Re-structures the results dictionary so that each class_label points to another dictionary {k, v}\n",
    "where k = the Image_Id number and v = the confidence value\n",
    "\"\"\"\n",
    "\n",
    "def gen_results(results):\n",
    "    my_dict = {}\n",
    "    for cls in LABELS:\n",
    "        probs = iter(results[cls])\n",
    "        my_dict.update({cls: {}})\n",
    "        for k in IMAGE_IDs:\n",
    "            my_dict[cls][int(k)] = next(probs)\n",
    "\n",
    "    return my_dict"
   ]
  },
  {
   "cell_type": "code",
   "execution_count": 27,
   "metadata": {
    "pycharm": {
     "is_executing": false
    }
   },
   "outputs": [],
   "source": [
    "def get_top3(results, ID=1):\n",
    "    results = gen_results(results)\n",
    "    probs = np.array([(results[k][ID]) for k in results])\n",
    "    # print(f'Reverse: {(-probs).argsort()} - {sorted(probs, reverse=True)}')\n",
    "    indices = (-probs).argsort()[:3] # sorts probabilities (largest - smallest) + returns their corresponding array indices\n",
    "    top_3 = [CLASS_INDEX.get(index) for index in indices]\n",
    "    return top_3"
   ]
  },
  {
   "cell_type": "code",
   "execution_count": 28,
   "metadata": {
    "pycharm": {
     "is_executing": false
    }
   },
   "outputs": [
    {
     "data": {
      "text/plain": [
       "['Tanya Tate', 'Allie Haze', 'Mellanie Monroe']"
      ]
     },
     "execution_count": 28,
     "metadata": {},
     "output_type": "execute_result"
    }
   ],
   "source": [
    "Image_ID = 5\n",
    "TOP_3 = get_top3(results, Image_ID)\n",
    "TOP_3"
   ]
  },
  {
   "cell_type": "markdown",
   "metadata": {},
   "source": [
    "# TENSORBOARD"
   ]
  },
  {
   "cell_type": "code",
   "execution_count": null,
   "metadata": {
    "pycharm": {
     "is_executing": true
    }
   },
   "outputs": [],
   "source": [
    "!tensorboard --logdir=foo:\"C:\\Users\\chiso\\Google Drive Developer\\Humandroid\\Workspace\\log\""
   ]
  },
  {
   "cell_type": "code",
   "execution_count": null,
   "metadata": {
    "pycharm": {
     "is_executing": true
    }
   },
   "outputs": [],
   "source": []
  }
 ],
 "metadata": {
  "kernelspec": {
   "display_name": "Python 3.6 (tensorflow)",
   "language": "python",
   "name": "tensorflow"
  },
  "language_info": {
   "codemirror_mode": {
    "name": "ipython",
    "version": 3
   },
   "file_extension": ".py",
   "mimetype": "text/x-python",
   "name": "python",
   "nbconvert_exporter": "python",
   "pygments_lexer": "ipython3",
   "version": "3.6.9"
  },
  "pycharm": {
   "stem_cell": {
    "cell_type": "raw",
    "metadata": {
     "collapsed": false
    },
    "source": []
   }
  }
 },
 "nbformat": 4,
 "nbformat_minor": 2
}
