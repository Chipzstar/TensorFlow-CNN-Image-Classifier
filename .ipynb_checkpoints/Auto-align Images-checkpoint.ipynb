{
 "cells": [
  {
   "cell_type": "code",
   "execution_count": 1,
   "metadata": {
    "pycharm": {
     "is_executing": false,
     "name": "#%%\n"
    }
   },
   "outputs": [],
   "source": [
    "import os\n",
    "from tqdm import tqdm\n",
    "import align_images"
   ]
  },
  {
   "cell_type": "code",
   "execution_count": 2,
   "metadata": {
    "pycharm": {
     "is_executing": false,
     "name": "#%%\n"
    }
   },
   "outputs": [],
   "source": [
    "# Check what folder to use for training and testing images\n",
    "CHISOM_TRAIN_DIR = 'C:/Users/chiso/MEGA/data/new'\n",
    "CHISOM_TEST_DIR = 'C:/Users/chiso/MEGA/data/test'\n",
    "CHISOM_ALIGNED_TRAIN_DIR = 'C:/Users/chiso/MEGA/data/aligned_new'\n",
    "CHISOM_ALIGNED_TEST_DIR = 'C:/Users/chiso/MEGA/data/aligned_test'\n",
    "\n",
    "YISI_TRAIN_DIR = 'E:/MegaSync/data/new'\n",
    "YISI_TEST_DIR = 'E:/MegaSync/data/test'\n",
    "YISI_ALIGNED_TRAIN_DIR = 'E:/MegaSync/data/aligned_new'\n",
    "YISI_ALIGNED_TEST_DIR = 'E:/MegaSync/data/aligned_test'\n",
    "\n",
    "\n",
    "def get_directories():\n",
    "    if os.path.exists(CHISOM_TRAIN_DIR) and os.path.exists(CHISOM_TEST_DIR) \\\n",
    "            and os.path.exists(CHISOM_ALIGNED_TRAIN_DIR) and os.path.exists(CHISOM_ALIGNED_TEST_DIR):\n",
    "        return CHISOM_TRAIN_DIR, CHISOM_TEST_DIR, CHISOM_ALIGNED_TRAIN_DIR, CHISOM_ALIGNED_TEST_DIR\n",
    "    else:\n",
    "        return YISI_TRAIN_DIR, YISI_TEST_DIR, YISI_ALIGNED_TRAIN_DIR, YISI_ALIGNED_TEST_DIR"
   ]
  },
  {
   "cell_type": "code",
   "execution_count": 3,
   "metadata": {
    "pycharm": {
     "is_executing": false,
     "name": "#%%\n"
    }
   },
   "outputs": [
    {
     "data": {
      "text/plain": [
       "('C:/Users/chiso/MEGA/data/new', 'C:/Users/chiso/MEGA/data/aligned_new')"
      ]
     },
     "execution_count": 3,
     "metadata": {},
     "output_type": "execute_result"
    }
   ],
   "source": [
    "TRAIN_DIR, TEST_DIR, ALIGNED_TRAIN_DIR, ALIGNED_TEST_DIR = get_directories()\n",
    "TRAIN_DIR, ALIGNED_TRAIN_DIR"
   ]
  },
  {
   "cell_type": "code",
   "execution_count": 4,
   "metadata": {
    "pycharm": {
     "is_executing": false
    }
   },
   "outputs": [],
   "source": [
    "\"\"\"\n",
    "Auto Align Images\n",
    "\"\"\"\n",
    "def auto_align_images():\n",
    "    for folder in tqdm(os.listdir(TRAIN_DIR)):\n",
    "        full_path = f'{TRAIN_DIR}/{folder}'\n",
    "        aligned_path = f'{ALIGNED_TRAIN_DIR}/{folder}'\n",
    "        if not os.path.exists(aligned_path):\n",
    "            %run align_images.py \"{full_path}\" \"{aligned_path}\" --output_size=1048\n",
    "    # %run python align_images.py \"{TEST_DIR}\" \"{ALIGNED_TEST_DIR}\" --output_size=1048"
   ]
  },
  {
   "cell_type": "code",
   "execution_count": null,
   "metadata": {
    "pycharm": {
     "is_executing": false,
     "name": "#%%\n"
    }
   },
   "outputs": [
    {
     "name": "stderr",
     "output_type": "stream",
     "text": [
      "\r",
      "  0%|                                                                                                                                                                                                            | 0/2 [00:00<?, ?it/s]"
     ]
    },
    {
     "name": "stdout",
     "output_type": "stream",
     "text": [
      "Directory  C:/Users/chiso/MEGA/data/aligned_new/Lisa Ann  Created \n"
     ]
    },
    {
     "name": "stderr",
     "output_type": "stream",
     "text": [
      "\n",
      "  0%|                                                                                                                                                                                                          | 0/136 [00:00<?, ?it/s]"
     ]
    },
    {
     "name": "stdout",
     "output_type": "stream",
     "text": [
      "C:/Users/chiso/MEGA/data/aligned_new/Lisa Ann\\1.jpg\n",
      "Aligning 1.jpg ...\n",
      "Getting landmarks...\n",
      "Starting face alignment...\n",
      "Wrote result C:/Users/chiso/MEGA/data/aligned_new/Lisa Ann\\1.png\n"
     ]
    },
    {
     "name": "stderr",
     "output_type": "stream",
     "text": [
      "\n",
      "  1%|█▍                                                                                                                                                                                                | 1/136 [00:03<07:04,  3.14s/it]"
     ]
    },
    {
     "name": "stdout",
     "output_type": "stream",
     "text": [
      "C:/Users/chiso/MEGA/data/aligned_new/Lisa Ann\\10.jpg\n",
      "Aligning 10.jpg ...\n",
      "Getting landmarks...\n",
      "Starting face alignment...\n",
      "Wrote result C:/Users/chiso/MEGA/data/aligned_new/Lisa Ann\\10.png\n"
     ]
    },
    {
     "name": "stderr",
     "output_type": "stream",
     "text": [
      "\n",
      "  1%|██▊                                                                                                                                                                                               | 2/136 [00:06<06:53,  3.09s/it]"
     ]
    },
    {
     "name": "stdout",
     "output_type": "stream",
     "text": [
      "C:/Users/chiso/MEGA/data/aligned_new/Lisa Ann\\100.jpg\n",
      "Aligning 100.jpg ...\n",
      "Getting landmarks...\n",
      "Starting face alignment...\n",
      "Wrote result C:/Users/chiso/MEGA/data/aligned_new/Lisa Ann\\100.png\n"
     ]
    },
    {
     "name": "stderr",
     "output_type": "stream",
     "text": [
      "\n",
      "  2%|████▎                                                                                                                                                                                             | 3/136 [00:08<06:33,  2.96s/it]"
     ]
    },
    {
     "name": "stdout",
     "output_type": "stream",
     "text": [
      "C:/Users/chiso/MEGA/data/aligned_new/Lisa Ann\\101.jpg\n",
      "Aligning 101.jpg ...\n",
      "Getting landmarks...\n",
      "Starting face alignment...\n",
      "Wrote result C:/Users/chiso/MEGA/data/aligned_new/Lisa Ann\\101.png\n"
     ]
    },
    {
     "name": "stderr",
     "output_type": "stream",
     "text": [
      "\n",
      "  3%|█████▋                                                                                                                                                                                            | 4/136 [00:11<06:23,  2.90s/it]"
     ]
    },
    {
     "name": "stdout",
     "output_type": "stream",
     "text": [
      "C:/Users/chiso/MEGA/data/aligned_new/Lisa Ann\\102.jpg\n",
      "Aligning 102.jpg ...\n",
      "Getting landmarks...\n",
      "Starting face alignment...\n",
      "Wrote result C:/Users/chiso/MEGA/data/aligned_new/Lisa Ann\\102.png\n"
     ]
    },
    {
     "name": "stderr",
     "output_type": "stream",
     "text": [
      "\n",
      "  4%|███████▏                                                                                                                                                                                          | 5/136 [00:14<06:10,  2.83s/it]"
     ]
    },
    {
     "name": "stdout",
     "output_type": "stream",
     "text": [
      "C:/Users/chiso/MEGA/data/aligned_new/Lisa Ann\\103.jpg\n",
      "Aligning 103.jpg ...\n",
      "Getting landmarks...\n",
      "Starting face alignment...\n",
      "Wrote result C:/Users/chiso/MEGA/data/aligned_new/Lisa Ann\\103.png\n"
     ]
    },
    {
     "name": "stderr",
     "output_type": "stream",
     "text": [
      "\n",
      "  4%|████████▌                                                                                                                                                                                         | 6/136 [00:16<06:00,  2.78s/it]"
     ]
    },
    {
     "name": "stdout",
     "output_type": "stream",
     "text": [
      "C:/Users/chiso/MEGA/data/aligned_new/Lisa Ann\\104.jpg\n",
      "Aligning 104.jpg ...\n",
      "Getting landmarks...\n",
      "Starting face alignment...\n",
      "Wrote result C:/Users/chiso/MEGA/data/aligned_new/Lisa Ann\\104.png\n"
     ]
    },
    {
     "name": "stderr",
     "output_type": "stream",
     "text": [
      "\n",
      "  5%|█████████▉                                                                                                                                                                                        | 7/136 [00:19<05:54,  2.75s/it]"
     ]
    },
    {
     "name": "stdout",
     "output_type": "stream",
     "text": [
      "C:/Users/chiso/MEGA/data/aligned_new/Lisa Ann\\105.jpg\n",
      "Aligning 105.jpg ...\n",
      "Getting landmarks...\n",
      "Starting face alignment...\n",
      "Wrote result C:/Users/chiso/MEGA/data/aligned_new/Lisa Ann\\105.png\n"
     ]
    },
    {
     "name": "stderr",
     "output_type": "stream",
     "text": [
      "\n",
      "  6%|███████████▍                                                                                                                                                                                      | 8/136 [00:22<05:45,  2.70s/it]"
     ]
    },
    {
     "name": "stdout",
     "output_type": "stream",
     "text": [
      "C:/Users/chiso/MEGA/data/aligned_new/Lisa Ann\\106.jpg\n",
      "Aligning 106.jpg ...\n",
      "Getting landmarks...\n",
      "Starting face alignment...\n",
      "Wrote result C:/Users/chiso/MEGA/data/aligned_new/Lisa Ann\\106.png\n"
     ]
    },
    {
     "name": "stderr",
     "output_type": "stream",
     "text": [
      "\n",
      "  7%|████████████▊                                                                                                                                                                                     | 9/136 [00:24<05:37,  2.66s/it]"
     ]
    },
    {
     "name": "stdout",
     "output_type": "stream",
     "text": [
      "C:/Users/chiso/MEGA/data/aligned_new/Lisa Ann\\107.jpg\n",
      "Aligning 107.jpg ...\n",
      "Getting landmarks...\n",
      "Starting face alignment...\n",
      "Wrote result C:/Users/chiso/MEGA/data/aligned_new/Lisa Ann\\107.png\n"
     ]
    },
    {
     "name": "stderr",
     "output_type": "stream",
     "text": [
      "\n",
      "  7%|██████████████▏                                                                                                                                                                                  | 10/136 [00:27<05:33,  2.65s/it]"
     ]
    },
    {
     "name": "stdout",
     "output_type": "stream",
     "text": [
      "C:/Users/chiso/MEGA/data/aligned_new/Lisa Ann\\108.jpg\n",
      "Aligning 108.jpg ...\n",
      "Getting landmarks...\n",
      "Starting face alignment...\n",
      "Wrote result C:/Users/chiso/MEGA/data/aligned_new/Lisa Ann\\108.png\n"
     ]
    },
    {
     "name": "stderr",
     "output_type": "stream",
     "text": [
      "\n",
      "  8%|███████████████▌                                                                                                                                                                                 | 11/136 [00:29<05:27,  2.62s/it]"
     ]
    },
    {
     "name": "stdout",
     "output_type": "stream",
     "text": [
      "C:/Users/chiso/MEGA/data/aligned_new/Lisa Ann\\109.jpg\n",
      "Aligning 109.jpg ...\n",
      "Getting landmarks...\n",
      "Starting face alignment...\n",
      "Wrote result C:/Users/chiso/MEGA/data/aligned_new/Lisa Ann\\109.png\n"
     ]
    },
    {
     "name": "stderr",
     "output_type": "stream",
     "text": [
      "\n",
      "  9%|█████████████████                                                                                                                                                                                | 12/136 [00:32<05:21,  2.59s/it]"
     ]
    },
    {
     "name": "stdout",
     "output_type": "stream",
     "text": [
      "C:/Users/chiso/MEGA/data/aligned_new/Lisa Ann\\11.jpg\n",
      "Aligning 11.jpg ...\n",
      "Getting landmarks...\n"
     ]
    },
    {
     "name": "stderr",
     "output_type": "stream",
     "text": [
      "\n",
      " 10%|██████████████████▍                                                                                                                                                                              | 13/136 [00:33<04:38,  2.26s/it]"
     ]
    },
    {
     "name": "stdout",
     "output_type": "stream",
     "text": [
      "C:/Users/chiso/MEGA/data/aligned_new/Lisa Ann\\110.jpg\n",
      "Aligning 110.jpg ...\n",
      "Getting landmarks...\n",
      "Starting face alignment...\n",
      "Wrote result C:/Users/chiso/MEGA/data/aligned_new/Lisa Ann\\110.png\n"
     ]
    },
    {
     "name": "stderr",
     "output_type": "stream",
     "text": [
      "\n",
      " 10%|███████████████████▊                                                                                                                                                                             | 14/136 [00:36<04:47,  2.35s/it]"
     ]
    },
    {
     "name": "stdout",
     "output_type": "stream",
     "text": [
      "C:/Users/chiso/MEGA/data/aligned_new/Lisa Ann\\111.jpg\n",
      "Aligning 111.jpg ...\n",
      "Getting landmarks...\n",
      "Starting face alignment...\n",
      "Wrote result C:/Users/chiso/MEGA/data/aligned_new/Lisa Ann\\111.png\n"
     ]
    },
    {
     "name": "stderr",
     "output_type": "stream",
     "text": [
      "\n",
      " 11%|█████████████████████▎                                                                                                                                                                           | 15/136 [00:39<04:57,  2.46s/it]"
     ]
    },
    {
     "name": "stdout",
     "output_type": "stream",
     "text": [
      "C:/Users/chiso/MEGA/data/aligned_new/Lisa Ann\\112.jpg\n",
      "Aligning 112.jpg ...\n",
      "Getting landmarks...\n",
      "Starting face alignment...\n",
      "Wrote result C:/Users/chiso/MEGA/data/aligned_new/Lisa Ann\\112.png\n"
     ]
    },
    {
     "name": "stderr",
     "output_type": "stream",
     "text": [
      "\n",
      " 12%|██████████████████████▋                                                                                                                                                                          | 16/136 [00:41<05:01,  2.51s/it]"
     ]
    },
    {
     "name": "stdout",
     "output_type": "stream",
     "text": [
      "C:/Users/chiso/MEGA/data/aligned_new/Lisa Ann\\113.jpg\n",
      "Aligning 113.jpg ...\n",
      "Getting landmarks...\n",
      "Starting face alignment...\n",
      "Wrote result C:/Users/chiso/MEGA/data/aligned_new/Lisa Ann\\113.png\n"
     ]
    },
    {
     "name": "stderr",
     "output_type": "stream",
     "text": [
      "\n",
      " 12%|████████████████████████▏                                                                                                                                                                        | 17/136 [00:44<05:04,  2.56s/it]"
     ]
    },
    {
     "name": "stdout",
     "output_type": "stream",
     "text": [
      "C:/Users/chiso/MEGA/data/aligned_new/Lisa Ann\\114.jpg\n",
      "Aligning 114.jpg ...\n",
      "Getting landmarks...\n",
      "Starting face alignment...\n",
      "Wrote result C:/Users/chiso/MEGA/data/aligned_new/Lisa Ann\\114.png\n"
     ]
    },
    {
     "name": "stderr",
     "output_type": "stream",
     "text": [
      "\n",
      " 13%|█████████████████████████▌                                                                                                                                                                       | 18/136 [00:47<05:05,  2.59s/it]"
     ]
    },
    {
     "name": "stdout",
     "output_type": "stream",
     "text": [
      "C:/Users/chiso/MEGA/data/aligned_new/Lisa Ann\\115.jpg\n",
      "Aligning 115.jpg ...\n",
      "Getting landmarks...\n",
      "Starting face alignment...\n",
      "Wrote result C:/Users/chiso/MEGA/data/aligned_new/Lisa Ann\\115.png\n"
     ]
    },
    {
     "name": "stderr",
     "output_type": "stream",
     "text": [
      "\n",
      " 14%|██████████████████████████▉                                                                                                                                                                      | 19/136 [00:49<05:03,  2.59s/it]"
     ]
    },
    {
     "name": "stdout",
     "output_type": "stream",
     "text": [
      "C:/Users/chiso/MEGA/data/aligned_new/Lisa Ann\\116.jpg\n",
      "Aligning 116.jpg ...\n",
      "Getting landmarks...\n",
      "Starting face alignment...\n",
      "Wrote result C:/Users/chiso/MEGA/data/aligned_new/Lisa Ann\\116.png\n"
     ]
    },
    {
     "name": "stderr",
     "output_type": "stream",
     "text": [
      "\n",
      " 15%|████████████████████████████▍                                                                                                                                                                    | 20/136 [00:52<04:58,  2.58s/it]"
     ]
    },
    {
     "name": "stdout",
     "output_type": "stream",
     "text": [
      "C:/Users/chiso/MEGA/data/aligned_new/Lisa Ann\\118.jpg\n",
      "Aligning 118.jpg ...\n",
      "Getting landmarks...\n",
      "Starting face alignment...\n",
      "Wrote result C:/Users/chiso/MEGA/data/aligned_new/Lisa Ann\\118.png\n",
      "Starting face alignment...\n",
      "Wrote result C:/Users/chiso/MEGA/data/aligned_new/Lisa Ann\\118.png\n"
     ]
    },
    {
     "name": "stderr",
     "output_type": "stream",
     "text": [
      "\n",
      " 15%|█████████████████████████████▊                                                                                                                                                                   | 21/136 [00:55<05:33,  2.90s/it]"
     ]
    },
    {
     "name": "stdout",
     "output_type": "stream",
     "text": [
      "C:/Users/chiso/MEGA/data/aligned_new/Lisa Ann\\119.jpg\n",
      "Aligning 119.jpg ...\n",
      "Getting landmarks...\n",
      "Starting face alignment...\n",
      "Wrote result C:/Users/chiso/MEGA/data/aligned_new/Lisa Ann\\119.png\n"
     ]
    },
    {
     "name": "stderr",
     "output_type": "stream",
     "text": [
      "\n",
      " 16%|███████████████████████████████▏                                                                                                                                                                 | 22/136 [00:58<05:22,  2.83s/it]"
     ]
    },
    {
     "name": "stdout",
     "output_type": "stream",
     "text": [
      "C:/Users/chiso/MEGA/data/aligned_new/Lisa Ann\\12.jpg\n",
      "Aligning 12.jpg ...\n",
      "Getting landmarks...\n",
      "Starting face alignment...\n",
      "Wrote result C:/Users/chiso/MEGA/data/aligned_new/Lisa Ann\\12.png\n"
     ]
    },
    {
     "name": "stderr",
     "output_type": "stream",
     "text": [
      "\n",
      " 17%|████████████████████████████████▋                                                                                                                                                                | 23/136 [01:01<05:15,  2.79s/it]"
     ]
    },
    {
     "name": "stdout",
     "output_type": "stream",
     "text": [
      "C:/Users/chiso/MEGA/data/aligned_new/Lisa Ann\\120.jpg\n",
      "Aligning 120.jpg ...\n",
      "Getting landmarks...\n",
      "Starting face alignment...\n",
      "Wrote result C:/Users/chiso/MEGA/data/aligned_new/Lisa Ann\\120.png\n",
      "Starting face alignment...\n",
      "Wrote result C:/Users/chiso/MEGA/data/aligned_new/Lisa Ann\\120.png\n"
     ]
    },
    {
     "name": "stderr",
     "output_type": "stream",
     "text": [
      "\n",
      " 18%|██████████████████████████████████                                                                                                                                                               | 24/136 [01:04<05:41,  3.05s/it]"
     ]
    },
    {
     "name": "stdout",
     "output_type": "stream",
     "text": [
      "C:/Users/chiso/MEGA/data/aligned_new/Lisa Ann\\121.jpg\n",
      "Aligning 121.jpg ...\n",
      "Getting landmarks...\n",
      "Starting face alignment...\n",
      "Wrote result C:/Users/chiso/MEGA/data/aligned_new/Lisa Ann\\121.png\n"
     ]
    },
    {
     "name": "stderr",
     "output_type": "stream",
     "text": [
      "\n",
      " 18%|███████████████████████████████████▍                                                                                                                                                             | 25/136 [01:07<05:23,  2.92s/it]"
     ]
    },
    {
     "name": "stdout",
     "output_type": "stream",
     "text": [
      "C:/Users/chiso/MEGA/data/aligned_new/Lisa Ann\\122.jpg\n",
      "Aligning 122.jpg ...\n",
      "Getting landmarks...\n",
      "Starting face alignment...\n",
      "Wrote result C:/Users/chiso/MEGA/data/aligned_new/Lisa Ann\\122.png\n"
     ]
    },
    {
     "name": "stderr",
     "output_type": "stream",
     "text": [
      "\n",
      " 19%|████████████████████████████████████▉                                                                                                                                                            | 26/136 [01:10<05:10,  2.83s/it]"
     ]
    },
    {
     "name": "stdout",
     "output_type": "stream",
     "text": [
      "C:/Users/chiso/MEGA/data/aligned_new/Lisa Ann\\123.jpg\n",
      "Aligning 123.jpg ...\n",
      "Getting landmarks...\n",
      "Starting face alignment...\n",
      "Wrote result C:/Users/chiso/MEGA/data/aligned_new/Lisa Ann\\123.png\n"
     ]
    },
    {
     "name": "stderr",
     "output_type": "stream",
     "text": [
      "\n",
      " 20%|██████████████████████████████████████▎                                                                                                                                                          | 27/136 [01:12<05:00,  2.75s/it]"
     ]
    },
    {
     "name": "stdout",
     "output_type": "stream",
     "text": [
      "C:/Users/chiso/MEGA/data/aligned_new/Lisa Ann\\124.jpg\n",
      "Aligning 124.jpg ...\n",
      "Getting landmarks...\n",
      "Starting face alignment...\n",
      "Wrote result C:/Users/chiso/MEGA/data/aligned_new/Lisa Ann\\124.png\n"
     ]
    },
    {
     "name": "stderr",
     "output_type": "stream",
     "text": [
      "\n",
      " 21%|███████████████████████████████████████▋                                                                                                                                                         | 28/136 [01:15<04:50,  2.69s/it]"
     ]
    },
    {
     "name": "stdout",
     "output_type": "stream",
     "text": [
      "C:/Users/chiso/MEGA/data/aligned_new/Lisa Ann\\125.jpg\n",
      "Aligning 125.jpg ...\n",
      "Getting landmarks...\n",
      "Starting face alignment...\n",
      "Wrote result C:/Users/chiso/MEGA/data/aligned_new/Lisa Ann\\125.png\n"
     ]
    },
    {
     "name": "stderr",
     "output_type": "stream",
     "text": [
      "\n",
      " 21%|█████████████████████████████████████████▏                                                                                                                                                       | 29/136 [01:17<04:46,  2.68s/it]"
     ]
    },
    {
     "name": "stdout",
     "output_type": "stream",
     "text": [
      "C:/Users/chiso/MEGA/data/aligned_new/Lisa Ann\\126.jpg\n",
      "Aligning 126.jpg ...\n",
      "Getting landmarks...\n",
      "Starting face alignment...\n",
      "Wrote result C:/Users/chiso/MEGA/data/aligned_new/Lisa Ann\\126.png\n",
      "Starting face alignment...\n",
      "Wrote result C:/Users/chiso/MEGA/data/aligned_new/Lisa Ann\\126.png\n"
     ]
    },
    {
     "name": "stderr",
     "output_type": "stream",
     "text": [
      "\n",
      " 22%|██████████████████████████████████████████▌                                                                                                                                                      | 30/136 [01:21<05:10,  2.93s/it]"
     ]
    },
    {
     "name": "stdout",
     "output_type": "stream",
     "text": [
      "C:/Users/chiso/MEGA/data/aligned_new/Lisa Ann\\127.jpg\n",
      "Aligning 127.jpg ...\n",
      "Getting landmarks...\n",
      "Starting face alignment...\n",
      "Wrote result C:/Users/chiso/MEGA/data/aligned_new/Lisa Ann\\127.png\n"
     ]
    },
    {
     "name": "stderr",
     "output_type": "stream",
     "text": [
      "\n",
      " 23%|███████████████████████████████████████████▉                                                                                                                                                     | 31/136 [01:23<04:54,  2.81s/it]"
     ]
    },
    {
     "name": "stdout",
     "output_type": "stream",
     "text": [
      "C:/Users/chiso/MEGA/data/aligned_new/Lisa Ann\\128.jpg\n",
      "Aligning 128.jpg ...\n",
      "Getting landmarks...\n",
      "Starting face alignment...\n",
      "Wrote result C:/Users/chiso/MEGA/data/aligned_new/Lisa Ann\\128.png\n",
      "Starting face alignment...\n",
      "Wrote result C:/Users/chiso/MEGA/data/aligned_new/Lisa Ann\\128.png\n"
     ]
    },
    {
     "name": "stderr",
     "output_type": "stream",
     "text": [
      "\n",
      " 24%|█████████████████████████████████████████████▍                                                                                                                                                   | 32/136 [01:27<05:16,  3.04s/it]"
     ]
    },
    {
     "name": "stdout",
     "output_type": "stream",
     "text": [
      "C:/Users/chiso/MEGA/data/aligned_new/Lisa Ann\\129.jpg\n",
      "Aligning 129.jpg ...\n",
      "Getting landmarks...\n",
      "Starting face alignment...\n",
      "Wrote result C:/Users/chiso/MEGA/data/aligned_new/Lisa Ann\\129.png\n"
     ]
    },
    {
     "name": "stderr",
     "output_type": "stream",
     "text": [
      "\n",
      " 24%|██████████████████████████████████████████████▊                                                                                                                                                  | 33/136 [01:30<05:00,  2.91s/it]"
     ]
    },
    {
     "name": "stdout",
     "output_type": "stream",
     "text": [
      "C:/Users/chiso/MEGA/data/aligned_new/Lisa Ann\\13.jpg\n",
      "Aligning 13.jpg ...\n",
      "Getting landmarks...\n",
      "Starting face alignment...\n",
      "Wrote result C:/Users/chiso/MEGA/data/aligned_new/Lisa Ann\\13.png\n"
     ]
    },
    {
     "name": "stderr",
     "output_type": "stream",
     "text": [
      "\n",
      " 25%|████████████████████████████████████████████████▎                                                                                                                                                | 34/136 [01:32<04:50,  2.85s/it]"
     ]
    },
    {
     "name": "stdout",
     "output_type": "stream",
     "text": [
      "C:/Users/chiso/MEGA/data/aligned_new/Lisa Ann\\130.jpg\n",
      "Aligning 130.jpg ...\n",
      "Getting landmarks...\n",
      "Starting face alignment...\n",
      "Wrote result C:/Users/chiso/MEGA/data/aligned_new/Lisa Ann\\130.png\n",
      "Starting face alignment...\n",
      "Wrote result C:/Users/chiso/MEGA/data/aligned_new/Lisa Ann\\130.png\n"
     ]
    },
    {
     "name": "stderr",
     "output_type": "stream",
     "text": [
      "\n",
      " 26%|█████████████████████████████████████████████████▋                                                                                                                                               | 35/136 [01:36<05:21,  3.19s/it]"
     ]
    },
    {
     "name": "stdout",
     "output_type": "stream",
     "text": [
      "C:/Users/chiso/MEGA/data/aligned_new/Lisa Ann\\131.jpg\n",
      "Aligning 131.jpg ...\n",
      "Getting landmarks...\n",
      "Starting face alignment...\n",
      "Wrote result C:/Users/chiso/MEGA/data/aligned_new/Lisa Ann\\131.png\n"
     ]
    },
    {
     "name": "stderr",
     "output_type": "stream",
     "text": [
      "\n",
      " 26%|███████████████████████████████████████████████████                                                                                                                                              | 36/136 [01:39<05:02,  3.02s/it]"
     ]
    },
    {
     "name": "stdout",
     "output_type": "stream",
     "text": [
      "C:/Users/chiso/MEGA/data/aligned_new/Lisa Ann\\132.jpg\n",
      "Aligning 132.jpg ...\n",
      "Getting landmarks...\n",
      "Starting face alignment...\n",
      "Wrote result C:/Users/chiso/MEGA/data/aligned_new/Lisa Ann\\132.png\n"
     ]
    },
    {
     "name": "stderr",
     "output_type": "stream",
     "text": [
      "\n",
      " 27%|████████████████████████████████████████████████████▌                                                                                                                                            | 37/136 [01:42<04:47,  2.90s/it]"
     ]
    },
    {
     "name": "stdout",
     "output_type": "stream",
     "text": [
      "C:/Users/chiso/MEGA/data/aligned_new/Lisa Ann\\133.jpg\n",
      "Aligning 133.jpg ...\n",
      "Getting landmarks...\n"
     ]
    },
    {
     "name": "stderr",
     "output_type": "stream",
     "text": [
      "\n",
      " 28%|█████████████████████████████████████████████████████▉                                                                                                                                           | 38/136 [01:43<04:00,  2.45s/it]"
     ]
    },
    {
     "name": "stdout",
     "output_type": "stream",
     "text": [
      "C:/Users/chiso/MEGA/data/aligned_new/Lisa Ann\\134.jpg\n",
      "Aligning 134.jpg ...\n",
      "Getting landmarks...\n",
      "Starting face alignment...\n",
      "Wrote result C:/Users/chiso/MEGA/data/aligned_new/Lisa Ann\\134.png\n"
     ]
    },
    {
     "name": "stderr",
     "output_type": "stream",
     "text": [
      "\n",
      " 29%|███████████████████████████████████████████████████████▎                                                                                                                                         | 39/136 [01:46<04:04,  2.52s/it]"
     ]
    },
    {
     "name": "stdout",
     "output_type": "stream",
     "text": [
      "C:/Users/chiso/MEGA/data/aligned_new/Lisa Ann\\135.jpg\n",
      "Aligning 135.jpg ...\n",
      "Getting landmarks...\n",
      "Starting face alignment...\n",
      "Wrote result C:/Users/chiso/MEGA/data/aligned_new/Lisa Ann\\135.png\n",
      "Starting face alignment...\n",
      "Wrote result C:/Users/chiso/MEGA/data/aligned_new/Lisa Ann\\135.png\n"
     ]
    },
    {
     "name": "stderr",
     "output_type": "stream",
     "text": [
      "\n",
      " 29%|████████████████████████████████████████████████████████▊                                                                                                                                        | 40/136 [01:50<04:45,  2.97s/it]"
     ]
    },
    {
     "name": "stdout",
     "output_type": "stream",
     "text": [
      "C:/Users/chiso/MEGA/data/aligned_new/Lisa Ann\\136.jpg\n",
      "Aligning 136.jpg ...\n",
      "Getting landmarks...\n",
      "Starting face alignment...\n",
      "Wrote result C:/Users/chiso/MEGA/data/aligned_new/Lisa Ann\\136.png\n"
     ]
    },
    {
     "name": "stderr",
     "output_type": "stream",
     "text": [
      "\n",
      " 30%|██████████████████████████████████████████████████████████▏                                                                                                                                      | 41/136 [01:52<04:28,  2.83s/it]"
     ]
    },
    {
     "name": "stdout",
     "output_type": "stream",
     "text": [
      "C:/Users/chiso/MEGA/data/aligned_new/Lisa Ann\\137.jpg\n",
      "Aligning 137.jpg ...\n",
      "Getting landmarks...\n",
      "Starting face alignment...\n",
      "Wrote result C:/Users/chiso/MEGA/data/aligned_new/Lisa Ann\\137.png\n"
     ]
    },
    {
     "name": "stderr",
     "output_type": "stream",
     "text": [
      "\n",
      " 31%|███████████████████████████████████████████████████████████▌                                                                                                                                     | 42/136 [01:55<04:17,  2.74s/it]"
     ]
    },
    {
     "name": "stdout",
     "output_type": "stream",
     "text": [
      "C:/Users/chiso/MEGA/data/aligned_new/Lisa Ann\\14.jpg\n",
      "Aligning 14.jpg ...\n",
      "Getting landmarks...\n",
      "Starting face alignment...\n",
      "Wrote result C:/Users/chiso/MEGA/data/aligned_new/Lisa Ann\\14.png\n"
     ]
    },
    {
     "name": "stderr",
     "output_type": "stream",
     "text": [
      "\n",
      " 32%|█████████████████████████████████████████████████████████████                                                                                                                                    | 43/136 [01:58<04:18,  2.78s/it]"
     ]
    },
    {
     "name": "stdout",
     "output_type": "stream",
     "text": [
      "C:/Users/chiso/MEGA/data/aligned_new/Lisa Ann\\15.jpg\n",
      "Aligning 15.jpg ...\n",
      "Getting landmarks...\n",
      "Starting face alignment...\n",
      "Wrote result C:/Users/chiso/MEGA/data/aligned_new/Lisa Ann\\15.png\n"
     ]
    },
    {
     "name": "stderr",
     "output_type": "stream",
     "text": [
      "\n",
      " 32%|██████████████████████████████████████████████████████████████▍                                                                                                                                  | 44/136 [02:00<04:14,  2.77s/it]"
     ]
    },
    {
     "name": "stdout",
     "output_type": "stream",
     "text": [
      "C:/Users/chiso/MEGA/data/aligned_new/Lisa Ann\\16.jpg\n",
      "Aligning 16.jpg ...\n",
      "Getting landmarks...\n",
      "Starting face alignment...\n",
      "Wrote result C:/Users/chiso/MEGA/data/aligned_new/Lisa Ann\\16.png\n"
     ]
    },
    {
     "name": "stderr",
     "output_type": "stream",
     "text": [
      "\n",
      " 33%|███████████████████████████████████████████████████████████████▊                                                                                                                                 | 45/136 [02:03<04:11,  2.76s/it]"
     ]
    },
    {
     "name": "stdout",
     "output_type": "stream",
     "text": [
      "C:/Users/chiso/MEGA/data/aligned_new/Lisa Ann\\17.jpg\n",
      "Aligning 17.jpg ...\n",
      "Getting landmarks...\n",
      "Starting face alignment...\n",
      "Wrote result C:/Users/chiso/MEGA/data/aligned_new/Lisa Ann\\17.png\n"
     ]
    },
    {
     "name": "stderr",
     "output_type": "stream",
     "text": [
      "\n",
      " 34%|█████████████████████████████████████████████████████████████████▎                                                                                                                               | 46/136 [02:06<04:06,  2.74s/it]"
     ]
    },
    {
     "name": "stdout",
     "output_type": "stream",
     "text": [
      "C:/Users/chiso/MEGA/data/aligned_new/Lisa Ann\\18.jpg\n",
      "Aligning 18.jpg ...\n",
      "Getting landmarks...\n",
      "Starting face alignment...\n",
      "Wrote result C:/Users/chiso/MEGA/data/aligned_new/Lisa Ann\\18.png\n"
     ]
    },
    {
     "name": "stderr",
     "output_type": "stream",
     "text": [
      "\n",
      " 35%|██████████████████████████████████████████████████████████████████▋                                                                                                                              | 47/136 [02:08<04:01,  2.71s/it]"
     ]
    },
    {
     "name": "stdout",
     "output_type": "stream",
     "text": [
      "C:/Users/chiso/MEGA/data/aligned_new/Lisa Ann\\19.jpg\n",
      "Aligning 19.jpg ...\n",
      "Getting landmarks...\n",
      "Starting face alignment...\n",
      "Wrote result C:/Users/chiso/MEGA/data/aligned_new/Lisa Ann\\19.png\n"
     ]
    },
    {
     "name": "stderr",
     "output_type": "stream",
     "text": [
      "\n",
      " 35%|████████████████████████████████████████████████████████████████████                                                                                                                             | 48/136 [02:11<04:00,  2.73s/it]"
     ]
    },
    {
     "name": "stdout",
     "output_type": "stream",
     "text": [
      "C:/Users/chiso/MEGA/data/aligned_new/Lisa Ann\\2.jpg\n",
      "Aligning 2.jpg ...\n",
      "Getting landmarks...\n",
      "Starting face alignment...\n",
      "Wrote result C:/Users/chiso/MEGA/data/aligned_new/Lisa Ann\\2.png\n"
     ]
    },
    {
     "name": "stderr",
     "output_type": "stream",
     "text": [
      "\n",
      " 36%|█████████████████████████████████████████████████████████████████████▌                                                                                                                           | 49/136 [02:14<04:08,  2.85s/it]"
     ]
    },
    {
     "name": "stdout",
     "output_type": "stream",
     "text": [
      "C:/Users/chiso/MEGA/data/aligned_new/Lisa Ann\\20.jpg\n",
      "Aligning 20.jpg ...\n",
      "Getting landmarks...\n",
      "Starting face alignment...\n",
      "Wrote result C:/Users/chiso/MEGA/data/aligned_new/Lisa Ann\\20.png\n"
     ]
    },
    {
     "name": "stderr",
     "output_type": "stream",
     "text": [
      "\n",
      " 37%|██████████████████████████████████████████████████████████████████████▉                                                                                                                          | 50/136 [02:18<04:19,  3.01s/it]"
     ]
    },
    {
     "name": "stdout",
     "output_type": "stream",
     "text": [
      "C:/Users/chiso/MEGA/data/aligned_new/Lisa Ann\\21.jpg\n",
      "Aligning 21.jpg ...\n",
      "Getting landmarks...\n",
      "Starting face alignment...\n",
      "Wrote result C:/Users/chiso/MEGA/data/aligned_new/Lisa Ann\\21.png\n"
     ]
    },
    {
     "name": "stderr",
     "output_type": "stream",
     "text": [
      "\n",
      " 38%|████████████████████████████████████████████████████████████████████████▍                                                                                                                        | 51/136 [02:21<04:21,  3.08s/it]"
     ]
    },
    {
     "name": "stdout",
     "output_type": "stream",
     "text": [
      "C:/Users/chiso/MEGA/data/aligned_new/Lisa Ann\\22.jpg\n",
      "Aligning 22.jpg ...\n",
      "Getting landmarks...\n",
      "Starting face alignment...\n",
      "Wrote result C:/Users/chiso/MEGA/data/aligned_new/Lisa Ann\\22.png\n"
     ]
    },
    {
     "name": "stderr",
     "output_type": "stream",
     "text": [
      "\n",
      " 38%|█████████████████████████████████████████████████████████████████████████▊                                                                                                                       | 52/136 [02:24<04:15,  3.04s/it]"
     ]
    },
    {
     "name": "stdout",
     "output_type": "stream",
     "text": [
      "C:/Users/chiso/MEGA/data/aligned_new/Lisa Ann\\23.jpg\n",
      "Aligning 23.jpg ...\n",
      "Getting landmarks...\n"
     ]
    },
    {
     "name": "stderr",
     "output_type": "stream",
     "text": [
      "\n",
      " 39%|███████████████████████████████████████████████████████████████████████████▏                                                                                                                     | 53/136 [02:26<03:37,  2.61s/it]"
     ]
    },
    {
     "name": "stdout",
     "output_type": "stream",
     "text": [
      "C:/Users/chiso/MEGA/data/aligned_new/Lisa Ann\\24.jpg\n",
      "Aligning 24.jpg ...\n",
      "Getting landmarks...\n",
      "Starting face alignment...\n",
      "Wrote result C:/Users/chiso/MEGA/data/aligned_new/Lisa Ann\\24.png\n",
      "Starting face alignment...\n",
      "Wrote result C:/Users/chiso/MEGA/data/aligned_new/Lisa Ann\\24.png\n"
     ]
    },
    {
     "name": "stderr",
     "output_type": "stream",
     "text": [
      "\n",
      " 40%|████████████████████████████████████████████████████████████████████████████▋                                                                                                                    | 54/136 [02:29<04:03,  2.97s/it]"
     ]
    },
    {
     "name": "stdout",
     "output_type": "stream",
     "text": [
      "C:/Users/chiso/MEGA/data/aligned_new/Lisa Ann\\25.jpg\n",
      "Aligning 25.jpg ...\n",
      "Getting landmarks...\n",
      "Starting face alignment...\n",
      "Wrote result C:/Users/chiso/MEGA/data/aligned_new/Lisa Ann\\25.png\n"
     ]
    },
    {
     "name": "stderr",
     "output_type": "stream",
     "text": [
      "\n",
      " 40%|██████████████████████████████████████████████████████████████████████████████                                                                                                                   | 55/136 [02:32<03:55,  2.91s/it]"
     ]
    },
    {
     "name": "stdout",
     "output_type": "stream",
     "text": [
      "C:/Users/chiso/MEGA/data/aligned_new/Lisa Ann\\26.jpg\n",
      "Aligning 26.jpg ...\n",
      "Getting landmarks...\n",
      "Starting face alignment...\n",
      "Wrote result C:/Users/chiso/MEGA/data/aligned_new/Lisa Ann\\26.png\n"
     ]
    },
    {
     "name": "stderr",
     "output_type": "stream",
     "text": [
      "\n",
      " 41%|███████████████████████████████████████████████████████████████████████████████▍                                                                                                                 | 56/136 [02:36<04:13,  3.16s/it]"
     ]
    },
    {
     "name": "stdout",
     "output_type": "stream",
     "text": [
      "C:/Users/chiso/MEGA/data/aligned_new/Lisa Ann\\27.jpg\n",
      "Aligning 27.jpg ...\n",
      "Getting landmarks...\n",
      "Starting face alignment...\n",
      "Wrote result C:/Users/chiso/MEGA/data/aligned_new/Lisa Ann\\27.png\n"
     ]
    },
    {
     "name": "stderr",
     "output_type": "stream",
     "text": [
      "\n",
      " 42%|████████████████████████████████████████████████████████████████████████████████▉                                                                                                                | 57/136 [02:39<03:59,  3.04s/it]"
     ]
    },
    {
     "name": "stdout",
     "output_type": "stream",
     "text": [
      "C:/Users/chiso/MEGA/data/aligned_new/Lisa Ann\\28.jpg\n",
      "Aligning 28.jpg ...\n",
      "Getting landmarks...\n",
      "Starting face alignment...\n",
      "Wrote result C:/Users/chiso/MEGA/data/aligned_new/Lisa Ann\\28.png\n"
     ]
    },
    {
     "name": "stderr",
     "output_type": "stream",
     "text": [
      "\n",
      " 43%|██████████████████████████████████████████████████████████████████████████████████▎                                                                                                              | 58/136 [02:42<03:57,  3.05s/it]"
     ]
    },
    {
     "name": "stdout",
     "output_type": "stream",
     "text": [
      "C:/Users/chiso/MEGA/data/aligned_new/Lisa Ann\\29.jpg\n",
      "Aligning 29.jpg ...\n",
      "Getting landmarks...\n",
      "Starting face alignment...\n",
      "Wrote result C:/Users/chiso/MEGA/data/aligned_new/Lisa Ann\\29.png\n"
     ]
    },
    {
     "name": "stderr",
     "output_type": "stream",
     "text": [
      "\n",
      " 43%|███████████████████████████████████████████████████████████████████████████████████▋                                                                                                             | 59/136 [02:44<03:46,  2.94s/it]"
     ]
    },
    {
     "name": "stdout",
     "output_type": "stream",
     "text": [
      "C:/Users/chiso/MEGA/data/aligned_new/Lisa Ann\\3.jpg\n",
      "Aligning 3.jpg ...\n",
      "Getting landmarks...\n",
      "Starting face alignment...\n",
      "Wrote result C:/Users/chiso/MEGA/data/aligned_new/Lisa Ann\\3.png\n"
     ]
    },
    {
     "name": "stderr",
     "output_type": "stream",
     "text": [
      "\n",
      " 44%|█████████████████████████████████████████████████████████████████████████████████████▏                                                                                                           | 60/136 [02:47<03:39,  2.89s/it]"
     ]
    },
    {
     "name": "stdout",
     "output_type": "stream",
     "text": [
      "C:/Users/chiso/MEGA/data/aligned_new/Lisa Ann\\30.jpg\n",
      "Aligning 30.jpg ...\n",
      "Getting landmarks...\n",
      "Starting face alignment...\n",
      "Wrote result C:/Users/chiso/MEGA/data/aligned_new/Lisa Ann\\30.png\n"
     ]
    },
    {
     "name": "stderr",
     "output_type": "stream",
     "text": [
      "\n",
      " 45%|██████████████████████████████████████████████████████████████████████████████████████▌                                                                                                          | 61/136 [02:50<03:32,  2.84s/it]"
     ]
    },
    {
     "name": "stdout",
     "output_type": "stream",
     "text": [
      "C:/Users/chiso/MEGA/data/aligned_new/Lisa Ann\\31.jpg\n",
      "Aligning 31.jpg ...\n",
      "Getting landmarks...\n",
      "Starting face alignment...\n",
      "Wrote result C:/Users/chiso/MEGA/data/aligned_new/Lisa Ann\\31.png\n"
     ]
    },
    {
     "name": "stderr",
     "output_type": "stream",
     "text": [
      "\n",
      " 46%|███████████████████████████████████████████████████████████████████████████████████████▉                                                                                                         | 62/136 [02:53<03:27,  2.80s/it]"
     ]
    },
    {
     "name": "stdout",
     "output_type": "stream",
     "text": [
      "C:/Users/chiso/MEGA/data/aligned_new/Lisa Ann\\32.jpg\n",
      "Aligning 32.jpg ...\n",
      "Getting landmarks...\n",
      "Starting face alignment...\n",
      "Wrote result C:/Users/chiso/MEGA/data/aligned_new/Lisa Ann\\32.png\n"
     ]
    },
    {
     "name": "stderr",
     "output_type": "stream",
     "text": [
      "\n",
      " 46%|█████████████████████████████████████████████████████████████████████████████████████████▍                                                                                                       | 63/136 [02:55<03:24,  2.80s/it]"
     ]
    },
    {
     "name": "stdout",
     "output_type": "stream",
     "text": [
      "C:/Users/chiso/MEGA/data/aligned_new/Lisa Ann\\33.jpg\n",
      "Aligning 33.jpg ...\n",
      "Getting landmarks...\n",
      "Starting face alignment...\n",
      "Wrote result C:/Users/chiso/MEGA/data/aligned_new/Lisa Ann\\33.png\n"
     ]
    },
    {
     "name": "stderr",
     "output_type": "stream",
     "text": [
      "\n",
      " 47%|██████████████████████████████████████████████████████████████████████████████████████████▊                                                                                                      | 64/136 [02:58<03:19,  2.77s/it]"
     ]
    },
    {
     "name": "stdout",
     "output_type": "stream",
     "text": [
      "C:/Users/chiso/MEGA/data/aligned_new/Lisa Ann\\34.jpg\n",
      "Aligning 34.jpg ...\n",
      "Getting landmarks...\n",
      "Starting face alignment...\n",
      "Wrote result C:/Users/chiso/MEGA/data/aligned_new/Lisa Ann\\34.png\n"
     ]
    },
    {
     "name": "stderr",
     "output_type": "stream",
     "text": [
      "\n",
      " 48%|████████████████████████████████████████████████████████████████████████████████████████████▏                                                                                                    | 65/136 [03:01<03:22,  2.85s/it]"
     ]
    },
    {
     "name": "stdout",
     "output_type": "stream",
     "text": [
      "C:/Users/chiso/MEGA/data/aligned_new/Lisa Ann\\35.jpg\n",
      "Aligning 35.jpg ...\n",
      "Getting landmarks...\n"
     ]
    },
    {
     "name": "stderr",
     "output_type": "stream",
     "text": [
      "\n",
      " 49%|█████████████████████████████████████████████████████████████████████████████████████████████▋                                                                                                   | 66/136 [03:03<02:54,  2.49s/it]"
     ]
    },
    {
     "name": "stdout",
     "output_type": "stream",
     "text": [
      "C:/Users/chiso/MEGA/data/aligned_new/Lisa Ann\\36.jpg\n",
      "Aligning 36.jpg ...\n",
      "Getting landmarks...\n",
      "Starting face alignment...\n",
      "Wrote result C:/Users/chiso/MEGA/data/aligned_new/Lisa Ann\\36.png\n"
     ]
    },
    {
     "name": "stderr",
     "output_type": "stream",
     "text": [
      "\n",
      " 49%|███████████████████████████████████████████████████████████████████████████████████████████████                                                                                                  | 67/136 [03:05<02:55,  2.54s/it]"
     ]
    },
    {
     "name": "stdout",
     "output_type": "stream",
     "text": [
      "C:/Users/chiso/MEGA/data/aligned_new/Lisa Ann\\37.jpg\n",
      "Aligning 37.jpg ...\n",
      "Getting landmarks...\n"
     ]
    },
    {
     "name": "stderr",
     "output_type": "stream",
     "text": [
      "\n",
      " 50%|████████████████████████████████████████████████████████████████████████████████████████████████▌                                                                                                | 68/136 [03:07<02:32,  2.24s/it]"
     ]
    },
    {
     "name": "stdout",
     "output_type": "stream",
     "text": [
      "C:/Users/chiso/MEGA/data/aligned_new/Lisa Ann\\38.jpg\n",
      "Aligning 38.jpg ...\n",
      "Getting landmarks...\n",
      "Starting face alignment...\n",
      "Wrote result C:/Users/chiso/MEGA/data/aligned_new/Lisa Ann\\38.png\n"
     ]
    },
    {
     "name": "stderr",
     "output_type": "stream",
     "text": [
      "\n",
      " 51%|█████████████████████████████████████████████████████████████████████████████████████████████████▉                                                                                               | 69/136 [03:10<02:41,  2.41s/it]"
     ]
    },
    {
     "name": "stdout",
     "output_type": "stream",
     "text": [
      "C:/Users/chiso/MEGA/data/aligned_new/Lisa Ann\\39.jpg\n",
      "Aligning 39.jpg ...\n",
      "Getting landmarks...\n",
      "Starting face alignment...\n",
      "Wrote result C:/Users/chiso/MEGA/data/aligned_new/Lisa Ann\\39.png\n"
     ]
    },
    {
     "name": "stderr",
     "output_type": "stream",
     "text": [
      "\n",
      " 51%|███████████████████████████████████████████████████████████████████████████████████████████████████▎                                                                                             | 70/136 [03:12<02:45,  2.51s/it]"
     ]
    },
    {
     "name": "stdout",
     "output_type": "stream",
     "text": [
      "C:/Users/chiso/MEGA/data/aligned_new/Lisa Ann\\4.jpg\n",
      "Aligning 4.jpg ...\n",
      "Getting landmarks...\n",
      "Starting face alignment...\n",
      "Wrote result C:/Users/chiso/MEGA/data/aligned_new/Lisa Ann\\4.png\n"
     ]
    },
    {
     "name": "stderr",
     "output_type": "stream",
     "text": [
      "\n",
      " 52%|████████████████████████████████████████████████████████████████████████████████████████████████████▊                                                                                            | 71/136 [03:15<02:47,  2.58s/it]"
     ]
    },
    {
     "name": "stdout",
     "output_type": "stream",
     "text": [
      "C:/Users/chiso/MEGA/data/aligned_new/Lisa Ann\\40.jpg\n",
      "Aligning 40.jpg ...\n",
      "Getting landmarks...\n",
      "Starting face alignment...\n",
      "Wrote result C:/Users/chiso/MEGA/data/aligned_new/Lisa Ann\\40.png\n"
     ]
    },
    {
     "name": "stderr",
     "output_type": "stream",
     "text": [
      "\n",
      " 53%|██████████████████████████████████████████████████████████████████████████████████████████████████████▏                                                                                          | 72/136 [03:18<02:48,  2.63s/it]"
     ]
    },
    {
     "name": "stdout",
     "output_type": "stream",
     "text": [
      "C:/Users/chiso/MEGA/data/aligned_new/Lisa Ann\\41.jpg\n",
      "Aligning 41.jpg ...\n",
      "Getting landmarks...\n",
      "Starting face alignment...\n",
      "Wrote result C:/Users/chiso/MEGA/data/aligned_new/Lisa Ann\\41.png\n"
     ]
    },
    {
     "name": "stderr",
     "output_type": "stream",
     "text": [
      "\n",
      " 54%|███████████████████████████████████████████████████████████████████████████████████████████████████████▌                                                                                         | 73/136 [03:21<02:46,  2.64s/it]"
     ]
    },
    {
     "name": "stdout",
     "output_type": "stream",
     "text": [
      "C:/Users/chiso/MEGA/data/aligned_new/Lisa Ann\\42.jpg\n",
      "Aligning 42.jpg ...\n",
      "Getting landmarks...\n",
      "Starting face alignment...\n",
      "Wrote result C:/Users/chiso/MEGA/data/aligned_new/Lisa Ann\\42.png\n"
     ]
    },
    {
     "name": "stderr",
     "output_type": "stream",
     "text": [
      "\n",
      " 54%|█████████████████████████████████████████████████████████████████████████████████████████████████████████                                                                                        | 74/136 [03:23<02:46,  2.68s/it]"
     ]
    },
    {
     "name": "stdout",
     "output_type": "stream",
     "text": [
      "C:/Users/chiso/MEGA/data/aligned_new/Lisa Ann\\43.jpg\n",
      "Aligning 43.jpg ...\n",
      "Getting landmarks...\n",
      "Starting face alignment...\n",
      "Wrote result C:/Users/chiso/MEGA/data/aligned_new/Lisa Ann\\43.png\n"
     ]
    },
    {
     "name": "stderr",
     "output_type": "stream",
     "text": [
      "\n",
      " 55%|██████████████████████████████████████████████████████████████████████████████████████████████████████████▍                                                                                      | 75/136 [03:26<02:44,  2.69s/it]"
     ]
    },
    {
     "name": "stdout",
     "output_type": "stream",
     "text": [
      "C:/Users/chiso/MEGA/data/aligned_new/Lisa Ann\\44.jpg\n",
      "Aligning 44.jpg ...\n",
      "Getting landmarks...\n",
      "Starting face alignment...\n",
      "Wrote result C:/Users/chiso/MEGA/data/aligned_new/Lisa Ann\\44.png\n"
     ]
    },
    {
     "name": "stderr",
     "output_type": "stream",
     "text": [
      "\n",
      " 56%|███████████████████████████████████████████████████████████████████████████████████████████████████████████▊                                                                                     | 76/136 [03:29<02:43,  2.73s/it]"
     ]
    },
    {
     "name": "stdout",
     "output_type": "stream",
     "text": [
      "C:/Users/chiso/MEGA/data/aligned_new/Lisa Ann\\45.jpg\n",
      "Aligning 45.jpg ...\n",
      "Getting landmarks...\n",
      "Starting face alignment...\n",
      "Wrote result C:/Users/chiso/MEGA/data/aligned_new/Lisa Ann\\45.png\n"
     ]
    },
    {
     "name": "stderr",
     "output_type": "stream",
     "text": [
      "\n",
      " 57%|█████████████████████████████████████████████████████████████████████████████████████████████████████████████▎                                                                                   | 77/136 [03:32<02:41,  2.74s/it]"
     ]
    },
    {
     "name": "stdout",
     "output_type": "stream",
     "text": [
      "C:/Users/chiso/MEGA/data/aligned_new/Lisa Ann\\46.jpg\n",
      "Aligning 46.jpg ...\n",
      "Getting landmarks...\n",
      "Starting face alignment...\n",
      "Wrote result C:/Users/chiso/MEGA/data/aligned_new/Lisa Ann\\46.png\n"
     ]
    },
    {
     "name": "stderr",
     "output_type": "stream",
     "text": [
      "\n",
      " 57%|██████████████████████████████████████████████████████████████████████████████████████████████████████████████▋                                                                                  | 78/136 [03:35<02:49,  2.93s/it]"
     ]
    },
    {
     "name": "stdout",
     "output_type": "stream",
     "text": [
      "C:/Users/chiso/MEGA/data/aligned_new/Lisa Ann\\47.jpg\n",
      "Aligning 47.jpg ...\n",
      "Getting landmarks...\n",
      "Starting face alignment...\n",
      "Wrote result C:/Users/chiso/MEGA/data/aligned_new/Lisa Ann\\47.png\n",
      "Starting face alignment...\n",
      "Wrote result C:/Users/chiso/MEGA/data/aligned_new/Lisa Ann\\47.png\n"
     ]
    },
    {
     "name": "stderr",
     "output_type": "stream",
     "text": [
      "\n",
      " 58%|████████████████████████████████████████████████████████████████████████████████████████████████████████████████                                                                                 | 79/136 [03:40<03:18,  3.48s/it]"
     ]
    },
    {
     "name": "stdout",
     "output_type": "stream",
     "text": [
      "C:/Users/chiso/MEGA/data/aligned_new/Lisa Ann\\48.jpg\n",
      "Aligning 48.jpg ...\n",
      "Getting landmarks...\n",
      "Starting face alignment...\n",
      "Wrote result C:/Users/chiso/MEGA/data/aligned_new/Lisa Ann\\48.png\n"
     ]
    },
    {
     "name": "stderr",
     "output_type": "stream",
     "text": [
      "\n",
      " 59%|█████████████████████████████████████████████████████████████████████████████████████████████████████████████████▌                                                                               | 80/136 [03:43<03:09,  3.39s/it]"
     ]
    },
    {
     "name": "stdout",
     "output_type": "stream",
     "text": [
      "C:/Users/chiso/MEGA/data/aligned_new/Lisa Ann\\49.jpg\n",
      "Aligning 49.jpg ...\n",
      "Getting landmarks...\n",
      "Starting face alignment...\n",
      "Wrote result C:/Users/chiso/MEGA/data/aligned_new/Lisa Ann\\49.png\n"
     ]
    },
    {
     "name": "stderr",
     "output_type": "stream",
     "text": [
      "\n",
      " 60%|██████████████████████████████████████████████████████████████████████████████████████████████████████████████████▉                                                                              | 81/136 [03:46<02:57,  3.23s/it]"
     ]
    },
    {
     "name": "stdout",
     "output_type": "stream",
     "text": [
      "C:/Users/chiso/MEGA/data/aligned_new/Lisa Ann\\5.jpg\n",
      "Aligning 5.jpg ...\n",
      "Getting landmarks...\n",
      "Starting face alignment...\n",
      "Wrote result C:/Users/chiso/MEGA/data/aligned_new/Lisa Ann\\5.png\n"
     ]
    },
    {
     "name": "stderr",
     "output_type": "stream",
     "text": [
      "\n",
      " 60%|████████████████████████████████████████████████████████████████████████████████████████████████████████████████████▎                                                                            | 82/136 [03:49<02:53,  3.22s/it]"
     ]
    },
    {
     "name": "stdout",
     "output_type": "stream",
     "text": [
      "C:/Users/chiso/MEGA/data/aligned_new/Lisa Ann\\50.jpg\n",
      "Aligning 50.jpg ...\n",
      "Getting landmarks...\n",
      "Starting face alignment...\n",
      "Wrote result C:/Users/chiso/MEGA/data/aligned_new/Lisa Ann\\50.png\n",
      "Starting face alignment...\n",
      "Wrote result C:/Users/chiso/MEGA/data/aligned_new/Lisa Ann\\50.png\n"
     ]
    },
    {
     "name": "stderr",
     "output_type": "stream",
     "text": [
      "\n",
      " 61%|█████████████████████████████████████████████████████████████████████████████████████████████████████████████████████▊                                                                           | 83/136 [03:53<03:03,  3.47s/it]"
     ]
    },
    {
     "name": "stdout",
     "output_type": "stream",
     "text": [
      "C:/Users/chiso/MEGA/data/aligned_new/Lisa Ann\\51.jpg\n",
      "Aligning 51.jpg ...\n",
      "Getting landmarks...\n",
      "Starting face alignment...\n",
      "Wrote result C:/Users/chiso/MEGA/data/aligned_new/Lisa Ann\\51.png\n"
     ]
    },
    {
     "name": "stderr",
     "output_type": "stream",
     "text": [
      "\n",
      " 62%|███████████████████████████████████████████████████████████████████████████████████████████████████████████████████████▏                                                                         | 84/136 [03:57<03:00,  3.47s/it]"
     ]
    },
    {
     "name": "stdout",
     "output_type": "stream",
     "text": [
      "C:/Users/chiso/MEGA/data/aligned_new/Lisa Ann\\52.jpg\n",
      "Aligning 52.jpg ...\n",
      "Getting landmarks...\n",
      "Starting face alignment...\n",
      "Wrote result C:/Users/chiso/MEGA/data/aligned_new/Lisa Ann\\52.png\n"
     ]
    },
    {
     "name": "stderr",
     "output_type": "stream",
     "text": [
      "\n",
      " 62%|████████████████████████████████████████████████████████████████████████████████████████████████████████████████████████▋                                                                        | 85/136 [03:59<02:47,  3.28s/it]"
     ]
    },
    {
     "name": "stdout",
     "output_type": "stream",
     "text": [
      "C:/Users/chiso/MEGA/data/aligned_new/Lisa Ann\\53.jpg\n",
      "Aligning 53.jpg ...\n",
      "Getting landmarks...\n"
     ]
    },
    {
     "name": "stderr",
     "output_type": "stream",
     "text": [
      "\n",
      " 63%|██████████████████████████████████████████████████████████████████████████████████████████████████████████████████████████                                                                       | 86/136 [04:02<02:27,  2.94s/it]"
     ]
    },
    {
     "name": "stdout",
     "output_type": "stream",
     "text": [
      "C:/Users/chiso/MEGA/data/aligned_new/Lisa Ann\\54.jpg\n",
      "Aligning 54.jpg ...\n",
      "Getting landmarks...\n",
      "Starting face alignment...\n",
      "Wrote result C:/Users/chiso/MEGA/data/aligned_new/Lisa Ann\\54.png\n"
     ]
    },
    {
     "name": "stderr",
     "output_type": "stream",
     "text": [
      "\n",
      " 64%|███████████████████████████████████████████████████████████████████████████████████████████████████████████████████████████▍                                                                     | 87/136 [04:06<02:42,  3.32s/it]"
     ]
    },
    {
     "name": "stdout",
     "output_type": "stream",
     "text": [
      "C:/Users/chiso/MEGA/data/aligned_new/Lisa Ann\\55.jpg\n",
      "Aligning 55.jpg ...\n",
      "Getting landmarks...\n",
      "Starting face alignment...\n",
      "Wrote result C:/Users/chiso/MEGA/data/aligned_new/Lisa Ann\\55.png\n"
     ]
    },
    {
     "name": "stderr",
     "output_type": "stream",
     "text": [
      "\n",
      " 65%|████████████████████████████████████████████████████████████████████████████████████████████████████████████████████████████▉                                                                    | 88/136 [04:10<02:52,  3.59s/it]"
     ]
    },
    {
     "name": "stdout",
     "output_type": "stream",
     "text": [
      "C:/Users/chiso/MEGA/data/aligned_new/Lisa Ann\\56.jpg\n",
      "Aligning 56.jpg ...\n",
      "Getting landmarks...\n",
      "Starting face alignment...\n",
      "Wrote result C:/Users/chiso/MEGA/data/aligned_new/Lisa Ann\\56.png\n"
     ]
    },
    {
     "name": "stderr",
     "output_type": "stream",
     "text": [
      "\n",
      " 65%|██████████████████████████████████████████████████████████████████████████████████████████████████████████████████████████████▎                                                                  | 89/136 [04:14<03:00,  3.84s/it]"
     ]
    },
    {
     "name": "stdout",
     "output_type": "stream",
     "text": [
      "C:/Users/chiso/MEGA/data/aligned_new/Lisa Ann\\57.jpg\n",
      "Aligning 57.jpg ...\n",
      "Getting landmarks...\n",
      "Starting face alignment...\n",
      "Wrote result C:/Users/chiso/MEGA/data/aligned_new/Lisa Ann\\57.png\n"
     ]
    },
    {
     "name": "stderr",
     "output_type": "stream",
     "text": [
      "\n",
      " 66%|███████████████████████████████████████████████████████████████████████████████████████████████████████████████████████████████▋                                                                 | 90/136 [04:18<02:57,  3.87s/it]"
     ]
    },
    {
     "name": "stdout",
     "output_type": "stream",
     "text": [
      "C:/Users/chiso/MEGA/data/aligned_new/Lisa Ann\\58.jpg\n",
      "Aligning 58.jpg ...\n",
      "Getting landmarks...\n",
      "Starting face alignment...\n",
      "Wrote result C:/Users/chiso/MEGA/data/aligned_new/Lisa Ann\\58.png\n"
     ]
    },
    {
     "name": "stderr",
     "output_type": "stream",
     "text": [
      "\n",
      " 67%|█████████████████████████████████████████████████████████████████████████████████████████████████████████████████████████████████▏                                                               | 91/136 [04:22<02:45,  3.68s/it]"
     ]
    },
    {
     "name": "stdout",
     "output_type": "stream",
     "text": [
      "C:/Users/chiso/MEGA/data/aligned_new/Lisa Ann\\59.jpg\n",
      "Aligning 59.jpg ...\n",
      "Getting landmarks...\n",
      "Starting face alignment...\n",
      "Wrote result C:/Users/chiso/MEGA/data/aligned_new/Lisa Ann\\59.png\n"
     ]
    },
    {
     "name": "stderr",
     "output_type": "stream",
     "text": [
      "\n",
      " 68%|██████████████████████████████████████████████████████████████████████████████████████████████████████████████████████████████████▌                                                              | 92/136 [04:26<02:46,  3.78s/it]"
     ]
    },
    {
     "name": "stdout",
     "output_type": "stream",
     "text": [
      "C:/Users/chiso/MEGA/data/aligned_new/Lisa Ann\\6.jpg\n",
      "Aligning 6.jpg ...\n",
      "Getting landmarks...\n",
      "Starting face alignment...\n",
      "Wrote result C:/Users/chiso/MEGA/data/aligned_new/Lisa Ann\\6.png\n"
     ]
    },
    {
     "name": "stderr",
     "output_type": "stream",
     "text": [
      "\n",
      " 68%|███████████████████████████████████████████████████████████████████████████████████████████████████████████████████████████████████▉                                                             | 93/136 [04:29<02:40,  3.72s/it]"
     ]
    },
    {
     "name": "stdout",
     "output_type": "stream",
     "text": [
      "C:/Users/chiso/MEGA/data/aligned_new/Lisa Ann\\60.jpg\n",
      "Aligning 60.jpg ...\n",
      "Getting landmarks...\n",
      "Starting face alignment...\n",
      "Wrote result C:/Users/chiso/MEGA/data/aligned_new/Lisa Ann\\60.png\n"
     ]
    },
    {
     "name": "stderr",
     "output_type": "stream",
     "text": [
      "\n",
      " 69%|█████████████████████████████████████████████████████████████████████████████████████████████████████████████████████████████████████▍                                                           | 94/136 [04:32<02:30,  3.59s/it]"
     ]
    },
    {
     "name": "stdout",
     "output_type": "stream",
     "text": [
      "C:/Users/chiso/MEGA/data/aligned_new/Lisa Ann\\61.jpg\n",
      "Aligning 61.jpg ...\n",
      "Getting landmarks...\n",
      "Starting face alignment...\n",
      "Wrote result C:/Users/chiso/MEGA/data/aligned_new/Lisa Ann\\61.png\n"
     ]
    },
    {
     "name": "stderr",
     "output_type": "stream",
     "text": [
      "\n",
      " 70%|██████████████████████████████████████████████████████████████████████████████████████████████████████████████████████████████████████▊                                                          | 95/136 [04:37<02:34,  3.78s/it]"
     ]
    },
    {
     "name": "stdout",
     "output_type": "stream",
     "text": [
      "C:/Users/chiso/MEGA/data/aligned_new/Lisa Ann\\62.jpg\n",
      "Aligning 62.jpg ...\n",
      "Getting landmarks...\n",
      "Starting face alignment...\n",
      "Wrote result C:/Users/chiso/MEGA/data/aligned_new/Lisa Ann\\62.png\n",
      "Starting face alignment...\n",
      "Wrote result C:/Users/chiso/MEGA/data/aligned_new/Lisa Ann\\62.png\n"
     ]
    },
    {
     "name": "stderr",
     "output_type": "stream",
     "text": [
      "\n",
      " 71%|████████████████████████████████████████████████████████████████████████████████████████████████████████████████████████████████████████▏                                                        | 96/136 [04:41<02:35,  3.89s/it]"
     ]
    },
    {
     "name": "stdout",
     "output_type": "stream",
     "text": [
      "C:/Users/chiso/MEGA/data/aligned_new/Lisa Ann\\63.jpg\n",
      "Aligning 63.jpg ...\n",
      "Getting landmarks...\n",
      "Starting face alignment...\n",
      "Wrote result C:/Users/chiso/MEGA/data/aligned_new/Lisa Ann\\63.png\n"
     ]
    },
    {
     "name": "stderr",
     "output_type": "stream",
     "text": [
      "\n",
      " 71%|█████████████████████████████████████████████████████████████████████████████████████████████████████████████████████████████████████████▋                                                       | 97/136 [04:45<02:30,  3.87s/it]"
     ]
    },
    {
     "name": "stdout",
     "output_type": "stream",
     "text": [
      "C:/Users/chiso/MEGA/data/aligned_new/Lisa Ann\\64.jpg\n",
      "Aligning 64.jpg ...\n",
      "Getting landmarks...\n",
      "Starting face alignment...\n",
      "Wrote result C:/Users/chiso/MEGA/data/aligned_new/Lisa Ann\\64.png\n"
     ]
    },
    {
     "name": "stderr",
     "output_type": "stream",
     "text": [
      "\n",
      " 72%|███████████████████████████████████████████████████████████████████████████████████████████████████████████████████████████████████████████                                                      | 98/136 [04:48<02:20,  3.71s/it]"
     ]
    },
    {
     "name": "stdout",
     "output_type": "stream",
     "text": [
      "C:/Users/chiso/MEGA/data/aligned_new/Lisa Ann\\65.jpg\n",
      "Aligning 65.jpg ...\n",
      "Getting landmarks...\n",
      "Starting face alignment...\n",
      "Wrote result C:/Users/chiso/MEGA/data/aligned_new/Lisa Ann\\65.png\n"
     ]
    },
    {
     "name": "stderr",
     "output_type": "stream",
     "text": [
      "\n",
      " 73%|████████████████████████████████████████████████████████████████████████████████████████████████████████████████████████████████████████████▍                                                    | 99/136 [04:51<02:08,  3.47s/it]"
     ]
    },
    {
     "name": "stdout",
     "output_type": "stream",
     "text": [
      "C:/Users/chiso/MEGA/data/aligned_new/Lisa Ann\\66.jpg\n",
      "Aligning 66.jpg ...\n",
      "Getting landmarks...\n",
      "Starting face alignment...\n",
      "Wrote result C:/Users/chiso/MEGA/data/aligned_new/Lisa Ann\\66.png\n",
      "Starting face alignment...\n",
      "Wrote result C:/Users/chiso/MEGA/data/aligned_new/Lisa Ann\\66.png\n"
     ]
    },
    {
     "name": "stderr",
     "output_type": "stream",
     "text": [
      "\n",
      " 74%|█████████████████████████████████████████████████████████████████████████████████████████████████████████████████████████████████████████████▏                                                  | 100/136 [04:55<02:12,  3.68s/it]"
     ]
    },
    {
     "name": "stdout",
     "output_type": "stream",
     "text": [
      "C:/Users/chiso/MEGA/data/aligned_new/Lisa Ann\\67.jpg\n",
      "Aligning 67.jpg ...\n",
      "Getting landmarks...\n",
      "Starting face alignment...\n",
      "Wrote result C:/Users/chiso/MEGA/data/aligned_new/Lisa Ann\\67.png\n"
     ]
    },
    {
     "name": "stderr",
     "output_type": "stream",
     "text": [
      "\n",
      " 74%|██████████████████████████████████████████████████████████████████████████████████████████████████████████████████████████████████████████████▌                                                 | 101/136 [04:58<02:04,  3.55s/it]"
     ]
    },
    {
     "name": "stdout",
     "output_type": "stream",
     "text": [
      "C:/Users/chiso/MEGA/data/aligned_new/Lisa Ann\\68.jpg\n",
      "Aligning 68.jpg ...\n",
      "Getting landmarks...\n",
      "Starting face alignment...\n",
      "Wrote result C:/Users/chiso/MEGA/data/aligned_new/Lisa Ann\\68.png\n"
     ]
    },
    {
     "name": "stderr",
     "output_type": "stream",
     "text": [
      "\n",
      " 75%|████████████████████████████████████████████████████████████████████████████████████████████████████████████████████████████████████████████████                                                | 102/136 [05:01<01:55,  3.40s/it]"
     ]
    },
    {
     "name": "stdout",
     "output_type": "stream",
     "text": [
      "C:/Users/chiso/MEGA/data/aligned_new/Lisa Ann\\69.jpg\n",
      "Aligning 69.jpg ...\n",
      "Getting landmarks...\n",
      "Starting face alignment...\n",
      "Wrote result C:/Users/chiso/MEGA/data/aligned_new/Lisa Ann\\69.png\n"
     ]
    },
    {
     "name": "stderr",
     "output_type": "stream",
     "text": [
      "\n",
      " 76%|█████████████████████████████████████████████████████████████████████████████████████████████████████████████████████████████████████████████████▍                                              | 103/136 [05:04<01:47,  3.24s/it]"
     ]
    },
    {
     "name": "stdout",
     "output_type": "stream",
     "text": [
      "C:/Users/chiso/MEGA/data/aligned_new/Lisa Ann\\7.jpg\n",
      "Aligning 7.jpg ...\n",
      "Getting landmarks...\n",
      "Starting face alignment...\n",
      "Wrote result C:/Users/chiso/MEGA/data/aligned_new/Lisa Ann\\7.png\n"
     ]
    },
    {
     "name": "stderr",
     "output_type": "stream",
     "text": [
      "\n",
      " 76%|██████████████████████████████████████████████████████████████████████████████████████████████████████████████████████████████████████████████████▊                                             | 104/136 [05:07<01:42,  3.19s/it]"
     ]
    },
    {
     "name": "stdout",
     "output_type": "stream",
     "text": [
      "C:/Users/chiso/MEGA/data/aligned_new/Lisa Ann\\70.jpg\n",
      "Aligning 70.jpg ...\n",
      "Getting landmarks...\n",
      "Starting face alignment...\n",
      "Wrote result C:/Users/chiso/MEGA/data/aligned_new/Lisa Ann\\70.png\n"
     ]
    },
    {
     "name": "stderr",
     "output_type": "stream",
     "text": [
      "\n",
      " 77%|████████████████████████████████████████████████████████████████████████████████████████████████████████████████████████████████████████████████████▏                                           | 105/136 [05:10<01:35,  3.09s/it]"
     ]
    },
    {
     "name": "stdout",
     "output_type": "stream",
     "text": [
      "C:/Users/chiso/MEGA/data/aligned_new/Lisa Ann\\71.jpg\n",
      "Aligning 71.jpg ...\n",
      "Getting landmarks...\n",
      "Starting face alignment...\n",
      "Wrote result C:/Users/chiso/MEGA/data/aligned_new/Lisa Ann\\71.png\n"
     ]
    },
    {
     "name": "stderr",
     "output_type": "stream",
     "text": [
      "\n",
      " 78%|█████████████████████████████████████████████████████████████████████████████████████████████████████████████████████████████████████████████████████▋                                          | 106/136 [05:13<01:30,  3.03s/it]"
     ]
    },
    {
     "name": "stdout",
     "output_type": "stream",
     "text": [
      "C:/Users/chiso/MEGA/data/aligned_new/Lisa Ann\\72.jpg\n",
      "Aligning 72.jpg ...\n",
      "Getting landmarks...\n",
      "Starting face alignment...\n",
      "Wrote result C:/Users/chiso/MEGA/data/aligned_new/Lisa Ann\\72.png\n"
     ]
    },
    {
     "name": "stderr",
     "output_type": "stream",
     "text": [
      "\n",
      " 79%|███████████████████████████████████████████████████████████████████████████████████████████████████████████████████████████████████████████████████████                                         | 107/136 [05:16<01:26,  2.98s/it]"
     ]
    },
    {
     "name": "stdout",
     "output_type": "stream",
     "text": [
      "C:/Users/chiso/MEGA/data/aligned_new/Lisa Ann\\73.jpg\n",
      "Aligning 73.jpg ...\n",
      "Getting landmarks...\n",
      "Starting face alignment...\n",
      "Wrote result C:/Users/chiso/MEGA/data/aligned_new/Lisa Ann\\73.png\n"
     ]
    },
    {
     "name": "stderr",
     "output_type": "stream",
     "text": [
      "\n",
      " 79%|████████████████████████████████████████████████████████████████████████████████████████████████████████████████████████████████████████████████████████▍                                       | 108/136 [05:19<01:22,  2.95s/it]"
     ]
    },
    {
     "name": "stdout",
     "output_type": "stream",
     "text": [
      "C:/Users/chiso/MEGA/data/aligned_new/Lisa Ann\\74.jpg\n",
      "Aligning 74.jpg ...\n",
      "Getting landmarks...\n",
      "Starting face alignment...\n",
      "Wrote result C:/Users/chiso/MEGA/data/aligned_new/Lisa Ann\\74.png\n"
     ]
    },
    {
     "name": "stderr",
     "output_type": "stream",
     "text": [
      "\n",
      " 80%|█████████████████████████████████████████████████████████████████████████████████████████████████████████████████████████████████████████████████████████▉                                      | 109/136 [05:22<01:19,  2.95s/it]"
     ]
    },
    {
     "name": "stdout",
     "output_type": "stream",
     "text": [
      "C:/Users/chiso/MEGA/data/aligned_new/Lisa Ann\\75.jpg\n",
      "Aligning 75.jpg ...\n",
      "Getting landmarks...\n",
      "Starting face alignment...\n",
      "Wrote result C:/Users/chiso/MEGA/data/aligned_new/Lisa Ann\\75.png\n"
     ]
    },
    {
     "name": "stderr",
     "output_type": "stream",
     "text": [
      "\n",
      " 81%|███████████████████████████████████████████████████████████████████████████████████████████████████████████████████████████████████████████████████████████▎                                    | 110/136 [05:24<01:14,  2.86s/it]"
     ]
    },
    {
     "name": "stdout",
     "output_type": "stream",
     "text": [
      "C:/Users/chiso/MEGA/data/aligned_new/Lisa Ann\\76.jpg\n",
      "Aligning 76.jpg ...\n",
      "Getting landmarks...\n",
      "Starting face alignment...\n",
      "Wrote result C:/Users/chiso/MEGA/data/aligned_new/Lisa Ann\\76.png\n"
     ]
    },
    {
     "name": "stderr",
     "output_type": "stream",
     "text": [
      "\n",
      " 82%|████████████████████████████████████████████████████████████████████████████████████████████████████████████████████████████████████████████████████████████▋                                   | 111/136 [05:27<01:13,  2.92s/it]"
     ]
    },
    {
     "name": "stdout",
     "output_type": "stream",
     "text": [
      "C:/Users/chiso/MEGA/data/aligned_new/Lisa Ann\\77.jpg\n",
      "Aligning 77.jpg ...\n",
      "Getting landmarks...\n",
      "Starting face alignment...\n",
      "Wrote result C:/Users/chiso/MEGA/data/aligned_new/Lisa Ann\\77.png\n"
     ]
    },
    {
     "name": "stderr",
     "output_type": "stream",
     "text": [
      "\n",
      " 82%|██████████████████████████████████████████████████████████████████████████████████████████████████████████████████████████████████████████████████████████████                                  | 112/136 [05:30<01:09,  2.88s/it]"
     ]
    },
    {
     "name": "stdout",
     "output_type": "stream",
     "text": [
      "C:/Users/chiso/MEGA/data/aligned_new/Lisa Ann\\78.jpg\n",
      "Aligning 78.jpg ...\n",
      "Getting landmarks...\n",
      "Starting face alignment...\n",
      "Wrote result C:/Users/chiso/MEGA/data/aligned_new/Lisa Ann\\78.png\n"
     ]
    },
    {
     "name": "stderr",
     "output_type": "stream",
     "text": [
      "\n",
      " 83%|███████████████████████████████████████████████████████████████████████████████████████████████████████████████████████████████████████████████████████████████▌                                | 113/136 [05:33<01:07,  2.92s/it]"
     ]
    },
    {
     "name": "stdout",
     "output_type": "stream",
     "text": [
      "C:/Users/chiso/MEGA/data/aligned_new/Lisa Ann\\79.jpg\n",
      "Aligning 79.jpg ...\n",
      "Getting landmarks...\n",
      "Starting face alignment...\n",
      "Wrote result C:/Users/chiso/MEGA/data/aligned_new/Lisa Ann\\79.png\n"
     ]
    },
    {
     "name": "stderr",
     "output_type": "stream",
     "text": [
      "\n",
      " 84%|████████████████████████████████████████████████████████████████████████████████████████████████████████████████████████████████████████████████████████████████▉                               | 114/136 [05:37<01:07,  3.06s/it]"
     ]
    },
    {
     "name": "stdout",
     "output_type": "stream",
     "text": [
      "C:/Users/chiso/MEGA/data/aligned_new/Lisa Ann\\8.jpg\n",
      "Aligning 8.jpg ...\n",
      "Getting landmarks...\n",
      "Starting face alignment...\n",
      "Wrote result C:/Users/chiso/MEGA/data/aligned_new/Lisa Ann\\8.png\n"
     ]
    },
    {
     "name": "stderr",
     "output_type": "stream",
     "text": [
      "\n",
      " 85%|██████████████████████████████████████████████████████████████████████████████████████████████████████████████████████████████████████████████████████████████████▎                             | 115/136 [05:40<01:04,  3.05s/it]"
     ]
    },
    {
     "name": "stdout",
     "output_type": "stream",
     "text": [
      "C:/Users/chiso/MEGA/data/aligned_new/Lisa Ann\\80.jpg\n",
      "Aligning 80.jpg ...\n",
      "Getting landmarks...\n",
      "Starting face alignment...\n",
      "Wrote result C:/Users/chiso/MEGA/data/aligned_new/Lisa Ann\\80.png\n"
     ]
    },
    {
     "name": "stderr",
     "output_type": "stream",
     "text": [
      "\n",
      " 85%|███████████████████████████████████████████████████████████████████████████████████████████████████████████████████████████████████████████████████████████████████▊                            | 116/136 [05:43<01:00,  3.04s/it]"
     ]
    },
    {
     "name": "stdout",
     "output_type": "stream",
     "text": [
      "C:/Users/chiso/MEGA/data/aligned_new/Lisa Ann\\81.jpg\n",
      "Aligning 81.jpg ...\n",
      "Getting landmarks...\n"
     ]
    },
    {
     "name": "stderr",
     "output_type": "stream",
     "text": [
      "\n",
      " 86%|█████████████████████████████████████████████████████████████████████████████████████████████████████████████████████████████████████████████████████████████████████▏                          | 117/136 [05:44<00:50,  2.66s/it]"
     ]
    },
    {
     "name": "stdout",
     "output_type": "stream",
     "text": [
      "C:/Users/chiso/MEGA/data/aligned_new/Lisa Ann\\82.jpg\n",
      "Aligning 82.jpg ...\n",
      "Getting landmarks...\n",
      "Starting face alignment...\n",
      "Wrote result C:/Users/chiso/MEGA/data/aligned_new/Lisa Ann\\82.png\n"
     ]
    },
    {
     "name": "stderr",
     "output_type": "stream",
     "text": [
      "\n",
      " 87%|██████████████████████████████████████████████████████████████████████████████████████████████████████████████████████████████████████████████████████████████████████▌                         | 118/136 [05:47<00:49,  2.74s/it]"
     ]
    },
    {
     "name": "stdout",
     "output_type": "stream",
     "text": [
      "C:/Users/chiso/MEGA/data/aligned_new/Lisa Ann\\83.jpg\n",
      "Aligning 83.jpg ...\n",
      "Getting landmarks...\n"
     ]
    },
    {
     "name": "stderr",
     "output_type": "stream",
     "text": [
      "\n",
      " 88%|████████████████████████████████████████████████████████████████████████████████████████████████████████████████████████████████████████████████████████████████████████                        | 119/136 [05:49<00:40,  2.40s/it]"
     ]
    },
    {
     "name": "stdout",
     "output_type": "stream",
     "text": [
      "C:/Users/chiso/MEGA/data/aligned_new/Lisa Ann\\84.jpg\n",
      "Aligning 84.jpg ...\n",
      "Getting landmarks...\n",
      "Starting face alignment...\n",
      "Wrote result C:/Users/chiso/MEGA/data/aligned_new/Lisa Ann\\84.png\n"
     ]
    },
    {
     "name": "stderr",
     "output_type": "stream",
     "text": [
      "\n",
      " 88%|█████████████████████████████████████████████████████████████████████████████████████████████████████████████████████████████████████████████████████████████████████████▍                      | 120/136 [05:52<00:40,  2.51s/it]"
     ]
    },
    {
     "name": "stdout",
     "output_type": "stream",
     "text": [
      "C:/Users/chiso/MEGA/data/aligned_new/Lisa Ann\\85.jpg\n",
      "Aligning 85.jpg ...\n",
      "Getting landmarks...\n",
      "Starting face alignment...\n",
      "Wrote result C:/Users/chiso/MEGA/data/aligned_new/Lisa Ann\\85.png\n"
     ]
    },
    {
     "name": "stderr",
     "output_type": "stream",
     "text": [
      "\n",
      " 89%|██████████████████████████████████████████████████████████████████████████████████████████████████████████████████████████████████████████████████████████████████████████▊                     | 121/136 [05:54<00:38,  2.56s/it]"
     ]
    },
    {
     "name": "stdout",
     "output_type": "stream",
     "text": [
      "C:/Users/chiso/MEGA/data/aligned_new/Lisa Ann\\86.jpg\n",
      "Aligning 86.jpg ...\n",
      "Getting landmarks...\n",
      "Starting face alignment...\n",
      "Wrote result C:/Users/chiso/MEGA/data/aligned_new/Lisa Ann\\86.png\n"
     ]
    },
    {
     "name": "stderr",
     "output_type": "stream",
     "text": [
      "\n",
      " 90%|████████████████████████████████████████████████████████████████████████████████████████████████████████████████████████████████████████████████████████████████████████████▏                   | 122/136 [05:57<00:36,  2.63s/it]"
     ]
    },
    {
     "name": "stdout",
     "output_type": "stream",
     "text": [
      "C:/Users/chiso/MEGA/data/aligned_new/Lisa Ann\\87.jpg\n",
      "Aligning 87.jpg ...\n",
      "Getting landmarks...\n",
      "Starting face alignment...\n",
      "Wrote result C:/Users/chiso/MEGA/data/aligned_new/Lisa Ann\\87.png\n"
     ]
    },
    {
     "name": "stderr",
     "output_type": "stream",
     "text": [
      "\n",
      " 90%|█████████████████████████████████████████████████████████████████████████████████████████████████████████████████████████████████████████████████████████████████████████████▋                  | 123/136 [06:00<00:34,  2.65s/it]"
     ]
    },
    {
     "name": "stdout",
     "output_type": "stream",
     "text": [
      "C:/Users/chiso/MEGA/data/aligned_new/Lisa Ann\\88.jpg\n",
      "Aligning 88.jpg ...\n",
      "Getting landmarks...\n",
      "Starting face alignment...\n",
      "Wrote result C:/Users/chiso/MEGA/data/aligned_new/Lisa Ann\\88.png\n"
     ]
    },
    {
     "name": "stderr",
     "output_type": "stream",
     "text": [
      "\n",
      " 91%|███████████████████████████████████████████████████████████████████████████████████████████████████████████████████████████████████████████████████████████████████████████████                 | 124/136 [06:03<00:32,  2.70s/it]"
     ]
    },
    {
     "name": "stdout",
     "output_type": "stream",
     "text": [
      "C:/Users/chiso/MEGA/data/aligned_new/Lisa Ann\\89.jpg\n",
      "Aligning 89.jpg ...\n",
      "Getting landmarks...\n",
      "Starting face alignment...\n",
      "Wrote result C:/Users/chiso/MEGA/data/aligned_new/Lisa Ann\\89.png\n",
      "Starting face alignment...\n",
      "Wrote result C:/Users/chiso/MEGA/data/aligned_new/Lisa Ann\\89.png\n",
      "Starting face alignment...\n",
      "Wrote result C:/Users/chiso/MEGA/data/aligned_new/Lisa Ann\\89.png\n"
     ]
    },
    {
     "name": "stderr",
     "output_type": "stream",
     "text": [
      "\n",
      " 92%|████████████████████████████████████████████████████████████████████████████████████████████████████████████████████████████████████████████████████████████████████████████████▍               | 125/136 [06:07<00:35,  3.27s/it]"
     ]
    },
    {
     "name": "stdout",
     "output_type": "stream",
     "text": [
      "C:/Users/chiso/MEGA/data/aligned_new/Lisa Ann\\9.jpg\n",
      "Aligning 9.jpg ...\n",
      "Getting landmarks...\n",
      "Starting face alignment...\n",
      "Wrote result C:/Users/chiso/MEGA/data/aligned_new/Lisa Ann\\9.png\n"
     ]
    },
    {
     "name": "stderr",
     "output_type": "stream",
     "text": [
      "\n",
      " 93%|█████████████████████████████████████████████████████████████████████████████████████████████████████████████████████████████████████████████████████████████████████████████████▉              | 126/136 [06:10<00:31,  3.15s/it]"
     ]
    },
    {
     "name": "stdout",
     "output_type": "stream",
     "text": [
      "C:/Users/chiso/MEGA/data/aligned_new/Lisa Ann\\90.jpg\n",
      "Aligning 90.jpg ...\n",
      "Getting landmarks...\n",
      "Starting face alignment...\n",
      "Wrote result C:/Users/chiso/MEGA/data/aligned_new/Lisa Ann\\90.png\n"
     ]
    },
    {
     "name": "stderr",
     "output_type": "stream",
     "text": [
      "\n",
      " 93%|███████████████████████████████████████████████████████████████████████████████████████████████████████████████████████████████████████████████████████████████████████████████████▎            | 127/136 [06:13<00:27,  3.03s/it]"
     ]
    },
    {
     "name": "stdout",
     "output_type": "stream",
     "text": [
      "C:/Users/chiso/MEGA/data/aligned_new/Lisa Ann\\91.jpg\n",
      "Aligning 91.jpg ...\n",
      "Getting landmarks...\n",
      "Starting face alignment...\n",
      "Wrote result C:/Users/chiso/MEGA/data/aligned_new/Lisa Ann\\91.png\n"
     ]
    },
    {
     "name": "stderr",
     "output_type": "stream",
     "text": [
      "\n",
      " 94%|████████████████████████████████████████████████████████████████████████████████████████████████████████████████████████████████████████████████████████████████████████████████████▋           | 128/136 [06:16<00:23,  2.96s/it]"
     ]
    },
    {
     "name": "stdout",
     "output_type": "stream",
     "text": [
      "C:/Users/chiso/MEGA/data/aligned_new/Lisa Ann\\92.jpg\n",
      "Aligning 92.jpg ...\n",
      "Getting landmarks...\n",
      "Starting face alignment...\n",
      "Wrote result C:/Users/chiso/MEGA/data/aligned_new/Lisa Ann\\92.png\n"
     ]
    },
    {
     "name": "stderr",
     "output_type": "stream",
     "text": [
      "\n",
      " 95%|██████████████████████████████████████████████████████████████████████████████████████████████████████████████████████████████████████████████████████████████████████████████████████          | 129/136 [06:19<00:20,  2.92s/it]"
     ]
    },
    {
     "name": "stdout",
     "output_type": "stream",
     "text": [
      "C:/Users/chiso/MEGA/data/aligned_new/Lisa Ann\\93.jpg\n",
      "Aligning 93.jpg ...\n",
      "Getting landmarks...\n",
      "Starting face alignment...\n",
      "Wrote result C:/Users/chiso/MEGA/data/aligned_new/Lisa Ann\\93.png\n"
     ]
    },
    {
     "name": "stderr",
     "output_type": "stream",
     "text": [
      "\n",
      " 96%|███████████████████████████████████████████████████████████████████████████████████████████████████████████████████████████████████████████████████████████████████████████████████████▌        | 130/136 [06:21<00:17,  2.87s/it]"
     ]
    },
    {
     "name": "stdout",
     "output_type": "stream",
     "text": [
      "C:/Users/chiso/MEGA/data/aligned_new/Lisa Ann\\94.jpg\n",
      "Aligning 94.jpg ...\n",
      "Getting landmarks...\n",
      "Starting face alignment...\n",
      "Wrote result C:/Users/chiso/MEGA/data/aligned_new/Lisa Ann\\94.png\n"
     ]
    },
    {
     "name": "stderr",
     "output_type": "stream",
     "text": [
      "\n",
      " 96%|████████████████████████████████████████████████████████████████████████████████████████████████████████████████████████████████████████████████████████████████████████████████████████▉       | 131/136 [06:24<00:14,  2.84s/it]"
     ]
    },
    {
     "name": "stdout",
     "output_type": "stream",
     "text": [
      "C:/Users/chiso/MEGA/data/aligned_new/Lisa Ann\\95.jpg\n",
      "Aligning 95.jpg ...\n",
      "Getting landmarks...\n",
      "Starting face alignment...\n",
      "Wrote result C:/Users/chiso/MEGA/data/aligned_new/Lisa Ann\\95.png\n"
     ]
    },
    {
     "name": "stderr",
     "output_type": "stream",
     "text": [
      "\n",
      " 97%|██████████████████████████████████████████████████████████████████████████████████████████████████████████████████████████████████████████████████████████████████████████████████████████▎     | 132/136 [06:27<00:11,  2.84s/it]"
     ]
    },
    {
     "name": "stdout",
     "output_type": "stream",
     "text": [
      "C:/Users/chiso/MEGA/data/aligned_new/Lisa Ann\\96.jpg\n",
      "Aligning 96.jpg ...\n",
      "Getting landmarks...\n",
      "Starting face alignment...\n",
      "Wrote result C:/Users/chiso/MEGA/data/aligned_new/Lisa Ann\\96.png\n"
     ]
    },
    {
     "name": "stderr",
     "output_type": "stream",
     "text": [
      "\n",
      " 98%|███████████████████████████████████████████████████████████████████████████████████████████████████████████████████████████████████████████████████████████████████████████████████████████▊    | 133/136 [06:30<00:08,  2.78s/it]"
     ]
    },
    {
     "name": "stdout",
     "output_type": "stream",
     "text": [
      "C:/Users/chiso/MEGA/data/aligned_new/Lisa Ann\\97.jpg\n",
      "Aligning 97.jpg ...\n",
      "Getting landmarks...\n",
      "Starting face alignment...\n",
      "Wrote result C:/Users/chiso/MEGA/data/aligned_new/Lisa Ann\\97.png\n"
     ]
    },
    {
     "name": "stderr",
     "output_type": "stream",
     "text": [
      "\n",
      " 99%|█████████████████████████████████████████████████████████████████████████████████████████████████████████████████████████████████████████████████████████████████████████████████████████████▏  | 134/136 [06:32<00:05,  2.75s/it]"
     ]
    },
    {
     "name": "stdout",
     "output_type": "stream",
     "text": [
      "C:/Users/chiso/MEGA/data/aligned_new/Lisa Ann\\98.jpg\n",
      "Aligning 98.jpg ...\n",
      "Getting landmarks...\n",
      "Starting face alignment...\n",
      "Wrote result C:/Users/chiso/MEGA/data/aligned_new/Lisa Ann\\98.png\n"
     ]
    },
    {
     "name": "stderr",
     "output_type": "stream",
     "text": [
      "\n",
      " 99%|██████████████████████████████████████████████████████████████████████████████████████████████████████████████████████████████████████████████████████████████████████████████████████████████▌ | 135/136 [06:35<00:02,  2.72s/it]"
     ]
    },
    {
     "name": "stdout",
     "output_type": "stream",
     "text": [
      "C:/Users/chiso/MEGA/data/aligned_new/Lisa Ann\\99.jpg\n",
      "Aligning 99.jpg ...\n",
      "Getting landmarks...\n",
      "Starting face alignment...\n",
      "Wrote result C:/Users/chiso/MEGA/data/aligned_new/Lisa Ann\\99.png\n"
     ]
    },
    {
     "name": "stderr",
     "output_type": "stream",
     "text": [
      "\n",
      "100%|████████████████████████████████████████████████████████████████████████████████████████████████████████████████████████████████████████████████████████████████████████████████████████████████| 136/136 [06:38<00:00,  2.93s/it]\n",
      " 50%|█████████████████████████████████████████████████████████████████████████████████████████████████▌                                                                                                 | 1/2 [06:46<06:46, 406.84s/it]"
     ]
    },
    {
     "name": "stdout",
     "output_type": "stream",
     "text": [
      "Directory  C:/Users/chiso/MEGA/data/aligned_new/Sinn Sage  Created \n"
     ]
    },
    {
     "name": "stderr",
     "output_type": "stream",
     "text": [
      "\n",
      "  0%|                                                                                                                                                                                                          | 0/101 [00:00<?, ?it/s]"
     ]
    },
    {
     "name": "stdout",
     "output_type": "stream",
     "text": [
      "C:/Users/chiso/MEGA/data/aligned_new/Sinn Sage\\1.jpg\n",
      "Aligning 1.jpg ...\n",
      "Getting landmarks...\n",
      "Starting face alignment...\n",
      "Wrote result C:/Users/chiso/MEGA/data/aligned_new/Sinn Sage\\1.png\n"
     ]
    },
    {
     "name": "stderr",
     "output_type": "stream",
     "text": [
      "\n",
      "  1%|█▉                                                                                                                                                                                                | 1/101 [00:02<04:31,  2.71s/it]"
     ]
    },
    {
     "name": "stdout",
     "output_type": "stream",
     "text": [
      "C:/Users/chiso/MEGA/data/aligned_new/Sinn Sage\\10.jpg\n",
      "Aligning 10.jpg ...\n",
      "Getting landmarks...\n",
      "Starting face alignment...\n",
      "Wrote result C:/Users/chiso/MEGA/data/aligned_new/Sinn Sage\\10.png\n"
     ]
    },
    {
     "name": "stderr",
     "output_type": "stream",
     "text": [
      "\n",
      "  2%|███▊                                                                                                                                                                                              | 2/101 [00:05<04:36,  2.79s/it]"
     ]
    },
    {
     "name": "stdout",
     "output_type": "stream",
     "text": [
      "C:/Users/chiso/MEGA/data/aligned_new/Sinn Sage\\100.jpg\n",
      "Aligning 100.jpg ...\n",
      "Getting landmarks...\n",
      "Starting face alignment...\n",
      "Wrote result C:/Users/chiso/MEGA/data/aligned_new/Sinn Sage\\100.png\n"
     ]
    },
    {
     "name": "stderr",
     "output_type": "stream",
     "text": [
      "\n",
      "  3%|█████▊                                                                                                                                                                                            | 3/101 [00:07<04:17,  2.63s/it]"
     ]
    },
    {
     "name": "stdout",
     "output_type": "stream",
     "text": [
      "C:/Users/chiso/MEGA/data/aligned_new/Sinn Sage\\101.jpg\n",
      "Aligning 101.jpg ...\n",
      "Getting landmarks...\n",
      "Starting face alignment...\n",
      "Wrote result C:/Users/chiso/MEGA/data/aligned_new/Sinn Sage\\101.png\n"
     ]
    },
    {
     "name": "stderr",
     "output_type": "stream",
     "text": [
      "\n",
      "  4%|███████▋                                                                                                                                                                                          | 4/101 [00:10<04:01,  2.49s/it]"
     ]
    },
    {
     "name": "stdout",
     "output_type": "stream",
     "text": [
      "C:/Users/chiso/MEGA/data/aligned_new/Sinn Sage\\102.jpg\n",
      "Aligning 102.jpg ...\n",
      "Getting landmarks...\n",
      "Starting face alignment...\n",
      "Wrote result C:/Users/chiso/MEGA/data/aligned_new/Sinn Sage\\102.png\n"
     ]
    },
    {
     "name": "stderr",
     "output_type": "stream",
     "text": [
      "\n",
      "  5%|█████████▌                                                                                                                                                                                        | 5/101 [00:12<03:45,  2.35s/it]"
     ]
    },
    {
     "name": "stdout",
     "output_type": "stream",
     "text": [
      "C:/Users/chiso/MEGA/data/aligned_new/Sinn Sage\\11.jpg\n",
      "Aligning 11.jpg ...\n",
      "Getting landmarks...\n",
      "Starting face alignment...\n",
      "Wrote result C:/Users/chiso/MEGA/data/aligned_new/Sinn Sage\\11.png\n"
     ]
    },
    {
     "name": "stderr",
     "output_type": "stream",
     "text": [
      "\n",
      "  6%|███████████▌                                                                                                                                                                                      | 6/101 [00:14<03:34,  2.26s/it]"
     ]
    },
    {
     "name": "stdout",
     "output_type": "stream",
     "text": [
      "C:/Users/chiso/MEGA/data/aligned_new/Sinn Sage\\12.jpg\n",
      "Aligning 12.jpg ...\n",
      "Getting landmarks...\n",
      "Starting face alignment...\n",
      "Wrote result C:/Users/chiso/MEGA/data/aligned_new/Sinn Sage\\12.png\n"
     ]
    },
    {
     "name": "stderr",
     "output_type": "stream",
     "text": [
      "\n",
      "  7%|█████████████▍                                                                                                                                                                                    | 7/101 [00:16<03:37,  2.31s/it]"
     ]
    },
    {
     "name": "stdout",
     "output_type": "stream",
     "text": [
      "C:/Users/chiso/MEGA/data/aligned_new/Sinn Sage\\13.jpg\n",
      "Aligning 13.jpg ...\n",
      "Getting landmarks...\n",
      "Starting face alignment...\n",
      "Wrote result C:/Users/chiso/MEGA/data/aligned_new/Sinn Sage\\13.png\n"
     ]
    },
    {
     "name": "stderr",
     "output_type": "stream",
     "text": [
      "\n",
      "  8%|███████████████▎                                                                                                                                                                                  | 8/101 [00:19<03:51,  2.49s/it]"
     ]
    },
    {
     "name": "stdout",
     "output_type": "stream",
     "text": [
      "C:/Users/chiso/MEGA/data/aligned_new/Sinn Sage\\14.jpg\n",
      "Aligning 14.jpg ...\n",
      "Getting landmarks...\n",
      "Starting face alignment...\n",
      "Wrote result C:/Users/chiso/MEGA/data/aligned_new/Sinn Sage\\14.png\n"
     ]
    },
    {
     "name": "stderr",
     "output_type": "stream",
     "text": [
      "\n",
      "  9%|█████████████████▎                                                                                                                                                                                | 9/101 [00:23<04:28,  2.91s/it]"
     ]
    },
    {
     "name": "stdout",
     "output_type": "stream",
     "text": [
      "C:/Users/chiso/MEGA/data/aligned_new/Sinn Sage\\15.jpg\n",
      "Aligning 15.jpg ...\n",
      "Getting landmarks...\n",
      "Starting face alignment...\n",
      "Wrote result C:/Users/chiso/MEGA/data/aligned_new/Sinn Sage\\15.png\n"
     ]
    },
    {
     "name": "stderr",
     "output_type": "stream",
     "text": [
      "\n",
      " 10%|███████████████████                                                                                                                                                                              | 10/101 [00:26<04:16,  2.81s/it]"
     ]
    },
    {
     "name": "stdout",
     "output_type": "stream",
     "text": [
      "C:/Users/chiso/MEGA/data/aligned_new/Sinn Sage\\16.jpg\n",
      "Aligning 16.jpg ...\n",
      "Getting landmarks...\n",
      "Starting face alignment...\n",
      "Wrote result C:/Users/chiso/MEGA/data/aligned_new/Sinn Sage\\16.png\n"
     ]
    },
    {
     "name": "stderr",
     "output_type": "stream",
     "text": [
      "\n",
      " 11%|█████████████████████                                                                                                                                                                            | 11/101 [00:29<04:31,  3.02s/it]"
     ]
    },
    {
     "name": "stdout",
     "output_type": "stream",
     "text": [
      "C:/Users/chiso/MEGA/data/aligned_new/Sinn Sage\\17.jpg\n",
      "Aligning 17.jpg ...\n",
      "Getting landmarks...\n"
     ]
    },
    {
     "name": "stderr",
     "output_type": "stream",
     "text": [
      "\n",
      " 12%|██████████████████████▉                                                                                                                                                                          | 12/101 [00:31<03:48,  2.56s/it]"
     ]
    },
    {
     "name": "stdout",
     "output_type": "stream",
     "text": [
      "C:/Users/chiso/MEGA/data/aligned_new/Sinn Sage\\18.jpg\n",
      "Aligning 18.jpg ...\n",
      "Getting landmarks...\n"
     ]
    },
    {
     "name": "stderr",
     "output_type": "stream",
     "text": [
      "\n",
      " 13%|████████████████████████▊                                                                                                                                                                        | 13/101 [00:32<03:16,  2.23s/it]"
     ]
    },
    {
     "name": "stdout",
     "output_type": "stream",
     "text": [
      "C:/Users/chiso/MEGA/data/aligned_new/Sinn Sage\\19.jpg\n",
      "Aligning 19.jpg ...\n",
      "Getting landmarks...\n"
     ]
    },
    {
     "name": "stderr",
     "output_type": "stream",
     "text": [
      "\n",
      " 14%|██████████████████████████▊                                                                                                                                                                      | 14/101 [00:33<02:54,  2.00s/it]"
     ]
    },
    {
     "name": "stdout",
     "output_type": "stream",
     "text": [
      "C:/Users/chiso/MEGA/data/aligned_new/Sinn Sage\\2.jpg\n",
      "Aligning 2.jpg ...\n",
      "Getting landmarks...\n",
      "Starting face alignment...\n",
      "Wrote result C:/Users/chiso/MEGA/data/aligned_new/Sinn Sage\\2.png\n"
     ]
    },
    {
     "name": "stderr",
     "output_type": "stream",
     "text": [
      "\n",
      " 15%|████████████████████████████▋                                                                                                                                                                    | 15/101 [00:36<03:11,  2.23s/it]"
     ]
    },
    {
     "name": "stdout",
     "output_type": "stream",
     "text": [
      "C:/Users/chiso/MEGA/data/aligned_new/Sinn Sage\\20.jpg\n",
      "Aligning 20.jpg ...\n",
      "Getting landmarks...\n",
      "Starting face alignment...\n",
      "Wrote result C:/Users/chiso/MEGA/data/aligned_new/Sinn Sage\\20.png\n"
     ]
    },
    {
     "name": "stderr",
     "output_type": "stream",
     "text": [
      "\n",
      " 16%|██████████████████████████████▌                                                                                                                                                                  | 16/101 [00:39<03:24,  2.40s/it]"
     ]
    },
    {
     "name": "stdout",
     "output_type": "stream",
     "text": [
      "C:/Users/chiso/MEGA/data/aligned_new/Sinn Sage\\21.jpg\n",
      "Aligning 21.jpg ...\n",
      "Getting landmarks...\n"
     ]
    }
   ],
   "source": [
    "auto_align_images()"
   ]
  }
 ],
 "metadata": {
  "kernelspec": {
   "display_name": "Python 3.6 (Tensorflow 2.0)",
   "language": "python",
   "name": "tensorflow"
  },
  "language_info": {
   "codemirror_mode": {
    "name": "ipython",
    "version": 3
   },
   "file_extension": ".py",
   "mimetype": "text/x-python",
   "name": "python",
   "nbconvert_exporter": "python",
   "pygments_lexer": "ipython3",
   "version": "3.6.9"
  },
  "pycharm": {
   "stem_cell": {
    "cell_type": "raw",
    "metadata": {
     "collapsed": false
    },
    "source": []
   }
  }
 },
 "nbformat": 4,
 "nbformat_minor": 1
}
