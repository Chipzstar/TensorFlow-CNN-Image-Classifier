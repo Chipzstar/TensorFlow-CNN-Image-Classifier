{
 "cells": [
  {
   "cell_type": "code",
   "execution_count": 1,
   "metadata": {
    "pycharm": {
     "is_executing": false,
     "name": "#%%\n"
    }
   },
   "outputs": [],
   "source": [
    "import os\n",
    "from tqdm import tqdm\n",
    "import bz2\n",
    "import argparse\n",
    "from tensorflow.keras.utils import get_file\n",
    "from ffhq_dataset.face_alignment import image_align\n",
    "from ffhq_dataset.landmarks_detector import LandmarksDetector\n",
    "import multiprocessing"
   ]
  },
  {
   "cell_type": "code",
   "execution_count": 2,
   "metadata": {
    "pycharm": {
     "is_executing": false,
     "name": "#%%\n"
    }
   },
   "outputs": [],
   "source": [
    "# Check what folder to use for training and testing images\n",
    "CHISOM_TRAIN_DIR = 'C:/Users/chiso/MEGA/data/train'\n",
    "CHISOM_TEST_DIR = 'C:/Users/chiso/MEGA/data/test'\n",
    "CHISOM_ALIGNED_TRAIN_DIR = 'C:/Users/chiso/MEGA/data/aligned_train'\n",
    "CHISOM_ALIGNED_TEST_DIR = 'C:/Users/chiso/MEGA/data/aligned_test'\n",
    "\n",
    "YISI_TRAIN_DIR = 'E:/MegaSync/data/train'\n",
    "YISI_TEST_DIR = 'E:/MegaSync/data/test'\n",
    "YISI_ALIGNED_TRAIN_DIR = 'E:/MegaSync/data/aligned_train'\n",
    "YISI_ALIGNED_TEST_DIR = 'E:/MegaSync/data/aligned_test'\n",
    "\n",
    "\n",
    "def get_directories():\n",
    "    if os.path.exists(CHISOM_TRAIN_DIR) and os.path.exists(CHISOM_TEST_DIR) \\\n",
    "            and os.path.exists(CHISOM_ALIGNED_TRAIN_DIR) and os.path.exists(CHISOM_ALIGNED_TEST_DIR):\n",
    "        return CHISOM_TRAIN_DIR, CHISOM_TEST_DIR, CHISOM_ALIGNED_TRAIN_DIR, CHISOM_ALIGNED_TEST_DIR\n",
    "    else:\n",
    "        return YISI_TRAIN_DIR, YISI_TEST_DIR, YISI_ALIGNED_TRAIN_DIR, YISI_ALIGNED_TEST_DIR"
   ]
  },
  {
   "cell_type": "code",
   "execution_count": 3,
   "metadata": {
    "pycharm": {
     "is_executing": false,
     "name": "#%%\n"
    }
   },
   "outputs": [
    {
     "data": {
      "text/plain": [
       "('C:/Users/chiso/MEGA/data/train', 'C:/Users/chiso/MEGA/data/aligned_train')"
      ]
     },
     "execution_count": 3,
     "metadata": {},
     "output_type": "execute_result"
    }
   ],
   "source": [
    "TRAIN_DIR, TEST_DIR, ALIGNED_TRAIN_DIR, ALIGNED_TEST_DIR = get_directories()\n",
    "TRAIN_DIR, ALIGNED_TRAIN_DIR"
   ]
  },
  {
   "cell_type": "code",
   "execution_count": 4,
   "metadata": {
    "pycharm": {
     "is_executing": false
    }
   },
   "outputs": [],
   "source": [
    "\"\"\"\n",
    "Auto Align Images\n",
    "\"\"\"\n",
    "def auto_align_images():\n",
    "    for folder in tqdm(os.listdir(TRAIN_DIR)):\n",
    "        full_path = f'{TRAIN_DIR}/{folder}'\n",
    "        aligned_path = f'{ALIGNED_TRAIN_DIR}/{folder}'\n",
    "        if not os.path.exists(aligned_path):\n",
    "            !python align_images.py \"{full_path}\" \"{aligned_path}\" --output_size=1048\n",
    "    # !python align_images.py \"{TEST_DIR}\" \"{ALIGNED_TEST_DIR}\" --output_size=1048"
   ]
  },
  {
   "cell_type": "code",
   "execution_count": null,
   "metadata": {
    "pycharm": {
     "is_executing": true,
     "name": "#%%\n"
    },
    "scrolled": false
   },
   "outputs": [
    {
     "name": "stderr",
     "output_type": "stream",
     "text": [
      "\r",
      "  0%|                                                                                        | 0/53 [00:00<?, ?it/s]"
     ]
    }
   ],
   "source": [
    "auto_align_images()"
   ]
  },
  {
   "cell_type": "code",
   "execution_count": null,
   "metadata": {},
   "outputs": [],
   "source": []
  }
 ],
 "metadata": {
  "kernelspec": {
   "display_name": "Python 3.6 (Tensorflow 2.0)",
   "language": "python",
   "name": "tensorflow"
  },
  "language_info": {
   "codemirror_mode": {
    "name": "ipython",
    "version": 3
   },
   "file_extension": ".py",
   "mimetype": "text/x-python",
   "name": "python",
   "nbconvert_exporter": "python",
   "pygments_lexer": "ipython3",
   "version": "3.6.9"
  },
  "pycharm": {
   "stem_cell": {
    "cell_type": "raw",
    "metadata": {
     "collapsed": false
    },
    "source": []
   }
  }
 },
 "nbformat": 4,
 "nbformat_minor": 1
}
