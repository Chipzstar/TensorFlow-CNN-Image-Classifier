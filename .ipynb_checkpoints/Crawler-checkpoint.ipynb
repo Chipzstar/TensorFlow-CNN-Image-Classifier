{
 "cells": [
  {
   "cell_type": "code",
   "execution_count": 1,
   "metadata": {
    "pycharm": {
     "is_executing": false
    }
   },
   "outputs": [],
   "source": [
    "from bs4 import BeautifulSoup\n",
    "import requests as req\n",
    "import os, re\n",
    "import numpy as np\n",
    "from tqdm import tqdm"
   ]
  },
  {
   "cell_type": "code",
   "execution_count": 2,
   "metadata": {
    "pycharm": {
     "is_executing": false,
     "name": "#%%\n"
    }
   },
   "outputs": [],
   "source": [
    "CHISOM_FILE_PATH = os.path.normpath('C:/Users/chiso/MEGA/data/new')\n",
    "YISI_FILE_PATH = os.path.normpath('E:/MegaSync/data/new')\n",
    "\n",
    "def get_file_path(folder_name):\n",
    "    if os.path.exists(CHISOM_FILE_PATH):\n",
    "        file_path = CHISOM_FILE_PATH\n",
    "    else:\n",
    "        file_path = YISI_FILE_PATH\n",
    "    \n",
    "    full_path = os.path.join(file_path, folder_name)\n",
    "    try:  \n",
    "        os.mkdir(full_path)  \n",
    "    except OSError as error:  \n",
    "        print(error)\n",
    "    return full_path"
   ]
  },
  {
   "cell_type": "code",
   "execution_count": 3,
   "metadata": {
    "pycharm": {
     "is_executing": false
    }
   },
   "outputs": [],
   "source": [
    "\"\"\"Ensures correct numbering system is maintained\"\"\"\n",
    "\n",
    "def file_numbering(path):\n",
    "    number = 0\n",
    "    if os.path.exists(path):\n",
    "        try:\n",
    "            files = os.listdir(path)  # list all files in file path\n",
    "            num_files = len(files)  # number of files in folder\n",
    "            regex = re.compile(r'\\d+')  # regular expression to extract only the number from filename(s)\n",
    "            file_numbers = np.array([regex.findall(file) for file in files]).astype(int)  # store all file numbers in an array\n",
    "            number = max(file_numbers.flatten()) if file_numbers.flatten().size > 0 else 0  # grab the largest value in array\n",
    "            if number != num_files:  # compare the max value in array to num_files, if they are different then some images may be missing or deleted from folder\n",
    "                print(\"WARNING: files in this directory are numbered incorrectly!\")\n",
    "                print(f\"Number of files in folder: {num_files}\")\n",
    "                print(f\"File number of last file: {number}\")\n",
    "        except OSError as error:\n",
    "            print(error)\n",
    "    \n",
    "    return number\n"
   ]
  },
  {
   "cell_type": "code",
   "execution_count": 4,
   "metadata": {
    "pycharm": {
     "is_executing": false,
     "name": "#%%\n"
    }
   },
   "outputs": [],
   "source": [
    "def check_prev_model_name():\n",
    "    if 'MODEL_NAME' in globals():  # checks if the 'MODEL NAME' variable exists in the program\n",
    "        return True\n",
    "    return False"
   ]
  },
  {
   "cell_type": "code",
   "execution_count": 5,
   "metadata": {
    "pycharm": {
     "is_executing": false,
     "name": "#%%\n"
    }
   },
   "outputs": [],
   "source": [
    "def get_model_name():\n",
    "    response = input(f\"Use previous model name: {MODEL_NAME}? y/n\")\n",
    "    if response == 'y' or response == 'Y':\n",
    "        return MODEL_NAME\n",
    "    new_model_name = input(\"Enter name of new model: \")\n",
    "    return new_model_name"
   ]
  },
  {
   "cell_type": "code",
   "execution_count": 6,
   "metadata": {
    "pycharm": {
     "is_executing": false,
     "name": "#%%\n"
    }
   },
   "outputs": [],
   "source": [
    "def find_list_items(soup2):\n",
    "    locator = \"div#wrapper div#content div#main ul#tiles li.thumbwook a\"  # CSS Selector    \n",
    "    images = soup2.select(locator) # selects all items found in the locator\n",
    "    image_links = [image.attrs['href'] for image in images] # selects the 'href' attribute value\n",
    "    return image_links"
   ]
  },
  {
   "cell_type": "code",
   "execution_count": 7,
   "metadata": {
    "pycharm": {
     "is_executing": false,
     "name": "#%%\n"
    }
   },
   "outputs": [],
   "source": [
    "def download_images(file_path, file_name):\n",
    "    print(file_path)\n",
    "    r2 = req.get(URL)\n",
    "    soup2 = BeautifulSoup(r2.text, \"html.parser\")\n",
    "    image_files = find_list_items(soup2)\n",
    "    init_num = file_numbering(file_path)\n",
    "    for index, img_link in tqdm(enumerate(image_files)):\n",
    "        if index == NUM_IMAGES:\n",
    "            break\n",
    "        img_data = req.get(img_link).content\n",
    "        with open(f\"{file_path}/{file_name} ({str(init_num+index+1)}).jpg\", 'wb+') as f:\n",
    "            f.write(img_data)\n",
    "            # print(f\"Image '{file_name}{init_num+index+1}' was successfully written!\")"
   ]
  },
  {
   "cell_type": "code",
   "execution_count": 8,
   "metadata": {
    "pycharm": {
     "is_executing": false,
     "name": "#%%\n"
    }
   },
   "outputs": [
    {
     "name": "stdout",
     "output_type": "stream",
     "text": [
      "Enter the URL to download images from: https://www.pornpics.com/galleries/freckled-mature-stunner-with-massive-boobs-darla-loves-stripping-down/\n",
      "Enter the name of the model: darla crane\n",
      "Number of images to select: 100\n",
      "[WinError 183] Cannot create a file when that file already exists: 'C:\\\\Users\\\\chiso\\\\MEGA\\\\data\\\\new\\\\Darla Crane'\n",
      "C:\\Users\\chiso\\MEGA\\data\\new\\Darla Crane\n"
     ]
    },
    {
     "name": "stderr",
     "output_type": "stream",
     "text": [
      "15it [00:10,  1.47it/s]\n"
     ]
    },
    {
     "name": "stdout",
     "output_type": "stream",
     "text": [
      "\n",
      "Continue? y/ny\n",
      "Enter the URL to download images from: https://www.pornpics.com/galleries/busty-housewife-darla-crane-stripping-and-masturbating-late-hours/\n",
      "Use previous model name: Darla Crane? y/ny\n",
      "Number of images to select: 100\n",
      "[WinError 183] Cannot create a file when that file already exists: 'C:\\\\Users\\\\chiso\\\\MEGA\\\\data\\\\new\\\\Darla Crane'\n",
      "C:\\Users\\chiso\\MEGA\\data\\new\\Darla Crane\n"
     ]
    },
    {
     "name": "stderr",
     "output_type": "stream",
     "text": [
      "19it [00:10,  1.84it/s]\n"
     ]
    },
    {
     "name": "stdout",
     "output_type": "stream",
     "text": [
      "\n",
      "Continue? y/n0\n"
     ]
    }
   ],
   "source": [
    "is_finished = False\n",
    "while not is_finished:\n",
    "    URL = input(\"Enter the URL to download images from: \")\n",
    "    MODEL_NAME = input(\"Enter the name of the model: \").title() if not check_prev_model_name() else get_model_name()\n",
    "    NUM_IMAGES = int(input(\"Number of images to select: \"))\n",
    "    FILE_NAME = MODEL_NAME.lower().split(\" \")[0]\n",
    "    FILE_PATH = get_file_path(MODEL_NAME)\n",
    "    download_images(FILE_PATH, FILE_NAME)\n",
    "    CONTINUE = input(\"\\nContinue? y/n\")\n",
    "    if not (CONTINUE == 'y' or CONTINUE == 'Y'):  # checks if the user has typed in any other character other than 'y' e.g. 'n'\n",
    "        is_finished = True  # is so, terminate the program loop"
   ]
  },
  {
   "cell_type": "code",
   "execution_count": null,
   "metadata": {
    "pycharm": {
     "is_executing": false
    }
   },
   "outputs": [],
   "source": []
  }
 ],
 "metadata": {
  "kernelspec": {
   "display_name": "Python 3",
   "language": "python",
   "name": "python3"
  },
  "language_info": {
   "codemirror_mode": {
    "name": "ipython",
    "version": 3
   },
   "file_extension": ".py",
   "mimetype": "text/x-python",
   "name": "python",
   "nbconvert_exporter": "python",
   "pygments_lexer": "ipython3",
   "version": "3.6.9"
  },
  "pycharm": {
   "stem_cell": {
    "cell_type": "raw",
    "metadata": {
     "collapsed": false
    },
    "source": []
   }
  }
 },
 "nbformat": 4,
 "nbformat_minor": 2
}
