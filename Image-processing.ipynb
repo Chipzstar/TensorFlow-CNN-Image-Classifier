{
 "cells": [
  {
   "cell_type": "markdown",
   "metadata": {},
   "source": [
    "# IMAGE PREPROCESSING TECHNIQUES"
   ]
  },
  {
   "cell_type": "code",
   "execution_count": 2,
   "metadata": {},
   "outputs": [],
   "source": [
    "#%%sh\n",
    "# pip install -q pip --upgrade\n",
    "# pip install -q --upgrade opencv-python\n",
    "#pip install --user --upgrade tensorflow\n",
    "#pip install -q --upgrade pillow"
   ]
  },
  {
   "cell_type": "code",
   "execution_count": 13,
   "metadata": {},
   "outputs": [],
   "source": [
    "import cv2\n",
    "import boto3\n",
    "import os\n",
    "import PIL\n",
    "from io import BytesIO\n",
    "from PIL import Image\n",
    "import numpy as np\n",
    "import tensorflow as tf"
   ]
  },
  {
   "cell_type": "code",
   "execution_count": 14,
   "metadata": {},
   "outputs": [
    {
     "name": "stdout",
     "output_type": "stream",
     "text": [
      "OpenCV Version: 4.1.2\n",
      "Pillow Version: 7.0.0\n"
     ]
    }
   ],
   "source": [
    "print(f\"OpenCV Version: {cv2.__version__}\") \n",
    "print(f\"Pillow Version: {PIL.__version__}\")"
   ]
  },
  {
   "cell_type": "markdown",
   "metadata": {},
   "source": [
    "## Pillow Method"
   ]
  },
  {
   "cell_type": "code",
   "execution_count": 15,
   "metadata": {},
   "outputs": [],
   "source": [
    "S3 = boto3.client('s3')\n",
    "\n",
    "filename = 'public/Sofy Soul.png'\n",
    "image_object = S3.get_object(Bucket='pornilarity-bucket170933-production', Key=filename)\n",
    "file_content = image_object[\"Body\"].read()\n",
    "\n",
    "dataBytesIO = BytesIO(file_content)\n",
    "pillow_array = np.frombuffer(dataBytesIO.read(), np.uint8)\n",
    "pillow_image = Image.open(dataBytesIO)\n",
    "pillow_image_tensor = np.array(pillow_image)\n",
    "pillow_gray = pillow_image.convert('L')\n",
    "pillow_image = pillow_gray.resize((100,100))\n",
    "pillow_image = np.array(pillow_image).reshape(-1, 100, 100, 1) # reshapes the image into accepted dimensions (4D tensor)\n",
    "pillow_image = pillow_image.astype('float32') # change data type of image to float32\n",
    "pillow_image = pillow_image / 255.0"
   ]
  },
  {
   "cell_type": "markdown",
   "metadata": {},
   "source": [
    "## OpenCV Method"
   ]
  },
  {
   "cell_type": "code",
   "execution_count": 12,
   "metadata": {},
   "outputs": [],
   "source": [
    "S3 = boto3.client('s3')\n",
    "\n",
    "filename = 'public/Sofy Soul.png'\n",
    "image_object = S3.get_object(Bucket='pornilarity-bucket170933-production', Key=filename)\n",
    "file_content = image_object[\"Body\"].read()\n",
    "\n",
    "np_array = np.frombuffer(file_content, np.uint8)\n",
    "cv2_image_tensor = cv2.imdecode(np_array, cv2.IMREAD_COLOR)\n",
    "cv2_gray_image = cv2.cvtColor(image_tensor, cv2.COLOR_BGR2GRAY)\n",
    "\n",
    "cv2_image = cv2.resize(cv2_gray_image, (100, 100))\n",
    "cv2_image = np.array(cv2_image).reshape(-1, 100, 100, 1) # reshapes the image into accepted dimensions (4D tensor)\n",
    "cv2_image = cv2_image.astype('float32') # change data type of image to float32\n",
    "cv2_image = cv2_image / 255.0"
   ]
  },
  {
   "cell_type": "markdown",
   "metadata": {},
   "source": [
    "## Sample CloudWatch Logger"
   ]
  },
  {
   "cell_type": "markdown",
   "metadata": {},
   "source": [
    "### Get Current Timestamp"
   ]
  },
  {
   "cell_type": "code",
   "execution_count": 1,
   "metadata": {},
   "outputs": [
    {
     "data": {
      "text/plain": [
       "1579705485858"
      ]
     },
     "execution_count": 1,
     "metadata": {},
     "output_type": "execute_result"
    }
   ],
   "source": [
    "import time\n",
    "from datetime import datetime\n",
    "timestamp = int(time.time()*1000)\n",
    "timestamp"
   ]
  },
  {
   "cell_type": "markdown",
   "metadata": {},
   "source": [
    "### Create Log Stream within Notebook Log Group"
   ]
  },
  {
   "cell_type": "code",
   "execution_count": 17,
   "metadata": {},
   "outputs": [],
   "source": [
    "client = boto3.client('logs')\n",
    "response = client.create_log_stream(\n",
    "    logGroupName='/aws/sagemaker/NotebookInstances',\n",
    "    logStreamName='inference_debugger'\n",
    ")"
   ]
  },
  {
   "cell_type": "markdown",
   "metadata": {},
   "source": [
    "### Create Log event within Log Stream"
   ]
  },
  {
   "cell_type": "code",
   "execution_count": 19,
   "metadata": {},
   "outputs": [],
   "source": [
    "response = client.put_log_events(\n",
    "    logGroupName='/aws/sagemaker/NotebookInstances',\n",
    "    logStreamName='inference_debugger',\n",
    "    logEvents=[\n",
    "        {\n",
    "            'timestamp': timestamp,\n",
    "            'message': np.array2string(pillow_image, floatmode='unique')\n",
    "        },\n",
    "    ]\n",
    ")"
   ]
  },
  {
   "cell_type": "markdown",
   "metadata": {},
   "source": [
    "### Use sequence token obtained from response to continue adding more events"
   ]
  },
  {
   "cell_type": "code",
   "execution_count": 20,
   "metadata": {},
   "outputs": [],
   "source": [
    "token = response['nextSequenceToken']\n",
    "\n",
    "response = client.put_log_events(\n",
    "    logGroupName='/aws/sagemaker/NotebookInstances',\n",
    "    logStreamName='inference_debugger',\n",
    "    logEvents=[\n",
    "        {\n",
    "            'timestamp': timestamp,\n",
    "            'message': np.array2string(pillow_image, floatmode='unique')\n",
    "        },\n",
    "    ],\n",
    "    sequenceToken=token\n",
    ")"
   ]
  }
 ],
 "metadata": {
  "kernelspec": {
   "display_name": "conda_tensorflow_p36",
   "language": "python",
   "name": "conda_tensorflow_p36"
  },
  "language_info": {
   "codemirror_mode": {
    "name": "ipython",
    "version": 3
   },
   "file_extension": ".py",
   "mimetype": "text/x-python",
   "name": "python",
   "nbconvert_exporter": "python",
   "pygments_lexer": "ipython3",
   "version": "3.6.5"
  }
 },
 "nbformat": 4,
 "nbformat_minor": 4
}
