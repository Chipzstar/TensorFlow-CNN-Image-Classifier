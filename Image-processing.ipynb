{
 "cells": [
  {
   "cell_type": "markdown",
   "metadata": {},
   "source": [
    "# IMAGE PREPROCESSING TECHNIQUES"
   ]
  },
  {
   "cell_type": "code",
   "execution_count": 1,
   "metadata": {},
   "outputs": [],
   "source": [
    "#%%sh\n",
    "# pip install -q pip --upgrade\n",
    "# pip install -q --upgrade opencv-python\n",
    "#pip install --user --upgrade tensorflow\n",
    "#pip install -q --upgrade pillow"
   ]
  },
  {
   "cell_type": "code",
   "execution_count": 2,
   "metadata": {},
   "outputs": [],
   "source": [
    "import cv2\n",
    "import boto3\n",
    "import os\n",
    "import PIL\n",
    "from io import BytesIO\n",
    "from PIL import Image\n",
    "import numpy as np\n",
    "import time"
   ]
  },
  {
   "cell_type": "code",
   "execution_count": 3,
   "metadata": {},
   "outputs": [
    {
     "name": "stdout",
     "output_type": "stream",
     "text": [
      "OpenCV Version: 4.1.2\n",
      "Pillow Version: 7.0.0\n"
     ]
    }
   ],
   "source": [
    "print(f\"OpenCV Version: {cv2.__version__}\") \n",
    "print(f\"Pillow Version: {PIL.__version__}\")"
   ]
  },
  {
   "cell_type": "markdown",
   "metadata": {},
   "source": [
    "## Pillow Method"
   ]
  },
  {
   "cell_type": "code",
   "execution_count": 11,
   "metadata": {},
   "outputs": [],
   "source": [
    "S3 = boto3.client('s3')\n",
    "\n",
    "filename = 'public/Sofy Soul.png'\n",
    "image_object = S3.get_object(Bucket='pornilarity-bucket170933-production', Key=filename)\n",
    "file_content = image_object[\"Body\"].read()\n",
    "\n",
    "dataBytesIO = BytesIO(file_content)\n",
    "pillow_array = np.frombuffer(dataBytesIO.read(), np.uint8)\n",
    "pillow_image = Image.open(dataBytesIO)"
   ]
  },
  {
   "cell_type": "code",
   "execution_count": 13,
   "metadata": {},
   "outputs": [],
   "source": [
    "pillow_gray = pillow_image.convert('L')"
   ]
  },
  {
   "cell_type": "code",
   "execution_count": 15,
   "metadata": {},
   "outputs": [],
   "source": [
    "pillow_image = pillow_gray.resize((100,100))"
   ]
  },
  {
   "cell_type": "code",
   "execution_count": 17,
   "metadata": {},
   "outputs": [],
   "source": [
    "pillow_image = np.array(pillow_image).reshape(-1, 100, 100, 1) # reshapes the image into accepted dimensions (4D tensor)\n",
    "pillow_image = pillow_image.astype('float32') # change data type of image to float32\n",
    "pillow_image = pillow_image / 255.0"
   ]
  },
  {
   "cell_type": "markdown",
   "metadata": {},
   "source": [
    "## OpenCV Method"
   ]
  },
  {
   "cell_type": "code",
   "execution_count": 12,
   "metadata": {},
   "outputs": [],
   "source": [
    "S3 = boto3.client('s3')\n",
    "\n",
    "filename = 'public/Sofy Soul.png'\n",
    "image_object = S3.get_object(Bucket='pornilarity-bucket170933-production', Key=filename)\n",
    "file_content = image_object[\"Body\"].read()\n",
    "\n",
    "np_array = np.frombuffer(file_content, np.uint8)\n",
    "cv2_image_tensor = cv2.imdecode(np_array, cv2.IMREAD_COLOR)\n",
    "cv2_gray_image = cv2.cvtColor(image_tensor, cv2.COLOR_BGR2GRAY)\n",
    "\n",
    "cv2_image = cv2.resize(cv2_gray_image, (100, 100))\n",
    "cv2_image = np.array(cv2_image).reshape(-1, 100, 100, 1) # reshapes the image into accepted dimensions (4D tensor)\n",
    "cv2_image = cv2_image.astype('float32') # change data type of image to float32\n",
    "cv2_image = cv2_image / 255.0"
   ]
  },
  {
   "cell_type": "markdown",
   "metadata": {},
   "source": [
    "## Sample CloudWatch Logger"
   ]
  },
  {
   "cell_type": "markdown",
   "metadata": {},
   "source": [
    "### Get Current Timestamp"
   ]
  },
  {
   "cell_type": "code",
   "execution_count": 44,
   "metadata": {},
   "outputs": [],
   "source": [
    "import time\n",
    "def get_current_timestamp():\n",
    "    timestamp = int(time.time()*1000)\n",
    "    return timestamp"
   ]
  },
  {
   "cell_type": "markdown",
   "metadata": {},
   "source": [
    "### Create Log Stream within Notebook Log Group"
   ]
  },
  {
   "cell_type": "code",
   "execution_count": 27,
   "metadata": {},
   "outputs": [],
   "source": [
    "LOG_GROUP_NAME='/aws/sagemaker/NotebookInstances'\n",
    "LOG_STREAM_NAME = f\"[{time.strftime('%Y/%M/%d - %H/%M/%S')}] <inference_logs>\""
   ]
  },
  {
   "cell_type": "code",
   "execution_count": 28,
   "metadata": {},
   "outputs": [],
   "source": [
    "client = boto3.client('logs')\n",
    "response = client.create_log_stream(\n",
    "    logGroupName=LOG_GROUP_NAME,\n",
    "    logStreamName=LOG_STREAM_NAME\n",
    ")"
   ]
  },
  {
   "cell_type": "markdown",
   "metadata": {},
   "source": [
    "### Create Initial Log event within Log Stream"
   ]
  },
  {
   "cell_type": "code",
   "execution_count": null,
   "metadata": {},
   "outputs": [],
   "source": [
    "response = client.put_log_events(\n",
    "    logGroupName=LOG_GROUP_NAME,\n",
    "    logStreamName=LOG_STREAM_NAME,\n",
    "    logEvents=[\n",
    "        {\n",
    "            'timestamp': get_current_timestamp(),\n",
    "            'message': \"Hello World!\"\n",
    "        },\n",
    "    ]\n",
    ")"
   ]
  },
  {
   "cell_type": "markdown",
   "metadata": {},
   "source": [
    "### Get next sequence token"
   ]
  },
  {
   "cell_type": "code",
   "execution_count": 45,
   "metadata": {},
   "outputs": [],
   "source": [
    "response = client.describe_log_streams(\n",
    "    logGroupName=LOG_GROUP_NAME,\n",
    "    logStreamNamePrefix=LOG_STREAM_NAME,\n",
    ")\n",
    "\n",
    "token = response['logStreams'][0]['uploadSequenceToken']"
   ]
  },
  {
   "cell_type": "markdown",
   "metadata": {},
   "source": [
    "### Use sequence token obtained from response to continue adding more events"
   ]
  },
  {
   "cell_type": "code",
   "execution_count": 46,
   "metadata": {},
   "outputs": [],
   "source": [
    "# token = response['nextSequenceToken']\n",
    "\n",
    "response = client.put_log_events(\n",
    "    logGroupName=LOG_GROUP_NAME,\n",
    "    logStreamName=LOG_STREAM_NAME,\n",
    "    logEvents=[\n",
    "        {\n",
    "            'timestamp': get_current_timestamp(),\n",
    "            'message': f\"Hello World with token {token}\"\n",
    "        },\n",
    "    ],\n",
    "    sequenceToken=token\n",
    ")"
   ]
  },
  {
   "cell_type": "code",
   "execution_count": 26,
   "metadata": {},
   "outputs": [],
   "source": [
    "image_tensor = np.array(pillow_image).tolist()\n",
    "string_tensor = str(image_tensor)"
   ]
  },
  {
   "cell_type": "code",
   "execution_count": 60,
   "metadata": {},
   "outputs": [],
   "source": [
    "import json, re\n",
    "\n",
    "json_string = json.dumps({\n",
    "    \"predictions\": [[1.79605185e-29, 2.44883862e-24, 6.03925444e-19, 4.58280264e-14, 1.80641227e-23, 3.06986203e-28, 4.79789881e-19, 2.18121113e-23, 4.88950596e-19, 2.00703e-21, 1.50391759e-15, 5.98734793e-14, 1.2061119e-13, 1.29583038e-22, 1.06595022e-28, 3.08147194e-24, 2.09108358e-15, 6.08894928e-17, 6.57895731e-16, 7.18972519e-29, 3.94493905e-21, 1.21453632e-23, 1.43495471e-23, 7.64568609e-30, 1.19619726e-19, 9.83542212e-25, 6.04389368e-13, 1.39188361e-15, 1.88600819e-11, 2.98319067e-25, 4.84899727e-18, 1.19852154e-20, 2.40176073e-29, 5.57373374e-19, 2.51498126e-20, 4.82108548e-13, 2.83524616e-24, 5.50734227e-21, 2.89885866e-20, 2.1909551e-12, 2.81259559e-29, 1.79046981e-29, 1.73175981e-13, 1.22634062e-19, 1.91456973e-25, 1.12097408e-20, 7.93001e-18, 3.85991789e-17, 1.34281756e-21, 1.07700352e-26, 1.72901518e-19, 9.52595739e-23, 9.16911421e-20, 9.53447607e-13, 7.30675298e-32, 4.44859931e-20, 7.89192508e-18, 1.08040326e-17, 7.20212336e-24, 1.37280684e-28, 5.42158924e-20, 8.74256775e-25, 1.88932007e-19, 6.11269257e-23, 2.74921e-24, 1.01490824e-13, 4.06968338e-21, 7.05227698e-29, 1.61418955e-21, 3.0218847e-15, 3.9907614e-18, 2.16097036e-15, 3.06890276e-20, 9.9172927e-17, 4.30674946e-20, 1.0, 3.63232132e-21, 5.5378725e-27, 1.52852333e-28, 1.62777314e-23, 5.28152614e-15, 9.00544085e-25, 3.73298452e-21, 5.81935091e-22, 3.08763887e-12, 3.09453667e-16, 1.22420528e-18, 2.44553e-27, 5.39139831e-19, 9.4311711e-19, 8.24885445e-20, 1.50251956e-21, 1.21229817e-27, 1.18388703e-17, 1.12860903e-17]\n",
    "    ]\n",
    "})"
   ]
  },
  {
   "cell_type": "code",
   "execution_count": 61,
   "metadata": {},
   "outputs": [],
   "source": [
    "def convert_bytes_to_array(response_body):\n",
    "    regex = re.compile(\"(?![e])[a-z\\\"\\}\\{:\\s\\[\\]]*\") # regex for removing other useless characters\n",
    "    predictions = regex.sub(\"\", response_body).split(',') # performs regex on reponse body\n",
    "    predictions = np.array(predictions) # converts the result into a numpy array\n",
    "    predictions = predictions.astype(np.float64)\n",
    "    return predictions"
   ]
  },
  {
   "cell_type": "code",
   "execution_count": 66,
   "metadata": {},
   "outputs": [],
   "source": [
    "array = convert_bytes_to_array(json_string)\n",
    "array = array.tolist()"
   ]
  }
 ],
 "metadata": {
  "kernelspec": {
   "display_name": "conda_tensorflow_p36",
   "language": "python",
   "name": "conda_tensorflow_p36"
  },
  "language_info": {
   "codemirror_mode": {
    "name": "ipython",
    "version": 3
   },
   "file_extension": ".py",
   "mimetype": "text/x-python",
   "name": "python",
   "nbconvert_exporter": "python",
   "pygments_lexer": "ipython3",
   "version": "3.6.5"
  }
 },
 "nbformat": 4,
 "nbformat_minor": 4
}
