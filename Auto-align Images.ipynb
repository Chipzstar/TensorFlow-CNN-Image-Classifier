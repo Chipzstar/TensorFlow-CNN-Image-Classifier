{
 "cells": [
  {
   "cell_type": "code",
   "execution_count": 1,
   "metadata": {
    "pycharm": {
     "is_executing": false,
     "name": "#%%\n"
    }
   },
   "outputs": [],
   "source": [
    "import os\n",
    "from tqdm import tqdm"
   ]
  },
  {
   "cell_type": "code",
   "execution_count": 2,
   "metadata": {
    "pycharm": {
     "is_executing": false,
     "name": "#%%\n"
    }
   },
   "outputs": [],
   "source": [
    "# Check what folder to use for training and testing images\n",
    "CHISOM_TRAIN_DIR = 'C:/Users/chiso/MEGA/data/train'\n",
    "CHISOM_TEST_DIR = 'C:/Users/chiso/MEGA/data/test'\n",
    "CHISOM_ALIGNED_TRAIN_DIR = 'C:/Users/chiso/MEGA/data/aligned_train'\n",
    "CHISOM_ALIGNED_TEST_DIR = 'C:/Users/chiso/MEGA/data/aligned_test'\n",
    "\n",
    "YISI_TRAIN_DIR = 'E:/MegaSync/data/train'\n",
    "YISI_TEST_DIR = 'E:/MegaSync/data/test'\n",
    "YISI_ALIGNED_TRAIN_DIR = 'E:/MegaSync/data/aligned_train'\n",
    "YISI_ALIGNED_TEST_DIR = 'E:/MegaSync/data/aligned_test'\n",
    "\n",
    "\n",
    "def get_directories():\n",
    "    if os.path.exists(CHISOM_TRAIN_DIR) and os.path.exists(CHISOM_TEST_DIR) \\\n",
    "            and os.path.exists(CHISOM_ALIGNED_TRAIN_DIR) and os.path.exists(CHISOM_ALIGNED_TEST_DIR):\n",
    "        return CHISOM_TRAIN_DIR, CHISOM_TEST_DIR, CHISOM_ALIGNED_TRAIN_DIR, CHISOM_ALIGNED_TEST_DIR\n",
    "    else:\n",
    "        return YISI_TRAIN_DIR, YISI_TEST_DIR, YISI_ALIGNED_TRAIN_DIR, YISI_ALIGNED_TEST_DIR"
   ]
  },
  {
   "cell_type": "code",
   "execution_count": 3,
   "metadata": {
    "pycharm": {
     "is_executing": false,
     "name": "#%%\n"
    }
   },
   "outputs": [
    {
     "data": {
      "text/plain": "('C:/Users/chiso/MEGA/data/train', 'C:/Users/chiso/MEGA/data/aligned_train')"
     },
     "metadata": {},
     "output_type": "execute_result",
     "execution_count": 3
    }
   ],
   "source": [
    "TRAIN_DIR, TEST_DIR, ALIGNED_TRAIN_DIR, ALIGNED_TEST_DIR = get_directories()\n",
    "TRAIN_DIR, ALIGNED_TRAIN_DIR"
   ]
  },
  {
   "cell_type": "code",
   "execution_count": 4,
   "metadata": {
    "pycharm": {
     "is_executing": false
    }
   },
   "outputs": [],
   "source": [
    "\"\"\"\n",
    "Auto Align Images\n",
    "\"\"\"\n",
    "def auto_align_images():\n",
    "    for folder in tqdm(os.listdir(TRAIN_DIR)):\n",
    "        full_path = f'{TRAIN_DIR}/{folder}'\n",
    "        aligned_path = f'{ALIGNED_TRAIN_DIR}/{folder}'\n",
    "        if not os.path.exists(aligned_path):\n",
    "            !python align_images.py \"{full_path}\" \"{aligned_path}\" --output_size=1048\n",
    "    !python align_images.py \"{TEST_DIR}\" \"{ALIGNED_TEST_DIR}\" --output_size=1048"
   ]
  },
  {
   "cell_type": "code",
   "execution_count": 5,
   "metadata": {
    "pycharm": {
     "is_executing": false,
     "name": "#%%\n"
    }
   },
   "outputs": [
    {
     "name": "stderr",
     "text": [
      "\r  0%|          | 0/38 [00:00<?, ?it/s]",
      "\r100%|██████████| 38/38 [00:00<00:00, 7622.72it/s]",
      "\n",
      "\n",
      "  0%|          | 0/23 [00:00<?, ?it/s]",
      "\n",
      "  9%|8         | 2/23 [00:01<00:15,  1.40it/s]",
      "\n",
      " 17%|#7        | 4/23 [00:02<00:12,  1.47it/s]",
      "\n",
      " 22%|##1       | 5/23 [00:05<00:25,  1.44s/it]",
      "\n",
      " 30%|###       | 7/23 [00:11<00:29,  1.87s/it]",
      "\n",
      " 35%|###4      | 8/23 [00:13<00:28,  1.92s/it]",
      "\n",
      " 39%|###9      | 9/23 [00:16<00:31,  2.25s/it]",
      "\n",
      " 48%|####7     | 11/23 [00:18<00:21,  1.82s/it]",
      "\n",
      " 52%|#####2    | 12/23 [00:21<00:23,  2.16s/it]",
      "\n",
      " 57%|#####6    | 13/23 [00:23<00:23,  2.32s/it]",
      "\n",
      " 61%|######    | 14/23 [00:25<00:18,  2.00s/it]",
      "\n",
      " 65%|######5   | 15/23 [00:26<00:15,  1.88s/it]",
      "\n",
      " 74%|#######3  | 17/23 [00:28<00:09,  1.52s/it]",
      "\n",
      " 78%|#######8  | 18/23 [00:31<00:10,  2.02s/it]",
      "\n",
      " 83%|########2 | 19/23 [00:32<00:07,  1.78s/it]",
      "\n",
      " 87%|########6 | 20/23 [00:35<00:06,  2.20s/it]",
      "\n",
      " 91%|#########1| 21/23 [00:36<00:03,  1.90s/it]",
      "\n",
      "100%|##########| 23/23 [00:36<00:00,  1.61s/it]",
      "\n"
     ],
     "output_type": "stream"
    },
    {
     "name": "stdout",
     "text": [
      "Directory  C:/Users/chiso/MEGA/data/aligned_test  already exists",
      "\n",
      "Aiden Starr.png already exists!",
      "\n",
      "Aligning Allie Haze.jpg ...",
      "\n",
      "Getting landmarks...",
      "\n",
      "Starting face alignment...",
      "\n",
      "Wrote result C:/Users/chiso/MEGA/data/aligned_test\\Allie Haze.png",
      "\n",
      "Andriana Chechik.png already exists!",
      "\n",
      "Aligning Ariella Ferrera.jpg ...",
      "\n",
      "Getting landmarks...",
      "\n",
      "Starting face alignment...",
      "\n",
      "Wrote result C:/Users/chiso/MEGA/data/aligned_test\\Ariella Ferrera.png",
      "\n",
      "Aligning Emily Willis.jpg ...",
      "\n",
      "Getting landmarks...",
      "\n",
      "Starting face alignment...",
      "\n",
      "Wrote result C:/Users/chiso/MEGA/data/aligned_test\\Emily Willis.png",
      "\n",
      "Evelina Darling.png already exists!",
      "\n",
      "Aligning Jessa Rhodes.jpg ...",
      "\n",
      "Getting landmarks...",
      "\n",
      "Starting face alignment...",
      "\n",
      "Wrote result C:/Users/chiso/MEGA/data/aligned_test\\Jessa Rhodes.png",
      "\n",
      "Aligning Jessica Bangkok.jpg ...",
      "\n",
      "Getting landmarks...",
      "\n",
      "Starting face alignment...",
      "\n",
      "Wrote result C:/Users/chiso/MEGA/data/aligned_test\\Jessica Bangkok.png",
      "\n",
      "Aligning Julia Ann.jpg ...",
      "\n",
      "Getting landmarks...",
      "\n",
      "Starting face alignment...",
      "\n",
      "Wrote result C:/Users/chiso/MEGA/data/aligned_test\\Julia Ann.png",
      "\n",
      "Krystal Boyd.png already exists!",
      "\n",
      "Aligning Lana Rhoades.jpg ...",
      "\n",
      "Getting landmarks...",
      "\n",
      "Starting face alignment...",
      "\n",
      "Wrote result C:/Users/chiso/MEGA/data/aligned_test\\Lana Rhoades.png",
      "\n",
      "Aligning Madison Ivy.jpg ...",
      "\n",
      "Getting landmarks...",
      "\n",
      "Starting face alignment...",
      "\n",
      "Wrote result C:/Users/chiso/MEGA/data/aligned_test\\Madison Ivy.png",
      "\n",
      "Aligning Marcelin Abadir.jpg ...",
      "\n",
      "Getting landmarks...",
      "\n",
      "Starting face alignment...",
      "\n",
      "Wrote result C:/Users/chiso/MEGA/data/aligned_test\\Marcelin Abadir.png",
      "\n",
      "Aligning Mellanie Monroe.jpg ...",
      "\n",
      "Getting landmarks...",
      "\n",
      "Starting face alignment...",
      "\n",
      "Wrote result C:/Users/chiso/MEGA/data/aligned_test\\Mellanie Monroe.png",
      "\n",
      "Aligning Mia Khalifa.jpg ...",
      "\n",
      "Getting landmarks...",
      "\n",
      "Starting face alignment...",
      "\n",
      "Wrote result C:/Users/chiso/MEGA/data/aligned_test\\Mia Khalifa.png",
      "\n",
      "Nicole Aniston.png already exists!",
      "\n",
      "Aligning Peta Jensen.jpg ...",
      "\n",
      "Getting landmarks...",
      "\n",
      "Starting face alignment...",
      "\n",
      "Wrote result C:/Users/chiso/MEGA/data/aligned_test\\Peta Jensen.png",
      "\n",
      "Aligning Riley Reid.jpg ...",
      "\n",
      "Getting landmarks...",
      "\n",
      "Starting face alignment...",
      "\n",
      "Wrote result C:/Users/chiso/MEGA/data/aligned_test\\Riley Reid.png",
      "\n",
      "Aligning Samantha Ryan.jpg ...",
      "\n",
      "Getting landmarks...",
      "\n",
      "Starting face alignment...",
      "\n",
      "Wrote result C:/Users/chiso/MEGA/data/aligned_test\\Samantha Ryan.png",
      "\n",
      "Aligning Stella Cox.jpg ...",
      "\n",
      "Getting landmarks...",
      "\n",
      "Starting face alignment...",
      "\n",
      "Wrote result C:/Users/chiso/MEGA/data/aligned_test\\Stella Cox.png",
      "\n",
      "Aligning Tanya Tate.jpg ...",
      "\n",
      "Getting landmarks...",
      "\n",
      "Starting face alignment...",
      "\n",
      "Wrote result C:/Users/chiso/MEGA/data/aligned_test\\Tanya Tate.png",
      "\n",
      "Valentina Nappi.png already exists!",
      "\n",
      "Zoey Holloway.png already exists!",
      "\n"
     ],
     "output_type": "stream"
    }
   ],
   "source": [
    "auto_align_images()"
   ]
  },
  {
   "cell_type": "code",
   "execution_count": 5,
   "outputs": [],
   "source": [
    "\n"
   ],
   "metadata": {
    "collapsed": false,
    "pycharm": {
     "name": "#%%\n",
     "is_executing": false
    }
   }
  }
 ],
 "metadata": {
  "kernelspec": {
   "display_name": "Python 3.6 (tensorflow-2.0)",
   "language": "python",
   "name": "tensorflow-2.0"
  },
  "language_info": {
   "codemirror_mode": {
    "name": "ipython",
    "version": 3
   },
   "file_extension": ".py",
   "mimetype": "text/x-python",
   "name": "python",
   "nbconvert_exporter": "python",
   "pygments_lexer": "ipython3",
   "version": "3.6.9"
  },
  "pycharm": {
   "stem_cell": {
    "cell_type": "raw",
    "source": [],
    "metadata": {
     "collapsed": false
    }
   }
  }
 },
 "nbformat": 4,
 "nbformat_minor": 1
}