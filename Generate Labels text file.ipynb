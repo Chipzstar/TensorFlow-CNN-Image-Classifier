{
 "cells": [
  {
   "cell_type": "code",
   "execution_count": 6,
   "metadata": {},
   "outputs": [],
   "source": [
    "import os\n",
    "from tqdm import tqdm"
   ]
  },
  {
   "cell_type": "code",
   "execution_count": 7,
   "metadata": {},
   "outputs": [],
   "source": [
    "# Check what folder to use for training and testing images\n",
    "CHISOM_ALIGNED_TRAIN_DIR = 'C:/Users/chiso/MEGA/data/aligned_train'\n",
    "YISI_ALIGNED_TRAIN_DIR = 'E:/MegaSync/data/aligned_train'\n",
    "\n",
    "def get_directories():\n",
    "    if os.path.exists(CHISOM_ALIGNED_TRAIN_DIR):\n",
    "        return CHISOM_ALIGNED_TRAIN_DIR\n",
    "    else:\n",
    "        return YISI_ALIGNED_TRAIN_DIR"
   ]
  },
  {
   "cell_type": "code",
   "execution_count": 8,
   "metadata": {},
   "outputs": [
    {
     "data": {
      "text/plain": [
       "'C:/Users/chiso/MEGA/data/aligned_train'"
      ]
     },
     "execution_count": 8,
     "metadata": {},
     "output_type": "execute_result"
    }
   ],
   "source": [
    "TRAIN_DIR, TEST_DIR, ALIGNED_TRAIN_DIR, ALIGNED_TEST_DIR = get_directories()\n",
    "ALIGNED_TRAIN_DIR"
   ]
  },
  {
   "cell_type": "code",
   "execution_count": 11,
   "metadata": {},
   "outputs": [],
   "source": [
    "def create_labels_file():\n",
    "    with open('labels.txt', 'w') as file:\n",
    "        for folder in tqdm(os.listdir(ALIGNED_TRAIN_DIR)):\n",
    "            file.write(str(folder+\"\\n\"))\n",
    "    # After leaving the above block of code, the file is closed"
   ]
  },
  {
   "cell_type": "code",
   "execution_count": 12,
   "metadata": {},
   "outputs": [
    {
     "name": "stderr",
     "output_type": "stream",
     "text": [
      "100%|██████████████████████████████████████████████████████████████████████████████████████████| 33/33 [00:00<?, ?it/s]\n"
     ]
    }
   ],
   "source": [
    "create_labels_file()"
   ]
  }
 ],
 "metadata": {
  "kernelspec": {
   "display_name": "Python 3.6 (tensorflow-2.0)",
   "language": "python",
   "name": "tensorflow-2.0"
  },
  "language_info": {
   "codemirror_mode": {
    "name": "ipython",
    "version": 3
   },
   "file_extension": ".py",
   "mimetype": "text/x-python",
   "name": "python",
   "nbconvert_exporter": "python",
   "pygments_lexer": "ipython3",
   "version": "3.6.9"
  }
 },
 "nbformat": 4,
 "nbformat_minor": 2
}
